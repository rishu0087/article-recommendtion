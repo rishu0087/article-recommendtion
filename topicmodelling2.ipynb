{
  "cells": [
    {
      "cell_type": "code",
      "execution_count": 1,
      "metadata": {
        "id": "PxtbvHu8XIyg"
      },
      "outputs": [],
      "source": [
        "import pandas as pd\n",
        "import re\n",
        "import string\n",
        "import numpy as np\n",
        "from sklearn.feature_extraction.text import CountVectorizer, TfidfTransformer\n",
        "import seaborn as sns\n",
        "import matplotlib.pyplot as plt"
      ]
    },
    {
      "cell_type": "code",
      "execution_count": 3,
      "metadata": {
        "id": "MCzyaOZIZpq7"
      },
      "outputs": [],
      "source": [
        "import gensim\n",
        "from gensim.utils import simple_preprocess\n",
        "from gensim.parsing.preprocessing import STOPWORDS\n",
        "from gensim import corpora, models\n",
        "import nltk\n",
        "from nltk.stem import WordNetLemmatizer, SnowballStemmer\n",
        "from nltk.stem.porter import *\n",
        "from nltk.corpus import stopwords\n",
        "from gensim.corpora import Dictionary\n",
        "from gensim.models import CoherenceModel\n",
        "from operator import itemgetter\n",
        "from sklearn.decomposition import NMF\n",
        "from itertools import chain\n",
        "from sklearn.feature_extraction.text import TfidfVectorizer\n",
        "from gensim.models.nmf import Nmf\n",
        "import pickle"
      ]
    },
    {
      "cell_type": "code",
      "execution_count": null,
      "metadata": {
        "id": "61Nkxeeas8Hp"
      },
      "outputs": [],
      "source": [
        "# Run the utilty functions from the seperate notebook\n",
        "%run '/content/drive/MyDrive/Colab Notebooks/misc_functions.ipynb'"
      ]
    },
    {
      "attachments": {},
      "cell_type": "markdown",
      "metadata": {
        "id": "Hx4lXhQvzpJq"
      },
      "source": [
        "# DATA ANALYSIS"
      ]
    },
    {
      "cell_type": "code",
      "execution_count": 5,
      "metadata": {
        "colab": {
          "base_uri": "https://localhost:8080/"
        },
        "id": "O06XgpFIXs8c",
        "outputId": "f64973a3-35a8-4b60-f789-d8e97c720f46"
      },
      "outputs": [
        {
          "data": {
            "text/plain": [
              "337"
            ]
          },
          "execution_count": 5,
          "metadata": {},
          "output_type": "execute_result"
        }
      ],
      "source": [
        "data=pd.read_csv('D:/NLP/dataset/articles.csv')\n",
        "len(data)"
      ]
    },
    {
      "cell_type": "code",
      "execution_count": 6,
      "metadata": {
        "colab": {
          "base_uri": "https://localhost:8080/",
          "height": 206
        },
        "id": "vuEPZUEFYm8T",
        "outputId": "94670d57-0e4c-496a-e7f0-2f8eb94173b4"
      },
      "outputs": [
        {
          "data": {
            "text/html": [
              "<div>\n",
              "<style scoped>\n",
              "    .dataframe tbody tr th:only-of-type {\n",
              "        vertical-align: middle;\n",
              "    }\n",
              "\n",
              "    .dataframe tbody tr th {\n",
              "        vertical-align: top;\n",
              "    }\n",
              "\n",
              "    .dataframe thead th {\n",
              "        text-align: right;\n",
              "    }\n",
              "</style>\n",
              "<table border=\"1\" class=\"dataframe\">\n",
              "  <thead>\n",
              "    <tr style=\"text-align: right;\">\n",
              "      <th></th>\n",
              "      <th>author</th>\n",
              "      <th>claps</th>\n",
              "      <th>reading_time</th>\n",
              "      <th>link</th>\n",
              "      <th>title</th>\n",
              "      <th>text</th>\n",
              "    </tr>\n",
              "  </thead>\n",
              "  <tbody>\n",
              "    <tr>\n",
              "      <th>0</th>\n",
              "      <td>Justin Lee</td>\n",
              "      <td>8.3K</td>\n",
              "      <td>11</td>\n",
              "      <td>https://medium.com/swlh/chatbots-were-the-next...</td>\n",
              "      <td>Chatbots were the next big thing: what happene...</td>\n",
              "      <td>Oh, how the headlines blared:\\nChatbots were T...</td>\n",
              "    </tr>\n",
              "    <tr>\n",
              "      <th>1</th>\n",
              "      <td>Conor Dewey</td>\n",
              "      <td>1.4K</td>\n",
              "      <td>7</td>\n",
              "      <td>https://towardsdatascience.com/python-for-data...</td>\n",
              "      <td>Python for Data Science: 8 Concepts You May Ha...</td>\n",
              "      <td>If you’ve ever found yourself looking up the s...</td>\n",
              "    </tr>\n",
              "    <tr>\n",
              "      <th>2</th>\n",
              "      <td>William Koehrsen</td>\n",
              "      <td>2.8K</td>\n",
              "      <td>11</td>\n",
              "      <td>https://towardsdatascience.com/automated-featu...</td>\n",
              "      <td>Automated Feature Engineering in Python – Towa...</td>\n",
              "      <td>Machine learning is increasingly moving from h...</td>\n",
              "    </tr>\n",
              "    <tr>\n",
              "      <th>3</th>\n",
              "      <td>Gant Laborde</td>\n",
              "      <td>1.3K</td>\n",
              "      <td>7</td>\n",
              "      <td>https://medium.freecodecamp.org/machine-learni...</td>\n",
              "      <td>Machine Learning: how to go from Zero to Hero ...</td>\n",
              "      <td>If your understanding of A.I. and Machine Lear...</td>\n",
              "    </tr>\n",
              "    <tr>\n",
              "      <th>4</th>\n",
              "      <td>Emmanuel Ameisen</td>\n",
              "      <td>935</td>\n",
              "      <td>11</td>\n",
              "      <td>https://blog.insightdatascience.com/reinforcem...</td>\n",
              "      <td>Reinforcement Learning from scratch – Insight ...</td>\n",
              "      <td>Want to learn about applied Artificial Intelli...</td>\n",
              "    </tr>\n",
              "  </tbody>\n",
              "</table>\n",
              "</div>"
            ],
            "text/plain": [
              "             author claps  reading_time  \\\n",
              "0        Justin Lee  8.3K            11   \n",
              "1       Conor Dewey  1.4K             7   \n",
              "2  William Koehrsen  2.8K            11   \n",
              "3      Gant Laborde  1.3K             7   \n",
              "4  Emmanuel Ameisen   935            11   \n",
              "\n",
              "                                                link  \\\n",
              "0  https://medium.com/swlh/chatbots-were-the-next...   \n",
              "1  https://towardsdatascience.com/python-for-data...   \n",
              "2  https://towardsdatascience.com/automated-featu...   \n",
              "3  https://medium.freecodecamp.org/machine-learni...   \n",
              "4  https://blog.insightdatascience.com/reinforcem...   \n",
              "\n",
              "                                               title  \\\n",
              "0  Chatbots were the next big thing: what happene...   \n",
              "1  Python for Data Science: 8 Concepts You May Ha...   \n",
              "2  Automated Feature Engineering in Python – Towa...   \n",
              "3  Machine Learning: how to go from Zero to Hero ...   \n",
              "4  Reinforcement Learning from scratch – Insight ...   \n",
              "\n",
              "                                                text  \n",
              "0  Oh, how the headlines blared:\\nChatbots were T...  \n",
              "1  If you’ve ever found yourself looking up the s...  \n",
              "2  Machine learning is increasingly moving from h...  \n",
              "3  If your understanding of A.I. and Machine Lear...  \n",
              "4  Want to learn about applied Artificial Intelli...  "
            ]
          },
          "execution_count": 6,
          "metadata": {},
          "output_type": "execute_result"
        }
      ],
      "source": [
        "data.head(5)"
      ]
    },
    {
      "cell_type": "code",
      "execution_count": 7,
      "metadata": {
        "colab": {
          "base_uri": "https://localhost:8080/",
          "height": 206
        },
        "id": "4BA5FgZ_us-F",
        "outputId": "7b168b85-29c8-4021-e56f-7ab56e498c9d"
      },
      "outputs": [
        {
          "data": {
            "text/html": [
              "<div>\n",
              "<style scoped>\n",
              "    .dataframe tbody tr th:only-of-type {\n",
              "        vertical-align: middle;\n",
              "    }\n",
              "\n",
              "    .dataframe tbody tr th {\n",
              "        vertical-align: top;\n",
              "    }\n",
              "\n",
              "    .dataframe thead th {\n",
              "        text-align: right;\n",
              "    }\n",
              "</style>\n",
              "<table border=\"1\" class=\"dataframe\">\n",
              "  <thead>\n",
              "    <tr style=\"text-align: right;\">\n",
              "      <th></th>\n",
              "      <th>author</th>\n",
              "      <th>claps</th>\n",
              "      <th>reading_time</th>\n",
              "      <th>link</th>\n",
              "      <th>title</th>\n",
              "      <th>text</th>\n",
              "    </tr>\n",
              "  </thead>\n",
              "  <tbody>\n",
              "    <tr>\n",
              "      <th>0</th>\n",
              "      <td>Justin Lee</td>\n",
              "      <td>8.3K</td>\n",
              "      <td>11</td>\n",
              "      <td>https://medium.com/swlh/chatbots-were-the-next...</td>\n",
              "      <td>Chatbots were the next big thing: what happene...</td>\n",
              "      <td>Oh, how the headlines blared:\\nChatbots were T...</td>\n",
              "    </tr>\n",
              "    <tr>\n",
              "      <th>1</th>\n",
              "      <td>Conor Dewey</td>\n",
              "      <td>1.4K</td>\n",
              "      <td>7</td>\n",
              "      <td>https://towardsdatascience.com/python-for-data...</td>\n",
              "      <td>Python for Data Science: 8 Concepts You May Ha...</td>\n",
              "      <td>If you’ve ever found yourself looking up the s...</td>\n",
              "    </tr>\n",
              "    <tr>\n",
              "      <th>2</th>\n",
              "      <td>William Koehrsen</td>\n",
              "      <td>2.8K</td>\n",
              "      <td>11</td>\n",
              "      <td>https://towardsdatascience.com/automated-featu...</td>\n",
              "      <td>Automated Feature Engineering in Python – Towa...</td>\n",
              "      <td>Machine learning is increasingly moving from h...</td>\n",
              "    </tr>\n",
              "    <tr>\n",
              "      <th>3</th>\n",
              "      <td>Gant Laborde</td>\n",
              "      <td>1.3K</td>\n",
              "      <td>7</td>\n",
              "      <td>https://medium.freecodecamp.org/machine-learni...</td>\n",
              "      <td>Machine Learning: how to go from Zero to Hero ...</td>\n",
              "      <td>If your understanding of A.I. and Machine Lear...</td>\n",
              "    </tr>\n",
              "    <tr>\n",
              "      <th>4</th>\n",
              "      <td>Emmanuel Ameisen</td>\n",
              "      <td>935</td>\n",
              "      <td>11</td>\n",
              "      <td>https://blog.insightdatascience.com/reinforcem...</td>\n",
              "      <td>Reinforcement Learning from scratch – Insight ...</td>\n",
              "      <td>Want to learn about applied Artificial Intelli...</td>\n",
              "    </tr>\n",
              "  </tbody>\n",
              "</table>\n",
              "</div>"
            ],
            "text/plain": [
              "             author claps  reading_time  \\\n",
              "0        Justin Lee  8.3K            11   \n",
              "1       Conor Dewey  1.4K             7   \n",
              "2  William Koehrsen  2.8K            11   \n",
              "3      Gant Laborde  1.3K             7   \n",
              "4  Emmanuel Ameisen   935            11   \n",
              "\n",
              "                                                link  \\\n",
              "0  https://medium.com/swlh/chatbots-were-the-next...   \n",
              "1  https://towardsdatascience.com/python-for-data...   \n",
              "2  https://towardsdatascience.com/automated-featu...   \n",
              "3  https://medium.freecodecamp.org/machine-learni...   \n",
              "4  https://blog.insightdatascience.com/reinforcem...   \n",
              "\n",
              "                                               title  \\\n",
              "0  Chatbots were the next big thing: what happene...   \n",
              "1  Python for Data Science: 8 Concepts You May Ha...   \n",
              "2  Automated Feature Engineering in Python – Towa...   \n",
              "3  Machine Learning: how to go from Zero to Hero ...   \n",
              "4  Reinforcement Learning from scratch – Insight ...   \n",
              "\n",
              "                                                text  \n",
              "0  Oh, how the headlines blared:\\nChatbots were T...  \n",
              "1  If you’ve ever found yourself looking up the s...  \n",
              "2  Machine learning is increasingly moving from h...  \n",
              "3  If your understanding of A.I. and Machine Lear...  \n",
              "4  Want to learn about applied Artificial Intelli...  "
            ]
          },
          "execution_count": 7,
          "metadata": {},
          "output_type": "execute_result"
        }
      ],
      "source": [
        "data.head(5)"
      ]
    },
    {
      "cell_type": "code",
      "execution_count": 8,
      "metadata": {
        "colab": {
          "base_uri": "https://localhost:8080/",
          "height": 480
        },
        "id": "1RVMuNsEYpsP",
        "outputId": "14d1c655-9ec3-4101-93c0-63081fa63f91"
      },
      "outputs": [
        {
          "name": "stderr",
          "output_type": "stream",
          "text": [
            "C:\\Users\\rishabh\\AppData\\Local\\Temp\\ipykernel_17136\\2420952862.py:2: UserWarning: \n",
            "\n",
            "`distplot` is a deprecated function and will be removed in seaborn v0.14.0.\n",
            "\n",
            "Please adapt your code to use either `displot` (a figure-level function with\n",
            "similar flexibility) or `histplot` (an axes-level function for histograms).\n",
            "\n",
            "For a guide to updating your code to use the new functions, please see\n",
            "https://gist.github.com/mwaskom/de44147ed2974457ad6372750bbe5751\n",
            "\n",
            "  sns.distplot(data['length_text'], color=\"r\")\n"
          ]
        },
        {
          "data": {
            "image/png": "[encoded data removed]",
            "text/plain": [
              "<Figure size 640x480 with 1 Axes>"
            ]
          },
          "metadata": {},
          "output_type": "display_data"
        }
      ],
      "source": [
        "data['length_text'] = data['text'].str.len()\n",
        "sns.distplot(data['length_text'], color=\"r\")\n",
        "plt.show()"
      ]
    },
    {
      "cell_type": "code",
      "execution_count": 9,
      "metadata": {
        "colab": {
          "base_uri": "https://localhost:8080/",
          "height": 480
        },
        "id": "CSFRBd16Y6Hj",
        "outputId": "dcd4800c-493d-45d0-f0ce-06c2e3dac5d4"
      },
      "outputs": [
        {
          "name": "stderr",
          "output_type": "stream",
          "text": [
            "C:\\Users\\rishabh\\AppData\\Local\\Temp\\ipykernel_17136\\1618706438.py:2: UserWarning: \n",
            "\n",
            "`distplot` is a deprecated function and will be removed in seaborn v0.14.0.\n",
            "\n",
            "Please adapt your code to use either `displot` (a figure-level function with\n",
            "similar flexibility) or `histplot` (an axes-level function for histograms).\n",
            "\n",
            "For a guide to updating your code to use the new functions, please see\n",
            "https://gist.github.com/mwaskom/de44147ed2974457ad6372750bbe5751\n",
            "\n",
            "  sns.distplot(data['length_title'], color=\"r\")\n"
          ]
        },
        {
          "data": {
            "image/png": "[encoded data removed]",
            "text/plain": [
              "<Figure size 640x480 with 1 Axes>"
            ]
          },
          "metadata": {},
          "output_type": "display_data"
        }
      ],
      "source": [
        "data['length_title'] = data['title'].str.len()\n",
        "sns.distplot(data['length_title'], color=\"r\")\n",
        "plt.show()"
      ]
    },
    {
      "cell_type": "code",
      "execution_count": 10,
      "metadata": {
        "colab": {
          "base_uri": "https://localhost:8080/",
          "height": 284
        },
        "id": "M3dMzUOlvHtl",
        "outputId": "ed289d4b-fdf7-4e49-e758-d557d34a9fc9"
      },
      "outputs": [
        {
          "data": {
            "text/plain": [
              "<Axes: >"
            ]
          },
          "execution_count": 10,
          "metadata": {},
          "output_type": "execute_result"
        },
        {
          "data": {
            "image/png": "[encoded data removed]",
            "text/plain": [
              "<Figure size 640x480 with 1 Axes>"
            ]
          },
          "metadata": {},
          "output_type": "display_data"
        }
      ],
      "source": [
        "sns.boxplot(data=data[[\"length_text\"]])\n",
        "# plt.show()"
      ]
    },
    {
      "cell_type": "code",
      "execution_count": 11,
      "metadata": {
        "colab": {
          "base_uri": "https://localhost:8080/"
        },
        "id": "5rD5-ZWpuAeR",
        "outputId": "f0a61a47-2100-4805-fac7-90a88d6141d1"
      },
      "outputs": [
        {
          "data": {
            "text/plain": [
              "11120.160237388724"
            ]
          },
          "execution_count": 11,
          "metadata": {},
          "output_type": "execute_result"
        }
      ],
      "source": [
        "# Get the word count\n",
        "data['length_text'].mean()"
      ]
    },
    {
      "cell_type": "code",
      "execution_count": 12,
      "metadata": {
        "id": "JWgqarhiY-Um"
      },
      "outputs": [],
      "source": [
        "titles = [x for x in data['title']]\n",
        "docs = [x for x in data['text']]"
      ]
    },
    {
      "cell_type": "code",
      "execution_count": 13,
      "metadata": {
        "colab": {
          "base_uri": "https://localhost:8080/"
        },
        "id": "ZamD6s_GRtxP",
        "outputId": "6f7746c8-b392-456e-8175-a9ed8ca55668"
      },
      "outputs": [
        {
          "name": "stdout",
          "output_type": "stream",
          "text": [
            "337\n"
          ]
        }
      ],
      "source": [
        "print(len(data['text']))"
      ]
    },
    {
      "attachments": {},
      "cell_type": "markdown",
      "metadata": {
        "id": "sQDtLbhnztxY"
      },
      "source": [
        "# TEXT PREPROCESSING"
      ]
    },
    {
      "cell_type": "code",
      "execution_count": 14,
      "metadata": {
        "colab": {
          "base_uri": "https://localhost:8080/"
        },
        "id": "7fs7EaVeZA2u",
        "outputId": "81f80248-db5e-4cc3-c015-533357ec81e8"
      },
      "outputs": [
        {
          "name": "stderr",
          "output_type": "stream",
          "text": [
            "[nltk_data] Downloading package stopwords to\n",
            "[nltk_data]     C:\\Users\\rishabh\\AppData\\Roaming\\nltk_data...\n",
            "[nltk_data]   Unzipping corpora\\stopwords.zip.\n"
          ]
        },
        {
          "data": {
            "text/plain": [
              "True"
            ]
          },
          "execution_count": 14,
          "metadata": {},
          "output_type": "execute_result"
        }
      ],
      "source": [
        "nltk.download('stopwords')"
      ]
    },
    {
      "cell_type": "code",
      "execution_count": 15,
      "metadata": {
        "id": "Nnl2lC2IZWOt"
      },
      "outputs": [],
      "source": [
        "stop_words = stopwords.words('english')\n",
        "stop_words.extend(['from', 'subject', 're', 'edu', 'use'])"
      ]
    },
    {
      "cell_type": "code",
      "execution_count": 16,
      "metadata": {
        "colab": {
          "base_uri": "https://localhost:8080/"
        },
        "id": "aL59aWZIbxpo",
        "outputId": "a71b5bc5-8d2b-4192-8059-d179c41c26bd"
      },
      "outputs": [
        {
          "name": "stderr",
          "output_type": "stream",
          "text": [
            "[nltk_data] Downloading package wordnet to\n",
            "[nltk_data]     C:\\Users\\rishabh\\AppData\\Roaming\\nltk_data...\n"
          ]
        },
        {
          "data": {
            "text/plain": [
              "True"
            ]
          },
          "execution_count": 16,
          "metadata": {},
          "output_type": "execute_result"
        }
      ],
      "source": [
        "nltk.download('wordnet')"
      ]
    },
    {
      "cell_type": "code",
      "execution_count": 17,
      "metadata": {
        "colab": {
          "base_uri": "https://localhost:8080/"
        },
        "id": "1gklGrxzb1xs",
        "outputId": "e8fb63b4-5589-4a40-e755-60828ebc911a"
      },
      "outputs": [
        {
          "name": "stderr",
          "output_type": "stream",
          "text": [
            "[nltk_data] Downloading package omw-1.4 to\n",
            "[nltk_data]     C:\\Users\\rishabh\\AppData\\Roaming\\nltk_data...\n"
          ]
        },
        {
          "data": {
            "text/plain": [
              "True"
            ]
          },
          "execution_count": 17,
          "metadata": {},
          "output_type": "execute_result"
        }
      ],
      "source": [
        "nltk.download('omw-1.4')"
      ]
    },
    {
      "cell_type": "code",
      "execution_count": 18,
      "metadata": {
        "id": "4pXvNGSWZX5c"
      },
      "outputs": [],
      "source": [
        "stemmer = SnowballStemmer('english')\n",
        "\n",
        "def lemmatize_stemming(text):\n",
        "    return stemmer.stem(WordNetLemmatizer().lemmatize(text, pos='v'))\n",
        "\n",
        "def preprocess(text):\n",
        "    result = []\n",
        "    for token in gensim.utils.simple_preprocess(text):\n",
        "        regex = re.compile('[' + re.escape(string.punctuation) + '0-9\\\\r\\\\t\\\\n]')\n",
        "        text = regex.sub(\" \", text.lower())\n",
        "        words = text.split(\" \")\n",
        "        words = [re.sub('\\S*@\\S*\\s?', '', sent) for sent in words]\n",
        "        words = [re.sub('\\s+', ' ', sent) for sent in words]\n",
        "        words = [re.sub(\"\\'\", \"\", sent) for sent in words]\n",
        "        if token not in stop_words and len(token) > 3:\n",
        "            result.append(lemmatize_stemming(token))\n",
        "    return result"
      ]
    },
    {
      "cell_type": "code",
      "execution_count": 19,
      "metadata": {
        "id": "iNx3EATaNreH"
      },
      "outputs": [
        {
          "ename": "KeyboardInterrupt",
          "evalue": "",
          "output_type": "error",
          "traceback": [
            "\u001b[1;31m---------------------------------------------------------------------------\u001b[0m",
            "\u001b[1;31mKeyboardInterrupt\u001b[0m                         Traceback (most recent call last)",
            "Cell \u001b[1;32mIn[19], line 3\u001b[0m\n\u001b[0;32m      1\u001b[0m df\u001b[39m=\u001b[39mpd\u001b[39m.\u001b[39mDataFrame(columns\u001b[39m=\u001b[39m[\u001b[39m\"\u001b[39m\u001b[39mdoc\u001b[39m\u001b[39m\"\u001b[39m])\n\u001b[0;32m      2\u001b[0m \u001b[39mfor\u001b[39;00m i \u001b[39min\u001b[39;00m \u001b[39mrange\u001b[39m(\u001b[39mlen\u001b[39m(data[\u001b[39m'\u001b[39m\u001b[39mtext\u001b[39m\u001b[39m'\u001b[39m])):\n\u001b[1;32m----> 3\u001b[0m   df\u001b[39m.\u001b[39mloc[\u001b[39mlen\u001b[39m(df\u001b[39m.\u001b[39mindex)] \u001b[39m=\u001b[39m [\u001b[39mstr\u001b[39m(preprocess(data[\u001b[39m'\u001b[39;49m\u001b[39mtext\u001b[39;49m\u001b[39m'\u001b[39;49m][i]))]\n\u001b[0;32m      5\u001b[0m \u001b[39mprint\u001b[39m(df)\n\u001b[0;32m      6\u001b[0m df\u001b[39m.\u001b[39mto_csv(\u001b[39m\"\u001b[39m\u001b[39mdocs.csv\u001b[39m\u001b[39m\"\u001b[39m)\n",
            "Cell \u001b[1;32mIn[18], line 13\u001b[0m, in \u001b[0;36mpreprocess\u001b[1;34m(text)\u001b[0m\n\u001b[0;32m     11\u001b[0m words \u001b[39m=\u001b[39m text\u001b[39m.\u001b[39msplit(\u001b[39m\"\u001b[39m\u001b[39m \u001b[39m\u001b[39m\"\u001b[39m)\n\u001b[0;32m     12\u001b[0m words \u001b[39m=\u001b[39m [re\u001b[39m.\u001b[39msub(\u001b[39m'\u001b[39m\u001b[39m\\\u001b[39m\u001b[39mS*@\u001b[39m\u001b[39m\\\u001b[39m\u001b[39mS*\u001b[39m\u001b[39m\\\u001b[39m\u001b[39ms?\u001b[39m\u001b[39m'\u001b[39m, \u001b[39m'\u001b[39m\u001b[39m'\u001b[39m, sent) \u001b[39mfor\u001b[39;00m sent \u001b[39min\u001b[39;00m words]\n\u001b[1;32m---> 13\u001b[0m words \u001b[39m=\u001b[39m [re\u001b[39m.\u001b[39msub(\u001b[39m'\u001b[39m\u001b[39m\\\u001b[39m\u001b[39ms+\u001b[39m\u001b[39m'\u001b[39m, \u001b[39m'\u001b[39m\u001b[39m \u001b[39m\u001b[39m'\u001b[39m, sent) \u001b[39mfor\u001b[39;00m sent \u001b[39min\u001b[39;00m words]\n\u001b[0;32m     14\u001b[0m words \u001b[39m=\u001b[39m [re\u001b[39m.\u001b[39msub(\u001b[39m\"\u001b[39m\u001b[39m\\'\u001b[39;00m\u001b[39m\"\u001b[39m, \u001b[39m\"\u001b[39m\u001b[39m\"\u001b[39m, sent) \u001b[39mfor\u001b[39;00m sent \u001b[39min\u001b[39;00m words]\n\u001b[0;32m     15\u001b[0m \u001b[39mif\u001b[39;00m token \u001b[39mnot\u001b[39;00m \u001b[39min\u001b[39;00m stop_words \u001b[39mand\u001b[39;00m \u001b[39mlen\u001b[39m(token) \u001b[39m>\u001b[39m \u001b[39m3\u001b[39m:\n",
            "Cell \u001b[1;32mIn[18], line 13\u001b[0m, in \u001b[0;36m<listcomp>\u001b[1;34m(.0)\u001b[0m\n\u001b[0;32m     11\u001b[0m words \u001b[39m=\u001b[39m text\u001b[39m.\u001b[39msplit(\u001b[39m\"\u001b[39m\u001b[39m \u001b[39m\u001b[39m\"\u001b[39m)\n\u001b[0;32m     12\u001b[0m words \u001b[39m=\u001b[39m [re\u001b[39m.\u001b[39msub(\u001b[39m'\u001b[39m\u001b[39m\\\u001b[39m\u001b[39mS*@\u001b[39m\u001b[39m\\\u001b[39m\u001b[39mS*\u001b[39m\u001b[39m\\\u001b[39m\u001b[39ms?\u001b[39m\u001b[39m'\u001b[39m, \u001b[39m'\u001b[39m\u001b[39m'\u001b[39m, sent) \u001b[39mfor\u001b[39;00m sent \u001b[39min\u001b[39;00m words]\n\u001b[1;32m---> 13\u001b[0m words \u001b[39m=\u001b[39m [re\u001b[39m.\u001b[39;49msub(\u001b[39m'\u001b[39;49m\u001b[39m\\\u001b[39;49m\u001b[39ms+\u001b[39;49m\u001b[39m'\u001b[39;49m, \u001b[39m'\u001b[39;49m\u001b[39m \u001b[39;49m\u001b[39m'\u001b[39;49m, sent) \u001b[39mfor\u001b[39;00m sent \u001b[39min\u001b[39;00m words]\n\u001b[0;32m     14\u001b[0m words \u001b[39m=\u001b[39m [re\u001b[39m.\u001b[39msub(\u001b[39m\"\u001b[39m\u001b[39m\\'\u001b[39;00m\u001b[39m\"\u001b[39m, \u001b[39m\"\u001b[39m\u001b[39m\"\u001b[39m, sent) \u001b[39mfor\u001b[39;00m sent \u001b[39min\u001b[39;00m words]\n\u001b[0;32m     15\u001b[0m \u001b[39mif\u001b[39;00m token \u001b[39mnot\u001b[39;00m \u001b[39min\u001b[39;00m stop_words \u001b[39mand\u001b[39;00m \u001b[39mlen\u001b[39m(token) \u001b[39m>\u001b[39m \u001b[39m3\u001b[39m:\n",
            "File \u001b[1;32mc:\\Users\\rishabh\\AppData\\Local\\Programs\\Python\\Python310\\lib\\re.py:209\u001b[0m, in \u001b[0;36msub\u001b[1;34m(pattern, repl, string, count, flags)\u001b[0m\n\u001b[0;32m    202\u001b[0m \u001b[39mdef\u001b[39;00m \u001b[39msub\u001b[39m(pattern, repl, string, count\u001b[39m=\u001b[39m\u001b[39m0\u001b[39m, flags\u001b[39m=\u001b[39m\u001b[39m0\u001b[39m):\n\u001b[0;32m    203\u001b[0m \u001b[39m    \u001b[39m\u001b[39m\"\"\"Return the string obtained by replacing the leftmost\u001b[39;00m\n\u001b[0;32m    204\u001b[0m \u001b[39m    non-overlapping occurrences of the pattern in string by the\u001b[39;00m\n\u001b[0;32m    205\u001b[0m \u001b[39m    replacement repl.  repl can be either a string or a callable;\u001b[39;00m\n\u001b[0;32m    206\u001b[0m \u001b[39m    if a string, backslash escapes in it are processed.  If it is\u001b[39;00m\n\u001b[0;32m    207\u001b[0m \u001b[39m    a callable, it's passed the Match object and must return\u001b[39;00m\n\u001b[0;32m    208\u001b[0m \u001b[39m    a replacement string to be used.\"\"\"\u001b[39;00m\n\u001b[1;32m--> 209\u001b[0m     \u001b[39mreturn\u001b[39;00m _compile(pattern, flags)\u001b[39m.\u001b[39msub(repl, string, count)\n",
            "File \u001b[1;32mc:\\Users\\rishabh\\AppData\\Local\\Programs\\Python\\Python310\\lib\\re.py:293\u001b[0m, in \u001b[0;36m_compile\u001b[1;34m(pattern, flags)\u001b[0m\n\u001b[0;32m    291\u001b[0m     flags \u001b[39m=\u001b[39m flags\u001b[39m.\u001b[39mvalue\n\u001b[0;32m    292\u001b[0m \u001b[39mtry\u001b[39;00m:\n\u001b[1;32m--> 293\u001b[0m     \u001b[39mreturn\u001b[39;00m _cache[\u001b[39mtype\u001b[39;49m(pattern), pattern, flags]\n\u001b[0;32m    294\u001b[0m \u001b[39mexcept\u001b[39;00m \u001b[39mKeyError\u001b[39;00m:\n\u001b[0;32m    295\u001b[0m     \u001b[39mpass\u001b[39;00m\n",
            "\u001b[1;31mKeyboardInterrupt\u001b[0m: "
          ]
        }
      ],
      "source": [
        "df=pd.DataFrame(columns=[\"doc\"])\n",
        "for i in range(len(data['text'])):\n",
        "  df.loc[len(df.index)] = [str(preprocess(data['text'][i]))]\n",
        "\n",
        "print(df)\n",
        "df.to_csv(\"docs.csv\")"
      ]
    },
    {
      "cell_type": "code",
      "execution_count": 20,
      "metadata": {
        "id": "deqa1DBmPbtM"
      },
      "outputs": [],
      "source": [
        "df=pd.read_csv('D:/NLP/dataset/docs.csv')"
      ]
    },
    {
      "cell_type": "code",
      "execution_count": 21,
      "metadata": {
        "colab": {
          "base_uri": "https://localhost:8080/",
          "height": 206
        },
        "id": "sjxY0yNcuRmH",
        "outputId": "3dec998c-1c5e-4548-8929-1af8cd5e1bc1"
      },
      "outputs": [
        {
          "data": {
            "text/html": [
              "<div>\n",
              "<style scoped>\n",
              "    .dataframe tbody tr th:only-of-type {\n",
              "        vertical-align: middle;\n",
              "    }\n",
              "\n",
              "    .dataframe tbody tr th {\n",
              "        vertical-align: top;\n",
              "    }\n",
              "\n",
              "    .dataframe thead th {\n",
              "        text-align: right;\n",
              "    }\n",
              "</style>\n",
              "<table border=\"1\" class=\"dataframe\">\n",
              "  <thead>\n",
              "    <tr style=\"text-align: right;\">\n",
              "      <th></th>\n",
              "      <th>docid</th>\n",
              "      <th>title</th>\n",
              "      <th>doc</th>\n",
              "    </tr>\n",
              "  </thead>\n",
              "  <tbody>\n",
              "    <tr>\n",
              "      <th>0</th>\n",
              "      <td>0</td>\n",
              "      <td>Chatbots were the next big thing: what happene...</td>\n",
              "      <td>['headlin', 'blare', 'chatbot', 'next', 'thing...</td>\n",
              "    </tr>\n",
              "    <tr>\n",
              "      <th>1</th>\n",
              "      <td>1</td>\n",
              "      <td>Python for Data Science: 8 Concepts You May Ha...</td>\n",
              "      <td>['ever', 'find', 'look', 'question', 'concept'...</td>\n",
              "    </tr>\n",
              "    <tr>\n",
              "      <th>2</th>\n",
              "      <td>2</td>\n",
              "      <td>Automated Feature Engineering in Python – Towa...</td>\n",
              "      <td>['machin', 'learn', 'increas', 'move', 'hand',...</td>\n",
              "    </tr>\n",
              "    <tr>\n",
              "      <th>3</th>\n",
              "      <td>3</td>\n",
              "      <td>Machine Learning: how to go from Zero to Hero ...</td>\n",
              "      <td>['understand', 'machin', 'learn', 'question', ...</td>\n",
              "    </tr>\n",
              "    <tr>\n",
              "      <th>4</th>\n",
              "      <td>4</td>\n",
              "      <td>Reinforcement Learning from scratch – Insight ...</td>\n",
              "      <td>['want', 'learn', 'appli', 'artifici', 'intell...</td>\n",
              "    </tr>\n",
              "  </tbody>\n",
              "</table>\n",
              "</div>"
            ],
            "text/plain": [
              "   docid                                              title  \\\n",
              "0      0  Chatbots were the next big thing: what happene...   \n",
              "1      1  Python for Data Science: 8 Concepts You May Ha...   \n",
              "2      2  Automated Feature Engineering in Python – Towa...   \n",
              "3      3  Machine Learning: how to go from Zero to Hero ...   \n",
              "4      4  Reinforcement Learning from scratch – Insight ...   \n",
              "\n",
              "                                                 doc  \n",
              "0  ['headlin', 'blare', 'chatbot', 'next', 'thing...  \n",
              "1  ['ever', 'find', 'look', 'question', 'concept'...  \n",
              "2  ['machin', 'learn', 'increas', 'move', 'hand',...  \n",
              "3  ['understand', 'machin', 'learn', 'question', ...  \n",
              "4  ['want', 'learn', 'appli', 'artifici', 'intell...  "
            ]
          },
          "execution_count": 21,
          "metadata": {},
          "output_type": "execute_result"
        }
      ],
      "source": [
        "df.head()"
      ]
    },
    {
      "cell_type": "code",
      "execution_count": 22,
      "metadata": {
        "id": "2cx55aS60ULA"
      },
      "outputs": [],
      "source": [
        "docs=[x for x in df[\"doc\"]]\n",
        "titles=[x for x in df[\"title\"]]"
      ]
    },
    {
      "cell_type": "code",
      "execution_count": 23,
      "metadata": {
        "id": "ZHwWkPSk5Hcr"
      },
      "outputs": [],
      "source": [
        "# print(docs[0].strip(\"[]\").replace(\"'\", '').split(\", \"))\n",
        "\n",
        "for i in range(len(docs)):\n",
        "  docs[i]=docs[i].strip(\"[]\").replace(\"'\", '').split(\", \")\n",
        "\n"
      ]
    },
    {
      "cell_type": "code",
      "execution_count": 24,
      "metadata": {
        "colab": {
          "base_uri": "https://localhost:8080/",
          "height": 206
        },
        "id": "w_-GMFlmpMmE",
        "outputId": "daedf638-1dfc-4710-b230-9652631d3acd"
      },
      "outputs": [
        {
          "data": {
            "text/html": [
              "<div>\n",
              "<style scoped>\n",
              "    .dataframe tbody tr th:only-of-type {\n",
              "        vertical-align: middle;\n",
              "    }\n",
              "\n",
              "    .dataframe tbody tr th {\n",
              "        vertical-align: top;\n",
              "    }\n",
              "\n",
              "    .dataframe thead th {\n",
              "        text-align: right;\n",
              "    }\n",
              "</style>\n",
              "<table border=\"1\" class=\"dataframe\">\n",
              "  <thead>\n",
              "    <tr style=\"text-align: right;\">\n",
              "      <th></th>\n",
              "      <th>docid</th>\n",
              "      <th>title</th>\n",
              "      <th>doc</th>\n",
              "    </tr>\n",
              "  </thead>\n",
              "  <tbody>\n",
              "    <tr>\n",
              "      <th>0</th>\n",
              "      <td>0</td>\n",
              "      <td>Chatbots were the next big thing: what happene...</td>\n",
              "      <td>['headlin', 'blare', 'chatbot', 'next', 'thing...</td>\n",
              "    </tr>\n",
              "    <tr>\n",
              "      <th>1</th>\n",
              "      <td>1</td>\n",
              "      <td>Python for Data Science: 8 Concepts You May Ha...</td>\n",
              "      <td>['ever', 'find', 'look', 'question', 'concept'...</td>\n",
              "    </tr>\n",
              "    <tr>\n",
              "      <th>2</th>\n",
              "      <td>2</td>\n",
              "      <td>Automated Feature Engineering in Python – Towa...</td>\n",
              "      <td>['machin', 'learn', 'increas', 'move', 'hand',...</td>\n",
              "    </tr>\n",
              "    <tr>\n",
              "      <th>3</th>\n",
              "      <td>3</td>\n",
              "      <td>Machine Learning: how to go from Zero to Hero ...</td>\n",
              "      <td>['understand', 'machin', 'learn', 'question', ...</td>\n",
              "    </tr>\n",
              "    <tr>\n",
              "      <th>4</th>\n",
              "      <td>4</td>\n",
              "      <td>Reinforcement Learning from scratch – Insight ...</td>\n",
              "      <td>['want', 'learn', 'appli', 'artifici', 'intell...</td>\n",
              "    </tr>\n",
              "  </tbody>\n",
              "</table>\n",
              "</div>"
            ],
            "text/plain": [
              "   docid                                              title  \\\n",
              "0      0  Chatbots were the next big thing: what happene...   \n",
              "1      1  Python for Data Science: 8 Concepts You May Ha...   \n",
              "2      2  Automated Feature Engineering in Python – Towa...   \n",
              "3      3  Machine Learning: how to go from Zero to Hero ...   \n",
              "4      4  Reinforcement Learning from scratch – Insight ...   \n",
              "\n",
              "                                                 doc  \n",
              "0  ['headlin', 'blare', 'chatbot', 'next', 'thing...  \n",
              "1  ['ever', 'find', 'look', 'question', 'concept'...  \n",
              "2  ['machin', 'learn', 'increas', 'move', 'hand',...  \n",
              "3  ['understand', 'machin', 'learn', 'question', ...  \n",
              "4  ['want', 'learn', 'appli', 'artifici', 'intell...  "
            ]
          },
          "execution_count": 24,
          "metadata": {},
          "output_type": "execute_result"
        }
      ],
      "source": [
        "df.rename(columns = {'Unnamed: 0':'docid'}, inplace = True)\n",
        "df.head()"
      ]
    },
    {
      "attachments": {},
      "cell_type": "markdown",
      "metadata": {
        "id": "rV5k5qygz0BN"
      },
      "source": [
        "# creating dictionary"
      ]
    },
    {
      "cell_type": "code",
      "execution_count": 25,
      "metadata": {
        "colab": {
          "base_uri": "https://localhost:8080/"
        },
        "id": "Rgne1BKC8s9u",
        "outputId": "640a8ead-5c2a-41a2-d855-2df6b631909a"
      },
      "outputs": [
        {
          "name": "stdout",
          "output_type": "stream",
          "text": [
            "Number of unique words in initital documents: 11540\n"
          ]
        }
      ],
      "source": [
        "dictionary = Dictionary(docs)\n",
        "print('Number of unique words in initital documents:', len(dictionary))"
      ]
    },
    {
      "cell_type": "code",
      "execution_count": 26,
      "metadata": {
        "colab": {
          "base_uri": "https://localhost:8080/"
        },
        "id": "rG1fW1iE9RNH",
        "outputId": "8b7b8bca-e4b9-4c7d-c89f-ea0c248a77d5"
      },
      "outputs": [
        {
          "name": "stdout",
          "output_type": "stream",
          "text": [
            "Number of unique words after removing rare and common words: 1791\n"
          ]
        }
      ],
      "source": [
        "dictionary.filter_extremes(no_below=10, no_above=0.2)\n",
        "print('Number of unique words after removing rare and common words:', len(dictionary))"
      ]
    },
    {
      "attachments": {},
      "cell_type": "markdown",
      "metadata": {
        "id": "rLrGfnIez36u"
      },
      "source": [
        "# corpus"
      ]
    },
    {
      "cell_type": "code",
      "execution_count": 27,
      "metadata": {
        "colab": {
          "base_uri": "https://localhost:8080/"
        },
        "id": "4k_JnaLv9XJa",
        "outputId": "906dcafd-0303-42c6-fd30-2f65735b1312"
      },
      "outputs": [
        {
          "name": "stdout",
          "output_type": "stream",
          "text": [
            "Word 33 (\"command\") appears 1 time.\n",
            "Word 91 (\"gate\") appears 1 time.\n",
            "Word 97 (\"hide\") appears 1 time.\n",
            "Word 101 (\"https\") appears 1 time.\n",
            "Word 144 (\"multi\") appears 1 time.\n",
            "Word 190 (\"scene\") appears 1 time.\n",
            "Word 216 (\"termin\") appears 1 time.\n",
            "Word 240 (\"column\") appears 6 time.\n",
            "Word 241 (\"comprehens\") appears 1 time.\n",
            "Word 269 (\"matrix\") appears 1 time.\n",
            "Word 333 (\"correl\") appears 2 time.\n",
            "Word 357 (\"github\") appears 1 time.\n",
            "Word 366 (\"irrelev\") appears 1 time.\n",
            "Word 383 (\"readi\") appears 1 time.\n",
            "Word 386 (\"relationship\") appears 3 time.\n",
            "Word 406 (\"adjust\") appears 2 time.\n",
            "Word 411 (\"andrew\") appears 1 time.\n",
            "Word 412 (\"anim\") appears 1 time.\n",
            "Word 435 (\"guess\") appears 1 time.\n",
            "Word 460 (\"neuron\") appears 4 time.\n",
            "Word 469 (\"propag\") appears 2 time.\n",
            "Word 498 (\"adapt\") appears 1 time.\n",
            "Word 531 (\"enabl\") appears 1 time.\n",
            "Word 535 (\"explan\") appears 1 time.\n",
            "Word 629 (\"diagram\") appears 2 time.\n",
            "Word 634 (\"earlier\") appears 1 time.\n",
            "Word 668 (\"nonlinear\") appears 1 time.\n",
            "Word 673 (\"pixel\") appears 2 time.\n",
            "Word 704 (\"appl\") appears 2 time.\n",
            "Word 744 (\"trend\") appears 2 time.\n",
            "Word 749 (\"assign\") appears 1 time.\n",
            "Word 789 (\"econom\") appears 1 time.\n",
            "Word 904 (\"third\") appears 1 time.\n",
            "Word 913 (\"visualis\") appears 1 time.\n",
            "Word 948 (\"discov\") appears 1 time.\n",
            "Word 1023 (\"handl\") appears 1 time.\n",
            "Word 1035 (\"lot\") appears 1 time.\n",
            "Word 1049 (\"oxford\") appears 1 time.\n",
            "Word 1076 (\"super\") appears 1 time.\n",
            "Word 1087 (\"backward\") appears 1 time.\n",
            "Word 1117 (\"situat\") appears 1 time.\n",
            "Word 1140 (\"feed\") appears 1 time.\n",
            "Word 1156 (\"smarter\") appears 1 time.\n",
            "Word 1180 (\"invent\") appears 1 time.\n",
            "Word 1195 (\"trick\") appears 1 time.\n",
            "Word 1313 (\"editor\") appears 1 time.\n",
            "Word 1449 (\"latest\") appears 1 time.\n",
            "Word 1522 (\"exhibit\") appears 1 time.\n",
            "Word 1542 (\"submit\") appears 1 time.\n",
            "Word 1674 (\"wild\") appears 1 time.\n",
            "Word 1714 (\"approv\") appears 1 time.\n",
            "Word 1721 (\"polit\") appears 1 time.\n",
            "Word 1726 (\"permiss\") appears 1 time.\n",
            "Word 1761 (\"behaviour\") appears 2 time.\n"
          ]
        }
      ],
      "source": [
        "corpus = [dictionary.doc2bow(doc) for doc in docs]\n",
        "\n",
        "bow_doc_300 = corpus[300]\n",
        "\n",
        "for i in range(len(bow_doc_300)):\n",
        "    print(\"Word {} (\\\"{}\\\") appears {} time.\".format(bow_doc_300[i][0], \n",
        "                                                     dictionary[bow_doc_300[i][0]], \n",
        "                                                     bow_doc_300[i][1]))"
      ]
    },
    {
      "attachments": {},
      "cell_type": "markdown",
      "metadata": {
        "id": "qhAuGasTBoJe"
      },
      "source": [
        "# **TF-IDF**"
      ]
    },
    {
      "cell_type": "code",
      "execution_count": 28,
      "metadata": {
        "id": "gxfkKwFqBneI"
      },
      "outputs": [],
      "source": [
        "tfidf = models.TfidfModel(corpus)\n",
        "corpus_tfidf = tfidf[corpus]"
      ]
    },
    {
      "attachments": {},
      "cell_type": "markdown",
      "metadata": {
        "id": "l9NShAM9z8s_"
      },
      "source": [
        "# tokens with their weights"
      ]
    },
    {
      "cell_type": "code",
      "execution_count": 29,
      "metadata": {
        "colab": {
          "base_uri": "https://localhost:8080/"
        },
        "id": "27P4dTaYCIGZ",
        "outputId": "ef7539c1-1971-4718-81f7-32730d45509a"
      },
      "outputs": [
        {
          "name": "stdout",
          "output_type": "stream",
          "text": [
            "[(0, 0.029536794106488275),\n",
            " (1, 0.04932118375698478),\n",
            " (2, 0.048866785491180044),\n",
            " (3, 0.036473260133092114),\n",
            " (4, 0.04932118375698478),\n",
            " (5, 0.032580400341650634),\n",
            " (6, 0.026204241320937433),\n",
            " (7, 0.03175535843738511),\n",
            " (8, 0.038917985288197954),\n",
            " (9, 0.02329279126782169),\n",
            " (10, 0.272142212185094),\n",
            " (11, 0.042730949324349565),\n",
            " (12, 0.022861321313386695),\n",
            " (13, 0.03175535843738511),\n",
            " (14, 0.0235136094868542),\n",
            " (15, 0.04564239937746531),\n",
            " (16, 0.02703745674167811),\n",
            " (17, 0.45349463942917995),\n",
            " (18, 0.033457039975221654),\n",
            " (19, 0.07528481859447801),\n",
            " (20, 0.03960210472872084),\n",
            " (21, 0.043635886983904956),\n",
            " (22, 0.052408482641874865),\n",
            " (23, 0.03136035577818993),\n",
            " (24, 0.02567505900511011),\n",
            " (25, 0.03439216422795616),\n",
            " (26, 0.45349463942917995),\n",
            " (27, 0.08727177396780991),\n",
            " (28, 0.04188089105820102),\n",
            " (29, 0.04615079345061741),\n",
            " (30, 0.055243554836873036),\n",
            " (31, 0.028231511182561203),\n",
            " (32, 0.029536794106488275),\n",
            " (33, 0.06783361591128204),\n",
            " (34, 0.07781146161568825),\n",
            " (35, 0.03391680795564102),\n",
            " (36, 0.032580400341650634),\n",
            " (37, 0.026754181104828172),\n",
            " (38, 0.04460328206127778),\n",
            " (39, 0.03391680795564102),\n",
            " (40, 0.026204241320937433),\n",
            " (41, 0.033457039975221654),\n",
            " (42, 0.03704565255126975),\n",
            " (43, 0.03592332034920137),\n",
            " (44, 0.04460328206127778),\n",
            " (45, 0.029536794106488275),\n",
            " (46, 0.023075396725308703),\n",
            " (47, 0.03136035577818993),\n",
            " (48, 0.05135011801022022),\n",
            " (49, 0.027326573523005805),\n",
            " (50, 0.02419772892737708),\n",
            " (51, 0.07078827606674809),\n",
            " (52, 0.08215886961290773),\n",
            " (53, 0.02491694642656663),\n",
            " (54, 0.04564239937746531),\n",
            " (55, 0.04676473157953368),\n",
            " (56, 0.042730949324349565),\n",
            " (57, 0.030602243199646446),\n",
            " (58, 0.03136035577818993),\n",
            " (59, 0.03592332034920137),\n",
            " (60, 0.033457039975221654),\n",
            " (61, 0.03391680795564102),\n",
            " (62, 0.037642409297239006),\n",
            " (63, 0.02373796094695772),\n",
            " (64, 0.030976176482802),\n",
            " (65, 0.02265046520284861),\n",
            " (66, 0.029536794106488275),\n",
            " (67, 0.07653139422946091),\n",
            " (68, 0.047984776142994394),\n",
            " (69, 0.03592332034920137),\n",
            " (70, 0.02541777349083779),\n",
            " (71, 0.03488420303301384),\n",
            " (72, 0.03592332034920137),\n",
            " (73, 0.03960210472872084),\n",
            " (74, 0.02703745674167811),\n",
            " (75, 0.030976176482802),\n",
            " (76, 0.028546618086466514),\n",
            " (77, 0.033457039975221654),\n",
            " (78, 0.11537698362654353),\n",
            " (79, 0.05773793891634478),\n",
            " (80, 0.023075396725308703),\n",
            " (81, 0.02703745674167811),\n",
            " (82, 0.03216181202993707),\n",
            " (83, 0.03301187029608562),\n",
            " (84, 0.02373796094695772),\n",
            " (85, 0.028231511182561203),\n",
            " (86, 0.033457039975221654),\n",
            " (87, 0.03960210472872084),\n",
            " (88, 0.02886896945817239),\n",
            " (89, 0.04460328206127778),\n",
            " (90, 0.02541777349083779),\n",
            " (91, 0.07653139422946091),\n",
            " (92, 0.12544142311275971),\n",
            " (93, 0.07078827606674809),\n",
            " (94, 0.03704565255126975),\n",
            " (95, 0.08920656412255556),\n",
            " (96, 0.033457039975221654),\n",
            " (97, 0.0251651240047499),\n",
            " (98, 0.04839545785475416),\n",
            " (99, 0.025937153871896084),\n",
            " (100, 0.06878432845591231),\n",
            " (101, 0.02329279126782169),\n",
            " (102, 0.04032132222791039),\n",
            " (103, 0.20539717403226937),\n",
            " (104, 0.038917985288197954),\n",
            " (105, 0.027621777418436518),\n",
            " (106, 0.025937153871896084),\n",
            " (107, 0.028546618086466514),\n",
            " (108, 0.033457039975221654),\n",
            " (109, 0.04658558253564338),\n",
            " (110, 0.03391680795564102),\n",
            " (111, 0.032580400341650634),\n",
            " (112, 0.05187430774379217),\n",
            " (113, 0.04932118375698478),\n",
            " (114, 0.17972541303577078),\n",
            " (115, 0.022861321313386695),\n",
            " (116, 0.02329279126782169),\n",
            " (117, 0.03175535843738511),\n",
            " (118, 0.04032132222791039),\n",
            " (119, 0.04460328206127778),\n",
            " (120, 0.04032132222791039),\n",
            " (121, 0.025937153871896084),\n",
            " (122, 0.03301187029608562),\n",
            " (123, 0.03488420303301384),\n",
            " (124, 0.02886896945817239),\n",
            " (125, 0.033457039975221654),\n",
            " (126, 0.03960210472872084),\n",
            " (127, 0.02265046520284861),\n",
            " (128, 0.025937153871896084),\n",
            " (129, 0.04676473157953368),\n",
            " (130, 0.038265697114730456),\n",
            " (131, 0.03439216422795616),\n",
            " (132, 0.03391680795564102),\n",
            " (133, 0.030238023576121553),\n",
            " (134, 0.026476515256857253),\n",
            " (135, 0.03488420303301384),\n",
            " (136, 0.038265697114730456),\n",
            " (137, 0.038265697114730456),\n",
            " (138, 0.08469453354768361),\n",
            " (139, 0.042730949324349565),\n",
            " (140, 0.03175535843738511),\n",
            " (141, 0.0470272189737084),\n",
            " (142, 0.028546618086466514),\n",
            " (143, 0.048866785491180044),\n",
            " (144, 0.0251651240047499),\n",
            " (145, 0.032580400341650634),\n",
            " (146, 0.03175535843738511),\n",
            " (147, 0.04032132222791039),\n",
            " (148, 0.026476515256857253),\n",
            " (149, 0.02265046520284861),\n",
            " (150, 0.027923330268975064),\n",
            " (151, 0.03175535843738511),\n",
            " (152, 0.026204241320937433),\n",
            " (153, 0.03592332034920137),\n",
            " (154, 0.03960210472872084),\n",
            " (155, 0.04460328206127778),\n",
            " (156, 0.047984776142994394),\n",
            " (157, 0.03704565255126975),\n",
            " (158, 0.02886896945817239),\n",
            " (159, 0.03391680795564102),\n",
            " (160, 0.027621777418436518),\n",
            " (161, 0.09773357098236009),\n",
            " (162, 0.04564239937746531),\n",
            " (163, 0.038265697114730456),\n",
            " (164, 0.029198906259934022),\n",
            " (165, 0.035394138033374045),\n",
            " (166, 0.03704565255126975),\n",
            " (167, 0.06878432845591231),\n",
            " (168, 0.03301187029608562),\n",
            " (169, 0.04564239937746531),\n",
            " (170, 0.04658558253564338),\n",
            " (171, 0.03175535843738511),\n",
            " (172, 0.04460328206127778),\n",
            " (173, 0.029536794106488275),\n",
            " (174, 0.03216181202993707),\n",
            " (175, 0.04107943480645387),\n",
            " (176, 0.04460328206127778),\n",
            " (177, 0.03704565255126975),\n",
            " (178, 0.07783597057639591),\n",
            " (179, 0.02567505900511011),\n",
            " (180, 0.038917985288197954),\n",
            " (181, 0.04932118375698478),\n",
            " (182, 0.02396596055775596),\n",
            " (183, 0.0740913051025395),\n",
            " (184, 0.04564239937746531),\n",
            " (185, 0.04107943480645387),\n",
            " (186, 0.035394138033374045),\n",
            " (187, 0.04188089105820102),\n",
            " (188, 0.11479709134419137),\n",
            " (189, 0.042730949324349565),\n",
            " (190, 0.03704565255126975),\n",
            " (191, 0.029536794106488275),\n",
            " (192, 0.028546618086466514),\n",
            " (193, 0.024433392745590022),\n",
            " (194, 0.03216181202993707),\n",
            " (195, 0.06351071687477022),\n",
            " (196, 0.04793192111551192),\n",
            " (197, 0.0251651240047499),\n",
            " (198, 0.0740913051025395),\n",
            " (199, 0.023075396725308703),\n",
            " (200, 0.04460328206127778),\n",
            " (201, 0.06120448639929289),\n",
            " (202, 0.07625332047251338),\n",
            " (203, 0.0503302480094998),\n",
            " (204, 0.04564239937746531),\n",
            " (205, 0.03301187029608562),\n",
            " (206, 0.022861321313386695),\n",
            " (207, 0.04572264262677339),\n",
            " (208, 0.042730949324349565),\n",
            " (209, 0.038917985288197954),\n",
            " (210, 0.04107943480645387),\n",
            " (211, 0.043635886983904956),\n",
            " (212, 0.08727177396780991),\n",
            " (213, 0.04564239937746531),\n",
            " (214, 0.04932118375698478),\n",
            " (215, 0.0251651240047499),\n",
            " (216, 0.03391680795564102),\n",
            " (217, 0.032580400341650634),\n",
            " (218, 0.04460328206127778),\n",
            " (219, 0.05773793891634478),\n",
            " (220, 0.026476515256857253),\n",
            " (221, 0.038265697114730456),\n",
            " (222, 0.04564239937746531),\n",
            " (223, 0.025937153871896084),\n",
            " (224, 0.027621777418436518),\n",
            " (225, 0.06432362405987414),\n",
            " (226, 0.04107943480645387),\n",
            " (227, 0.027326573523005805),\n",
            " (228, 0.03592332034920137),\n",
            " (229, 0.030602243199646446),\n",
            " (230, 0.060476047152243105),\n",
            " (231, 0.04934617039938443)]\n"
          ]
        }
      ],
      "source": [
        "from pprint import pprint\n",
        "\n",
        "for x in corpus_tfidf:\n",
        "    pprint(x)\n",
        "    break"
      ]
    },
    {
      "attachments": {},
      "cell_type": "markdown",
      "metadata": {
        "id": "p_00MxDr-1qT"
      },
      "source": [
        "# TOPIC MODELLING USING LDA"
      ]
    },
    {
      "cell_type": "code",
      "execution_count": 30,
      "metadata": {
        "id": "WLLpc1oz9a9D"
      },
      "outputs": [],
      "source": [
        "def get_lda_topics(model, num_topics):\n",
        "    word_dict = {};\n",
        "    for i in range(num_topics):\n",
        "        words = model.show_topic(i, topn = 20);\n",
        "        word_dict['Topic # ' + '{:02d}'.format(i+1)] = [i[0] for i in words];\n",
        "    return pd.DataFrame(word_dict);"
      ]
    },
    {
      "attachments": {},
      "cell_type": "markdown",
      "metadata": {
        "id": "qvihvWgcY1Ov"
      },
      "source": [
        "# finding best parameters"
      ]
    },
    {
      "cell_type": "code",
      "execution_count": 31,
      "metadata": {
        "id": "4ANaCWpiahlm"
      },
      "outputs": [],
      "source": [
        "testdf=pd.DataFrame(columns=[\"topic\", \"score\"])\n",
        "\n",
        "for i in range(10, 100, 2):\n",
        "  test = gensim.models.LdaMulticore(corpus_tfidf, num_topics=i, id2word=dictionary, passes=20, workers=4, chunksize=100)\n",
        "  testscore = CoherenceModel(model=test, texts=docs, dictionary=dictionary, coherence='c_v')\n",
        "  coherence_lda = testscore.get_coherence()\n",
        "  # print('Num topics: ', i, 'Coherence Score: ', coherence_lda)\n",
        "  testdf.loc[len(testdf.index)] = [i, coherence_lda]"
      ]
    },
    {
      "attachments": {},
      "cell_type": "markdown",
      "metadata": {
        "id": "FhK9q9a20GJ8"
      },
      "source": [
        "# Optimal number of topics is 27"
      ]
    },
    {
      "cell_type": "code",
      "execution_count": null,
      "metadata": {
        "colab": {
          "base_uri": "https://localhost:8080/",
          "height": 283
        },
        "id": "ZyVXXiMbcNWh",
        "outputId": "e0429d6c-e016-491c-ba97-82d664fbe506"
      },
      "outputs": [
        {
          "data": {
            "text/plain": [
              "[<matplotlib.lines.Line2D at 0x7f2ede5a7ca0>]"
            ]
          },
          "execution_count": 199,
          "metadata": {},
          "output_type": "execute_result"
        },
        {
          "data": {
            "image/png": "[encoded data removed]",
            "text/plain": [
              "<Figure size 432x288 with 1 Axes>"
            ]
          },
          "metadata": {
            "needs_background": "light"
          },
          "output_type": "display_data"
        }
      ],
      "source": [
        "plt.plot(testdf[\"topic\"], testdf[\"score\"])\n",
        "plt.xtick(\"Number \")"
      ]
    },
    {
      "cell_type": "code",
      "execution_count": null,
      "metadata": {
        "id": "wnVyliWFTiut"
      },
      "outputs": [],
      "source": [
        "lda_model_tfidf = gensim.models.LdaMulticore(corpus_tfidf, num_topics=27, id2word=dictionary, passes=20, workers=4, chunksize=100)"
      ]
    },
    {
      "attachments": {},
      "cell_type": "markdown",
      "metadata": {
        "id": "bl__a1R70JT7"
      },
      "source": [
        "# topics with their words"
      ]
    },
    {
      "cell_type": "code",
      "execution_count": null,
      "metadata": {
        "colab": {
          "base_uri": "https://localhost:8080/",
          "height": 787
        },
        "id": "QpXPI8Q6_Lt-",
        "outputId": "7bce0bb1-33c5-47cf-b64f-229125d426d5"
      },
      "outputs": [
        {
          "data": {
            "text/html": [
              "\n",
              "  <div id=\"df-000c0613-cdd4-4a9e-9526-9a55c7c41bad\">\n",
              "    <div class=\"colab-df-container\">\n",
              "      <div>\n",
              "<style scoped>\n",
              "    .dataframe tbody tr th:only-of-type {\n",
              "        vertical-align: middle;\n",
              "    }\n",
              "\n",
              "    .dataframe tbody tr th {\n",
              "        vertical-align: top;\n",
              "    }\n",
              "\n",
              "    .dataframe thead th {\n",
              "        text-align: right;\n",
              "    }\n",
              "</style>\n",
              "<table border=\"1\" class=\"dataframe\">\n",
              "  <thead>\n",
              "    <tr style=\"text-align: right;\">\n",
              "      <th></th>\n",
              "      <th>Topic # 01</th>\n",
              "      <th>Topic # 02</th>\n",
              "      <th>Topic # 03</th>\n",
              "      <th>Topic # 04</th>\n",
              "      <th>Topic # 05</th>\n",
              "      <th>Topic # 06</th>\n",
              "      <th>Topic # 07</th>\n",
              "      <th>Topic # 08</th>\n",
              "      <th>Topic # 09</th>\n",
              "      <th>Topic # 10</th>\n",
              "      <th>...</th>\n",
              "      <th>Topic # 18</th>\n",
              "      <th>Topic # 19</th>\n",
              "      <th>Topic # 20</th>\n",
              "      <th>Topic # 21</th>\n",
              "      <th>Topic # 22</th>\n",
              "      <th>Topic # 23</th>\n",
              "      <th>Topic # 24</th>\n",
              "      <th>Topic # 25</th>\n",
              "      <th>Topic # 26</th>\n",
              "      <th>Topic # 27</th>\n",
              "    </tr>\n",
              "  </thead>\n",
              "  <tbody>\n",
              "    <tr>\n",
              "      <th>0</th>\n",
              "      <td>nois</td>\n",
              "      <td>gaussian</td>\n",
              "      <td>translat</td>\n",
              "      <td>inspect</td>\n",
              "      <td>offlin</td>\n",
              "      <td>organis</td>\n",
              "      <td>instal</td>\n",
              "      <td>region</td>\n",
              "      <td>titl</td>\n",
              "      <td>sensor</td>\n",
              "      <td>...</td>\n",
              "      <td>bit</td>\n",
              "      <td>chatbot</td>\n",
              "      <td>prefer</td>\n",
              "      <td>child</td>\n",
              "      <td>imagenet</td>\n",
              "      <td>annot</td>\n",
              "      <td>neuron</td>\n",
              "      <td>crazi</td>\n",
              "      <td>presid</td>\n",
              "      <td>pool</td>\n",
              "    </tr>\n",
              "    <tr>\n",
              "      <th>1</th>\n",
              "      <td>watson</td>\n",
              "      <td>philosophi</td>\n",
              "      <td>hous</td>\n",
              "      <td>water</td>\n",
              "      <td>speech</td>\n",
              "      <td>ensembl</td>\n",
              "      <td>gpus</td>\n",
              "      <td>bound</td>\n",
              "      <td>trust</td>\n",
              "      <td>vote</td>\n",
              "      <td>...</td>\n",
              "      <td>pseudo</td>\n",
              "      <td>messag</td>\n",
              "      <td>favor</td>\n",
              "      <td>symbol</td>\n",
              "      <td>young</td>\n",
              "      <td>women</td>\n",
              "      <td>interview</td>\n",
              "      <td>child</td>\n",
              "      <td>markov</td>\n",
              "      <td>incom</td>\n",
              "    </tr>\n",
              "    <tr>\n",
              "      <th>2</th>\n",
              "      <td>recip</td>\n",
              "      <td>earth</td>\n",
              "      <td>pixel</td>\n",
              "      <td>land</td>\n",
              "      <td>alphago</td>\n",
              "      <td>centr</td>\n",
              "      <td>card</td>\n",
              "      <td>mask</td>\n",
              "      <td>polit</td>\n",
              "      <td>william</td>\n",
              "      <td>...</td>\n",
              "      <td>chunk</td>\n",
              "      <td>custom</td>\n",
              "      <td>https</td>\n",
              "      <td>planet</td>\n",
              "      <td>talent</td>\n",
              "      <td>attract</td>\n",
              "      <td>tabl</td>\n",
              "      <td>children</td>\n",
              "      <td>chain</td>\n",
              "      <td>percent</td>\n",
              "    </tr>\n",
              "    <tr>\n",
              "      <th>3</th>\n",
              "      <td>cook</td>\n",
              "      <td>quantum</td>\n",
              "      <td>letter</td>\n",
              "      <td>song</td>\n",
              "      <td>assist</td>\n",
              "      <td>mode</td>\n",
              "      <td>desktop</td>\n",
              "      <td>box</td>\n",
              "      <td>bank</td>\n",
              "      <td>handwritten</td>\n",
              "      <td>...</td>\n",
              "      <td>messag</td>\n",
              "      <td>bot</td>\n",
              "      <td>coordin</td>\n",
              "      <td>fiction</td>\n",
              "      <td>passion</td>\n",
              "      <td>float</td>\n",
              "      <td>agent</td>\n",
              "      <td>innov</td>\n",
              "      <td>statement</td>\n",
              "      <td>baidu</td>\n",
              "    </tr>\n",
              "    <tr>\n",
              "      <th>4</th>\n",
              "      <td>pretrain</td>\n",
              "      <td>decemb</td>\n",
              "      <td>sentenc</td>\n",
              "      <td>lose</td>\n",
              "      <td>neuron</td>\n",
              "      <td>parti</td>\n",
              "      <td>cuda</td>\n",
              "      <td>segment</td>\n",
              "      <td>enterpris</td>\n",
              "      <td>snippet</td>\n",
              "      <td>...</td>\n",
              "      <td>scikit</td>\n",
              "      <td>app</td>\n",
              "      <td>descent</td>\n",
              "      <td>room</td>\n",
              "      <td>analyt</td>\n",
              "      <td>facial</td>\n",
              "      <td>reward</td>\n",
              "      <td>sake</td>\n",
              "      <td>hinton</td>\n",
              "      <td>fourth</td>\n",
              "    </tr>\n",
              "    <tr>\n",
              "      <th>5</th>\n",
              "      <td>ingredi</td>\n",
              "      <td>distribut</td>\n",
              "      <td>pool</td>\n",
              "      <td>reli</td>\n",
              "      <td>seed</td>\n",
              "      <td>analys</td>\n",
              "      <td>cpus</td>\n",
              "      <td>entropi</td>\n",
              "      <td>wave</td>\n",
              "      <td>earth</td>\n",
              "      <td>...</td>\n",
              "      <td>boost</td>\n",
              "      <td>social</td>\n",
              "      <td>comparison</td>\n",
              "      <td>tag</td>\n",
              "      <td>http</td>\n",
              "      <td>pretrain</td>\n",
              "      <td>devic</td>\n",
              "      <td>stem</td>\n",
              "      <td>relationship</td>\n",
              "      <td>diagram</td>\n",
              "    </tr>\n",
              "    <tr>\n",
              "      <th>6</th>\n",
              "      <td>weak</td>\n",
              "      <td>fiction</td>\n",
              "      <td>phrase</td>\n",
              "      <td>terribl</td>\n",
              "      <td>screenshot</td>\n",
              "      <td>percept</td>\n",
              "      <td>ensembl</td>\n",
              "      <td>propos</td>\n",
              "      <td>startup</td>\n",
              "      <td>bound</td>\n",
              "      <td>...</td>\n",
              "      <td>kaggl</td>\n",
              "      <td>job</td>\n",
              "      <td>varianc</td>\n",
              "      <td>netflix</td>\n",
              "      <td>microsoft</td>\n",
              "      <td>selfi</td>\n",
              "      <td>star</td>\n",
              "      <td>steve</td>\n",
              "      <td>transcript</td>\n",
              "      <td>chines</td>\n",
              "    </tr>\n",
              "    <tr>\n",
              "      <th>7</th>\n",
              "      <td>boost</td>\n",
              "      <td>ship</td>\n",
              "      <td>synaps</td>\n",
              "      <td>bit</td>\n",
              "      <td>lstm</td>\n",
              "      <td>rent</td>\n",
              "      <td>netflix</td>\n",
              "      <td>pixel</td>\n",
              "      <td>secur</td>\n",
              "      <td>formal</td>\n",
              "      <td>...</td>\n",
              "      <td>competit</td>\n",
              "      <td>player</td>\n",
              "      <td>coeffici</td>\n",
              "      <td>send</td>\n",
              "      <td>dictionari</td>\n",
              "      <td>hair</td>\n",
              "      <td>sequenc</td>\n",
              "      <td>junk</td>\n",
              "      <td>cnns</td>\n",
              "      <td>batch</td>\n",
              "    </tr>\n",
              "    <tr>\n",
              "      <th>8</th>\n",
              "      <td>tast</td>\n",
              "      <td>planet</td>\n",
              "      <td>relationship</td>\n",
              "      <td>threat</td>\n",
              "      <td>html</td>\n",
              "      <td>plus</td>\n",
              "      <td>retrain</td>\n",
              "      <td>distribut</td>\n",
              "      <td>ture</td>\n",
              "      <td>simul</td>\n",
              "      <td>...</td>\n",
              "      <td>competitor</td>\n",
              "      <td>voic</td>\n",
              "      <td>irrelev</td>\n",
              "      <td>chines</td>\n",
              "      <td>edit</td>\n",
              "      <td>wear</td>\n",
              "      <td>batch</td>\n",
              "      <td>prime</td>\n",
              "      <td>represent</td>\n",
              "      <td>educ</td>\n",
              "    </tr>\n",
              "    <tr>\n",
              "      <th>9</th>\n",
              "      <td>eleg</td>\n",
              "      <td>civil</td>\n",
              "      <td>semant</td>\n",
              "      <td>simul</td>\n",
              "      <td>netflix</td>\n",
              "      <td>compris</td>\n",
              "      <td>scikit</td>\n",
              "      <td>outcom</td>\n",
              "      <td>hello</td>\n",
              "      <td>maxim</td>\n",
              "      <td>...</td>\n",
              "      <td>forum</td>\n",
              "      <td>simul</td>\n",
              "      <td>outlier</td>\n",
              "      <td>dark</td>\n",
              "      <td>distanc</td>\n",
              "      <td>camera</td>\n",
              "      <td>price</td>\n",
              "      <td>manufactur</td>\n",
              "      <td>hierarch</td>\n",
              "      <td>speech</td>\n",
              "    </tr>\n",
              "    <tr>\n",
              "      <th>10</th>\n",
              "      <td>aggreg</td>\n",
              "      <td>scientif</td>\n",
              "      <td>mario</td>\n",
              "      <td>conscious</td>\n",
              "      <td>corpus</td>\n",
              "      <td>invers</td>\n",
              "      <td>offlin</td>\n",
              "      <td>cnns</td>\n",
              "      <td>money</td>\n",
              "      <td>difficulti</td>\n",
              "      <td>...</td>\n",
              "      <td>calculus</td>\n",
              "      <td>assist</td>\n",
              "      <td>tough</td>\n",
              "      <td>interview</td>\n",
              "      <td>discoveri</td>\n",
              "      <td>opposit</td>\n",
              "      <td>recogn</td>\n",
              "      <td>depict</td>\n",
              "      <td>graphic</td>\n",
              "      <td>lstm</td>\n",
              "    </tr>\n",
              "    <tr>\n",
              "      <th>11</th>\n",
              "      <td>bottleneck</td>\n",
              "      <td>approxim</td>\n",
              "      <td>filter</td>\n",
              "      <td>social</td>\n",
              "      <td>polit</td>\n",
              "      <td>novemb</td>\n",
              "      <td>processor</td>\n",
              "      <td>uncertainti</td>\n",
              "      <td>invest</td>\n",
              "      <td>modif</td>\n",
              "      <td>...</td>\n",
              "      <td>algebra</td>\n",
              "      <td>phone</td>\n",
              "      <td>hire</td>\n",
              "      <td>member</td>\n",
              "      <td>curat</td>\n",
              "      <td>norm</td>\n",
              "      <td>supervis</td>\n",
              "      <td>consumpt</td>\n",
              "      <td>pool</td>\n",
              "      <td>forget</td>\n",
              "    </tr>\n",
              "    <tr>\n",
              "      <th>12</th>\n",
              "      <td>alexnet</td>\n",
              "      <td>episod</td>\n",
              "      <td>edg</td>\n",
              "      <td>resolut</td>\n",
              "      <td>hello</td>\n",
              "      <td>subject</td>\n",
              "      <td>ubuntu</td>\n",
              "      <td>quantifi</td>\n",
              "      <td>fear</td>\n",
              "      <td>propos</td>\n",
              "      <td>...</td>\n",
              "      <td>foundat</td>\n",
              "      <td>robot</td>\n",
              "      <td>chatbot</td>\n",
              "      <td>race</td>\n",
              "      <td>implicit</td>\n",
              "      <td>shrink</td>\n",
              "      <td>cluster</td>\n",
              "      <td>difficulti</td>\n",
              "      <td>normal</td>\n",
              "      <td>compon</td>\n",
              "    </tr>\n",
              "    <tr>\n",
              "      <th>13</th>\n",
              "      <td>chines</td>\n",
              "      <td>beauti</td>\n",
              "      <td>augment</td>\n",
              "      <td>tabl</td>\n",
              "      <td>event</td>\n",
              "      <td>devic</td>\n",
              "      <td>kaggl</td>\n",
              "      <td>imagenet</td>\n",
              "      <td>physic</td>\n",
              "      <td>mnist</td>\n",
              "      <td>...</td>\n",
              "      <td>solid</td>\n",
              "      <td>member</td>\n",
              "      <td>embed</td>\n",
              "      <td>trust</td>\n",
              "      <td>aggreg</td>\n",
              "      <td>varieti</td>\n",
              "      <td>zero</td>\n",
              "      <td>tini</td>\n",
              "      <td>nonetheless</td>\n",
              "      <td>semant</td>\n",
              "    </tr>\n",
              "    <tr>\n",
              "      <th>14</th>\n",
              "      <td>monitor</td>\n",
              "      <td>scikit</td>\n",
              "      <td>guess</td>\n",
              "      <td>entropi</td>\n",
              "      <td>biolog</td>\n",
              "      <td>fiction</td>\n",
              "      <td>mnist</td>\n",
              "      <td>increment</td>\n",
              "      <td>exponenti</td>\n",
              "      <td>trust</td>\n",
              "      <td>...</td>\n",
              "      <td>prove</td>\n",
              "      <td>skill</td>\n",
              "      <td>ipython</td>\n",
              "      <td>phone</td>\n",
              "      <td>board</td>\n",
              "      <td>alexnet</td>\n",
              "      <td>label</td>\n",
              "      <td>inde</td>\n",
              "      <td>eye</td>\n",
              "      <td>instal</td>\n",
              "    </tr>\n",
              "    <tr>\n",
              "      <th>15</th>\n",
              "      <td>pseudo</td>\n",
              "      <td>simpler</td>\n",
              "      <td>analysi</td>\n",
              "      <td>jump</td>\n",
              "      <td>voic</td>\n",
              "      <td>stimul</td>\n",
              "      <td>nvidia</td>\n",
              "      <td>meanwhil</td>\n",
              "      <td>conveni</td>\n",
              "      <td>inher</td>\n",
              "      <td>...</td>\n",
              "      <td>discov</td>\n",
              "      <td>tree</td>\n",
              "      <td>octav</td>\n",
              "      <td>seed</td>\n",
              "      <td>signal</td>\n",
              "      <td>pseudo</td>\n",
              "      <td>polici</td>\n",
              "      <td>host</td>\n",
              "      <td>pose</td>\n",
              "      <td>latent</td>\n",
              "    </tr>\n",
              "    <tr>\n",
              "      <th>16</th>\n",
              "      <td>fluctuat</td>\n",
              "      <td>centuri</td>\n",
              "      <td>car</td>\n",
              "      <td>forev</td>\n",
              "      <td>deriv</td>\n",
              "      <td>passion</td>\n",
              "      <td>percent</td>\n",
              "      <td>blood</td>\n",
              "      <td>risk</td>\n",
              "      <td>transact</td>\n",
              "      <td>...</td>\n",
              "      <td>exhaust</td>\n",
              "      <td>appl</td>\n",
              "      <td>blue</td>\n",
              "      <td>star</td>\n",
              "      <td>polici</td>\n",
              "      <td>survey</td>\n",
              "      <td>reinforc</td>\n",
              "      <td>trip</td>\n",
              "      <td>tweet</td>\n",
              "      <td>overfit</td>\n",
              "    </tr>\n",
              "    <tr>\n",
              "      <th>17</th>\n",
              "      <td>compact</td>\n",
              "      <td>startup</td>\n",
              "      <td>channel</td>\n",
              "      <td>partial</td>\n",
              "      <td>karpathi</td>\n",
              "      <td>grand</td>\n",
              "      <td>titan</td>\n",
              "      <td>joint</td>\n",
              "      <td>leader</td>\n",
              "      <td>contract</td>\n",
              "      <td>...</td>\n",
              "      <td>cloud</td>\n",
              "      <td>home</td>\n",
              "      <td>hacker</td>\n",
              "      <td>card</td>\n",
              "      <td>entri</td>\n",
              "      <td>off</td>\n",
              "      <td>graph</td>\n",
              "      <td>worri</td>\n",
              "      <td>restrict</td>\n",
              "      <td>grind</td>\n",
              "    </tr>\n",
              "    <tr>\n",
              "      <th>18</th>\n",
              "      <td>genius</td>\n",
              "      <td>openai</td>\n",
              "      <td>domain</td>\n",
              "      <td>brilliant</td>\n",
              "      <td>arbitrari</td>\n",
              "      <td>biolog</td>\n",
              "      <td>mobil</td>\n",
              "      <td>philosophi</td>\n",
              "      <td>embrac</td>\n",
              "      <td>ipython</td>\n",
              "      <td>...</td>\n",
              "      <td>conveni</td>\n",
              "      <td>tweet</td>\n",
              "      <td>loop</td>\n",
              "      <td>gpus</td>\n",
              "      <td>invest</td>\n",
              "      <td>anecdot</td>\n",
              "      <td>tutori</td>\n",
              "      <td>conveni</td>\n",
              "      <td>preserv</td>\n",
              "      <td>wise</td>\n",
              "    </tr>\n",
              "    <tr>\n",
              "      <th>19</th>\n",
              "      <td>annot</td>\n",
              "      <td>andrej</td>\n",
              "      <td>alphago</td>\n",
              "      <td>coupl</td>\n",
              "      <td>communic</td>\n",
              "      <td>contribut</td>\n",
              "      <td>intel</td>\n",
              "      <td>bottleneck</td>\n",
              "      <td>financi</td>\n",
              "      <td>hyper</td>\n",
              "      <td>...</td>\n",
              "      <td>mini</td>\n",
              "      <td>distribut</td>\n",
              "      <td>fals</td>\n",
              "      <td>landscap</td>\n",
              "      <td>queri</td>\n",
              "      <td>compat</td>\n",
              "      <td>lstm</td>\n",
              "      <td>parent</td>\n",
              "      <td>angl</td>\n",
              "      <td>cpus</td>\n",
              "    </tr>\n",
              "  </tbody>\n",
              "</table>\n",
              "<p>20 rows × 27 columns</p>\n",
              "</div>\n",
              "      <button class=\"colab-df-convert\" onclick=\"convertToInteractive('df-000c0613-cdd4-4a9e-9526-9a55c7c41bad')\"\n",
              "              title=\"Convert this dataframe to an interactive table.\"\n",
              "              style=\"display:none;\">\n",
              "        \n",
              "  <svg xmlns=\"http://www.w3.org/2000/svg\" height=\"24px\"viewBox=\"0 0 24 24\"\n",
              "       width=\"24px\">\n",
              "    <path d=\"M0 0h24v24H0V0z\" fill=\"none\"/>\n",
              "    <path d=\"M18.56 5.44l.94 2.06.94-2.06 2.06-.94-2.06-.94-.94-2.06-.94 2.06-2.06.94zm-11 1L8.5 8.5l.94-2.06 2.06-.94-2.06-.94L8.5 2.5l-.94 2.06-2.06.94zm10 10l.94 2.06.94-2.06 2.06-.94-2.06-.94-.94-2.06-.94 2.06-2.06.94z\"/><path d=\"M17.41 7.96l-1.37-1.37c-.4-.4-.92-.59-1.43-.59-.52 0-1.04.2-1.43.59L10.3 9.45l-7.72 7.72c-.78.78-.78 2.05 0 2.83L4 21.41c.39.39.9.59 1.41.59.51 0 1.02-.2 1.41-.59l7.78-7.78 2.81-2.81c.8-.78.8-2.07 0-2.86zM5.41 20L4 18.59l7.72-7.72 1.47 1.35L5.41 20z\"/>\n",
              "  </svg>\n",
              "      </button>\n",
              "      \n",
              "  <style>\n",
              "    .colab-df-container {\n",
              "      display:flex;\n",
              "      flex-wrap:wrap;\n",
              "      gap: 12px;\n",
              "    }\n",
              "\n",
              "    .colab-df-convert {\n",
              "      background-color: #E8F0FE;\n",
              "      border: none;\n",
              "      border-radius: 50%;\n",
              "      cursor: pointer;\n",
              "      display: none;\n",
              "      fill: #1967D2;\n",
              "      height: 32px;\n",
              "      padding: 0 0 0 0;\n",
              "      width: 32px;\n",
              "    }\n",
              "\n",
              "    .colab-df-convert:hover {\n",
              "      background-color: #E2EBFA;\n",
              "      box-shadow: 0px 1px 2px rgba(60, 64, 67, 0.3), 0px 1px 3px 1px rgba(60, 64, 67, 0.15);\n",
              "      fill: #174EA6;\n",
              "    }\n",
              "\n",
              "    [theme=dark] .colab-df-convert {\n",
              "      background-color: #3B4455;\n",
              "      fill: #D2E3FC;\n",
              "    }\n",
              "\n",
              "    [theme=dark] .colab-df-convert:hover {\n",
              "      background-color: #434B5C;\n",
              "      box-shadow: 0px 1px 3px 1px rgba(0, 0, 0, 0.15);\n",
              "      filter: drop-shadow(0px 1px 2px rgba(0, 0, 0, 0.3));\n",
              "      fill: #FFFFFF;\n",
              "    }\n",
              "  </style>\n",
              "\n",
              "      <script>\n",
              "        const buttonEl =\n",
              "          document.querySelector('#df-000c0613-cdd4-4a9e-9526-9a55c7c41bad button.colab-df-convert');\n",
              "        buttonEl.style.display =\n",
              "          google.colab.kernel.accessAllowed ? 'block' : 'none';\n",
              "\n",
              "        async function convertToInteractive(key) {\n",
              "          const element = document.querySelector('#df-000c0613-cdd4-4a9e-9526-9a55c7c41bad');\n",
              "          const dataTable =\n",
              "            await google.colab.kernel.invokeFunction('convertToInteractive',\n",
              "                                                     [key], {});\n",
              "          if (!dataTable) return;\n",
              "\n",
              "          const docLinkHtml = 'Like what you see? Visit the ' +\n",
              "            '<a target=\"_blank\" href=https://colab.research.google.com/notebooks/data_table.ipynb>data table notebook</a>'\n",
              "            + ' to learn more about interactive tables.';\n",
              "          element.innerHTML = '';\n",
              "          dataTable['output_type'] = 'display_data';\n",
              "          await google.colab.output.renderOutput(dataTable, element);\n",
              "          const docLink = document.createElement('div');\n",
              "          docLink.innerHTML = docLinkHtml;\n",
              "          element.appendChild(docLink);\n",
              "        }\n",
              "      </script>\n",
              "    </div>\n",
              "  </div>\n",
              "  "
            ],
            "text/plain": [
              "    Topic # 01  Topic # 02    Topic # 03 Topic # 04  Topic # 05 Topic # 06  \\\n",
              "0         nois    gaussian      translat    inspect      offlin    organis   \n",
              "1       watson  philosophi          hous      water      speech    ensembl   \n",
              "2        recip       earth         pixel       land     alphago      centr   \n",
              "3         cook     quantum        letter       song      assist       mode   \n",
              "4     pretrain      decemb       sentenc       lose      neuron      parti   \n",
              "5      ingredi   distribut          pool       reli        seed     analys   \n",
              "6         weak     fiction        phrase    terribl  screenshot    percept   \n",
              "7        boost        ship        synaps        bit        lstm       rent   \n",
              "8         tast      planet  relationship     threat        html       plus   \n",
              "9         eleg       civil        semant      simul     netflix    compris   \n",
              "10      aggreg    scientif         mario  conscious      corpus     invers   \n",
              "11  bottleneck    approxim        filter     social       polit     novemb   \n",
              "12     alexnet      episod           edg    resolut       hello    subject   \n",
              "13      chines      beauti       augment       tabl       event      devic   \n",
              "14     monitor      scikit         guess    entropi      biolog    fiction   \n",
              "15      pseudo     simpler       analysi       jump        voic     stimul   \n",
              "16    fluctuat     centuri           car      forev       deriv    passion   \n",
              "17     compact     startup       channel    partial    karpathi      grand   \n",
              "18      genius      openai        domain  brilliant   arbitrari     biolog   \n",
              "19       annot      andrej       alphago      coupl    communic  contribut   \n",
              "\n",
              "   Topic # 07   Topic # 08 Topic # 09   Topic # 10  ...  Topic # 18  \\\n",
              "0      instal       region       titl       sensor  ...         bit   \n",
              "1        gpus        bound      trust         vote  ...      pseudo   \n",
              "2        card         mask      polit      william  ...       chunk   \n",
              "3     desktop          box       bank  handwritten  ...      messag   \n",
              "4        cuda      segment  enterpris      snippet  ...      scikit   \n",
              "5        cpus      entropi       wave        earth  ...       boost   \n",
              "6     ensembl       propos    startup        bound  ...       kaggl   \n",
              "7     netflix        pixel      secur       formal  ...    competit   \n",
              "8     retrain    distribut       ture        simul  ...  competitor   \n",
              "9      scikit       outcom      hello        maxim  ...       forum   \n",
              "10     offlin         cnns      money   difficulti  ...    calculus   \n",
              "11  processor  uncertainti     invest        modif  ...     algebra   \n",
              "12     ubuntu     quantifi       fear       propos  ...     foundat   \n",
              "13      kaggl     imagenet     physic        mnist  ...       solid   \n",
              "14      mnist    increment  exponenti        trust  ...       prove   \n",
              "15     nvidia     meanwhil    conveni        inher  ...      discov   \n",
              "16    percent        blood       risk     transact  ...     exhaust   \n",
              "17      titan        joint     leader     contract  ...       cloud   \n",
              "18      mobil   philosophi     embrac      ipython  ...     conveni   \n",
              "19      intel   bottleneck    financi        hyper  ...        mini   \n",
              "\n",
              "   Topic # 19  Topic # 20 Topic # 21  Topic # 22 Topic # 23 Topic # 24  \\\n",
              "0     chatbot      prefer      child    imagenet      annot     neuron   \n",
              "1      messag       favor     symbol       young      women  interview   \n",
              "2      custom       https     planet      talent    attract       tabl   \n",
              "3         bot     coordin    fiction     passion      float      agent   \n",
              "4         app     descent       room      analyt     facial     reward   \n",
              "5      social  comparison        tag        http   pretrain      devic   \n",
              "6         job     varianc    netflix   microsoft      selfi       star   \n",
              "7      player    coeffici       send  dictionari       hair    sequenc   \n",
              "8        voic     irrelev     chines        edit       wear      batch   \n",
              "9       simul     outlier       dark     distanc     camera      price   \n",
              "10     assist       tough  interview   discoveri    opposit     recogn   \n",
              "11      phone        hire     member       curat       norm   supervis   \n",
              "12      robot     chatbot       race    implicit     shrink    cluster   \n",
              "13     member       embed      trust      aggreg    varieti       zero   \n",
              "14      skill     ipython      phone       board    alexnet      label   \n",
              "15       tree       octav       seed      signal     pseudo     polici   \n",
              "16       appl        blue       star      polici     survey   reinforc   \n",
              "17       home      hacker       card       entri        off      graph   \n",
              "18      tweet        loop       gpus      invest    anecdot     tutori   \n",
              "19  distribut        fals   landscap       queri     compat       lstm   \n",
              "\n",
              "    Topic # 25    Topic # 26 Topic # 27  \n",
              "0        crazi        presid       pool  \n",
              "1        child        markov      incom  \n",
              "2     children         chain    percent  \n",
              "3        innov     statement      baidu  \n",
              "4         sake        hinton     fourth  \n",
              "5         stem  relationship    diagram  \n",
              "6        steve    transcript     chines  \n",
              "7         junk          cnns      batch  \n",
              "8        prime     represent       educ  \n",
              "9   manufactur      hierarch     speech  \n",
              "10      depict       graphic       lstm  \n",
              "11    consumpt          pool     forget  \n",
              "12  difficulti        normal     compon  \n",
              "13        tini   nonetheless     semant  \n",
              "14        inde           eye     instal  \n",
              "15        host          pose     latent  \n",
              "16        trip         tweet    overfit  \n",
              "17       worri      restrict      grind  \n",
              "18     conveni       preserv       wise  \n",
              "19      parent          angl       cpus  \n",
              "\n",
              "[20 rows x 27 columns]"
            ]
          },
          "execution_count": 38,
          "metadata": {},
          "output_type": "execute_result"
        }
      ],
      "source": [
        "get_lda_topics(lda_model_tfidf, 27)"
      ]
    },
    {
      "cell_type": "code",
      "execution_count": null,
      "metadata": {
        "colab": {
          "base_uri": "https://localhost:8080/"
        },
        "id": "WEWWkuWzA1HA",
        "outputId": "94394a3f-4b35-4195-d69d-1253183afbc6"
      },
      "outputs": [
        {
          "name": "stdout",
          "output_type": "stream",
          "text": [
            "Topic: 0 \n",
            "Words: 0.018*\"nois\" + 0.017*\"watson\" + 0.016*\"recip\" + 0.010*\"cook\" + 0.009*\"pretrain\" + 0.008*\"ingredi\" + 0.006*\"weak\" + 0.006*\"boost\" + 0.005*\"tast\" + 0.005*\"eleg\"\n",
            "Topic: 1 \n",
            "Words: 0.012*\"gaussian\" + 0.005*\"philosophi\" + 0.005*\"earth\" + 0.004*\"quantum\" + 0.004*\"decemb\" + 0.003*\"distribut\" + 0.001*\"fiction\" + 0.001*\"ship\" + 0.001*\"planet\" + 0.001*\"civil\"\n",
            "Topic: 2 \n",
            "Words: 0.013*\"translat\" + 0.012*\"hous\" + 0.010*\"pixel\" + 0.009*\"letter\" + 0.009*\"sentenc\" + 0.008*\"pool\" + 0.007*\"phrase\" + 0.007*\"synaps\" + 0.007*\"relationship\" + 0.007*\"semant\"\n",
            "Topic: 3 \n",
            "Words: 0.001*\"inspect\" + 0.001*\"water\" + 0.001*\"land\" + 0.001*\"song\" + 0.001*\"lose\" + 0.001*\"reli\" + 0.001*\"terribl\" + 0.001*\"bit\" + 0.001*\"threat\" + 0.001*\"simul\"\n",
            "Topic: 4 \n",
            "Words: 0.001*\"offlin\" + 0.001*\"speech\" + 0.001*\"alphago\" + 0.001*\"assist\" + 0.001*\"neuron\" + 0.001*\"seed\" + 0.001*\"screenshot\" + 0.001*\"lstm\" + 0.001*\"html\" + 0.001*\"netflix\"\n",
            "Topic: 5 \n",
            "Words: 0.001*\"organis\" + 0.001*\"ensembl\" + 0.001*\"centr\" + 0.001*\"mode\" + 0.001*\"parti\" + 0.001*\"analys\" + 0.001*\"percept\" + 0.001*\"rent\" + 0.001*\"plus\" + 0.001*\"compris\"\n",
            "Topic: 6 \n",
            "Words: 0.023*\"instal\" + 0.023*\"gpus\" + 0.022*\"card\" + 0.013*\"desktop\" + 0.013*\"cuda\" + 0.013*\"cpus\" + 0.012*\"ensembl\" + 0.012*\"netflix\" + 0.011*\"retrain\" + 0.010*\"scikit\"\n",
            "Topic: 7 \n",
            "Words: 0.034*\"region\" + 0.032*\"bound\" + 0.027*\"mask\" + 0.025*\"box\" + 0.024*\"segment\" + 0.023*\"entropi\" + 0.019*\"propos\" + 0.016*\"pixel\" + 0.012*\"distribut\" + 0.011*\"outcom\"\n",
            "Topic: 8 \n",
            "Words: 0.012*\"titl\" + 0.011*\"trust\" + 0.010*\"polit\" + 0.010*\"bank\" + 0.009*\"enterpris\" + 0.009*\"wave\" + 0.009*\"startup\" + 0.009*\"secur\" + 0.008*\"ture\" + 0.008*\"hello\"\n",
            "Topic: 9 \n",
            "Words: 0.005*\"sensor\" + 0.004*\"vote\" + 0.003*\"william\" + 0.003*\"handwritten\" + 0.003*\"snippet\" + 0.003*\"earth\" + 0.002*\"bound\" + 0.002*\"formal\" + 0.002*\"simul\" + 0.002*\"maxim\"\n",
            "Topic: 10 \n",
            "Words: 0.033*\"cheat\" + 0.033*\"sheet\" + 0.011*\"https\" + 0.010*\"scipi\" + 0.009*\"numpi\" + 0.008*\"wiki\" + 0.007*\"wikipedia\" + 0.007*\"panda\" + 0.006*\"scikit\" + 0.005*\"chatbot\"\n",
            "Topic: 11 \n",
            "Words: 0.024*\"page\" + 0.012*\"height\" + 0.011*\"column\" + 0.010*\"relationship\" + 0.010*\"behaviour\" + 0.009*\"visualis\" + 0.007*\"mnist\" + 0.007*\"extract\" + 0.007*\"caff\" + 0.006*\"nod\"\n",
            "Topic: 12 \n",
            "Words: 0.008*\"tast\" + 0.007*\"forest\" + 0.003*\"ensembl\" + 0.003*\"eleg\" + 0.003*\"strict\" + 0.003*\"formul\" + 0.001*\"favorit\" + 0.001*\"advic\" + 0.001*\"commerci\" + 0.001*\"divers\"\n",
            "Topic: 13 \n",
            "Words: 0.011*\"discoveri\" + 0.010*\"trip\" + 0.009*\"citi\" + 0.008*\"wake\" + 0.008*\"labor\" + 0.008*\"philosophi\" + 0.007*\"conceptu\" + 0.007*\"treatment\" + 0.006*\"singular\" + 0.006*\"dramat\"\n",
            "Topic: 14 \n",
            "Words: 0.001*\"coeffici\" + 0.001*\"tree\" + 0.001*\"boost\" + 0.001*\"instanc\" + 0.001*\"region\" + 0.001*\"hyperparamet\" + 0.001*\"logist\" + 0.001*\"distribut\" + 0.001*\"segment\" + 0.001*\"pixel\"\n",
            "Topic: 15 \n",
            "Words: 0.023*\"music\" + 0.016*\"song\" + 0.010*\"handwritten\" + 0.006*\"echo\" + 0.006*\"endless\" + 0.004*\"alex\" + 0.004*\"tast\" + 0.004*\"tini\" + 0.003*\"ucsd\" + 0.003*\"unlimit\"\n",
            "Topic: 16 \n",
            "Words: 0.011*\"meet\" + 0.008*\"folk\" + 0.007*\"obvious\" + 0.007*\"skill\" + 0.005*\"schedul\" + 0.004*\"revenu\" + 0.004*\"smartest\" + 0.003*\"exhaust\" + 0.003*\"quora\" + 0.003*\"ship\"\n",
            "Topic: 17 \n",
            "Words: 0.006*\"bit\" + 0.004*\"pseudo\" + 0.001*\"chunk\" + 0.001*\"messag\" + 0.001*\"scikit\" + 0.001*\"boost\" + 0.001*\"kaggl\" + 0.001*\"competit\" + 0.001*\"competitor\" + 0.001*\"forum\"\n",
            "Topic: 18 \n",
            "Words: 0.011*\"chatbot\" + 0.007*\"messag\" + 0.006*\"custom\" + 0.006*\"bot\" + 0.006*\"app\" + 0.006*\"social\" + 0.006*\"job\" + 0.006*\"player\" + 0.006*\"voic\" + 0.005*\"simul\"\n",
            "Topic: 19 \n",
            "Words: 0.013*\"prefer\" + 0.007*\"favor\" + 0.004*\"https\" + 0.001*\"coordin\" + 0.001*\"descent\" + 0.001*\"comparison\" + 0.001*\"varianc\" + 0.001*\"coeffici\" + 0.001*\"irrelev\" + 0.001*\"outlier\"\n",
            "Topic: 20 \n",
            "Words: 0.001*\"child\" + 0.001*\"symbol\" + 0.001*\"planet\" + 0.001*\"fiction\" + 0.001*\"room\" + 0.001*\"tag\" + 0.001*\"netflix\" + 0.001*\"send\" + 0.001*\"chines\" + 0.001*\"dark\"\n",
            "Topic: 21 \n",
            "Words: 0.007*\"imagenet\" + 0.007*\"young\" + 0.006*\"talent\" + 0.006*\"passion\" + 0.006*\"analyt\" + 0.005*\"http\" + 0.005*\"microsoft\" + 0.004*\"dictionari\" + 0.003*\"edit\" + 0.003*\"distanc\"\n",
            "Topic: 22 \n",
            "Words: 0.034*\"annot\" + 0.026*\"women\" + 0.019*\"attract\" + 0.017*\"float\" + 0.016*\"facial\" + 0.010*\"pretrain\" + 0.009*\"selfi\" + 0.008*\"hair\" + 0.007*\"wear\" + 0.007*\"camera\"\n",
            "Topic: 23 \n",
            "Words: 0.009*\"neuron\" + 0.006*\"interview\" + 0.006*\"tabl\" + 0.005*\"agent\" + 0.005*\"reward\" + 0.004*\"devic\" + 0.004*\"star\" + 0.004*\"sequenc\" + 0.004*\"batch\" + 0.004*\"price\"\n",
            "Topic: 24 \n",
            "Words: 0.009*\"crazi\" + 0.008*\"child\" + 0.008*\"children\" + 0.007*\"innov\" + 0.005*\"sake\" + 0.003*\"stem\" + 0.003*\"steve\" + 0.003*\"junk\" + 0.003*\"prime\" + 0.003*\"manufactur\"\n",
            "Topic: 25 \n",
            "Words: 0.001*\"presid\" + 0.001*\"markov\" + 0.001*\"chain\" + 0.001*\"statement\" + 0.001*\"hinton\" + 0.001*\"relationship\" + 0.001*\"transcript\" + 0.001*\"cnns\" + 0.001*\"represent\" + 0.001*\"hierarch\"\n",
            "Topic: 26 \n",
            "Words: 0.001*\"pool\" + 0.001*\"incom\" + 0.001*\"percent\" + 0.001*\"baidu\" + 0.001*\"fourth\" + 0.001*\"diagram\" + 0.001*\"chines\" + 0.001*\"batch\" + 0.001*\"educ\" + 0.001*\"speech\"\n"
          ]
        }
      ],
      "source": [
        "for idx, topic in lda_model_tfidf.print_topics(-1):\n",
        "    print('Topic: {} \\nWords: {}'.format(idx, topic))"
      ]
    },
    {
      "cell_type": "code",
      "execution_count": null,
      "metadata": {
        "colab": {
          "base_uri": "https://localhost:8080/"
        },
        "id": "ldUkgQmwO399",
        "outputId": "c3df27f7-854f-4b9b-df46-cddf89a8d9cd"
      },
      "outputs": [
        {
          "name": "stdout",
          "output_type": "stream",
          "text": [
            "(9, '0.005*\"sensor\" + 0.004*\"vote\" + 0.003*\"william\" + 0.003*\"handwritten\" + 0.003*\"snippet\" + 0.003*\"earth\"')\n",
            "(26, '0.001*\"pool\" + 0.001*\"incom\" + 0.001*\"percent\" + 0.001*\"baidu\" + 0.001*\"fourth\" + 0.001*\"diagram\"')\n",
            "(19, '0.013*\"prefer\" + 0.007*\"favor\" + 0.004*\"https\" + 0.001*\"coordin\" + 0.001*\"descent\" + 0.001*\"comparison\"')\n",
            "(1, '0.012*\"gaussian\" + 0.005*\"philosophi\" + 0.005*\"earth\" + 0.004*\"quantum\" + 0.004*\"decemb\" + 0.003*\"distribut\"')\n",
            "(15, '0.023*\"music\" + 0.016*\"song\" + 0.010*\"handwritten\" + 0.006*\"echo\" + 0.006*\"endless\" + 0.004*\"alex\"')\n",
            "(24, '0.009*\"crazi\" + 0.008*\"child\" + 0.008*\"children\" + 0.007*\"innov\" + 0.005*\"sake\" + 0.003*\"stem\"')\n",
            "(17, '0.006*\"bit\" + 0.004*\"pseudo\" + 0.001*\"chunk\" + 0.001*\"messag\" + 0.001*\"scikit\" + 0.001*\"boost\"')\n",
            "(11, '0.024*\"page\" + 0.012*\"height\" + 0.011*\"column\" + 0.010*\"relationship\" + 0.010*\"behaviour\" + 0.009*\"visualis\"')\n",
            "(12, '0.008*\"tast\" + 0.007*\"forest\" + 0.003*\"ensembl\" + 0.003*\"eleg\" + 0.003*\"strict\" + 0.003*\"formul\"')\n",
            "(10, '0.033*\"cheat\" + 0.033*\"sheet\" + 0.011*\"https\" + 0.010*\"scipi\" + 0.009*\"numpi\" + 0.008*\"wiki\"')\n",
            "(6, '0.023*\"instal\" + 0.023*\"gpus\" + 0.022*\"card\" + 0.013*\"desktop\" + 0.013*\"cuda\" + 0.013*\"cpus\"')\n",
            "(4, '0.001*\"offlin\" + 0.001*\"speech\" + 0.001*\"alphago\" + 0.001*\"assist\" + 0.001*\"neuron\" + 0.001*\"seed\"')\n",
            "(0, '0.018*\"nois\" + 0.017*\"watson\" + 0.016*\"recip\" + 0.010*\"cook\" + 0.009*\"pretrain\" + 0.008*\"ingredi\"')\n",
            "(18, '0.011*\"chatbot\" + 0.007*\"messag\" + 0.006*\"custom\" + 0.006*\"bot\" + 0.006*\"app\" + 0.006*\"social\"')\n",
            "(2, '0.013*\"translat\" + 0.012*\"hous\" + 0.010*\"pixel\" + 0.009*\"letter\" + 0.009*\"sentenc\" + 0.008*\"pool\"')\n",
            "(23, '0.009*\"neuron\" + 0.006*\"interview\" + 0.006*\"tabl\" + 0.005*\"agent\" + 0.005*\"reward\" + 0.004*\"devic\"')\n",
            "(16, '0.011*\"meet\" + 0.008*\"folk\" + 0.007*\"obvious\" + 0.007*\"skill\" + 0.005*\"schedul\" + 0.004*\"revenu\"')\n",
            "(3, '0.001*\"inspect\" + 0.001*\"water\" + 0.001*\"land\" + 0.001*\"song\" + 0.001*\"lose\" + 0.001*\"reli\"')\n",
            "(20, '0.001*\"child\" + 0.001*\"symbol\" + 0.001*\"planet\" + 0.001*\"fiction\" + 0.001*\"room\" + 0.001*\"tag\"')\n",
            "(5, '0.001*\"organis\" + 0.001*\"ensembl\" + 0.001*\"centr\" + 0.001*\"mode\" + 0.001*\"parti\" + 0.001*\"analys\"')\n"
          ]
        }
      ],
      "source": [
        "lda_model_tfidf.save('model10.gensim')\n",
        "topics = lda_model_tfidf.print_topics(num_words=6)\n",
        "for topic in topics:\n",
        "    print(topic)"
      ]
    },
    {
      "cell_type": "code",
      "execution_count": null,
      "metadata": {
        "colab": {
          "base_uri": "https://localhost:8080/"
        },
        "id": "m05NRkXlC7D_",
        "outputId": "decd7680-d45d-4c55-c4c8-b02611146aba"
      },
      "outputs": [
        {
          "name": "stdout",
          "output_type": "stream",
          "text": [
            "Looking in indexes: https://pypi.org/simple, https://us-python.pkg.dev/colab-wheels/public/simple/\n",
            "Requirement already satisfied: pyLDAvis in /usr/local/lib/python3.8/dist-packages (3.4.0)\n",
            "Requirement already satisfied: scikit-learn>=1.0.0 in /usr/local/lib/python3.8/dist-packages (from pyLDAvis) (1.0.2)\n",
            "Requirement already satisfied: funcy in /usr/local/lib/python3.8/dist-packages (from pyLDAvis) (1.18)\n",
            "Requirement already satisfied: scipy in /usr/local/lib/python3.8/dist-packages (from pyLDAvis) (1.7.3)\n",
            "Requirement already satisfied: jinja2 in /usr/local/lib/python3.8/dist-packages (from pyLDAvis) (2.11.3)\n",
            "Requirement already satisfied: numpy>=1.22.0 in /usr/local/lib/python3.8/dist-packages (from pyLDAvis) (1.22.4)\n",
            "Requirement already satisfied: numexpr in /usr/local/lib/python3.8/dist-packages (from pyLDAvis) (2.8.4)\n",
            "Requirement already satisfied: pandas>=1.3.4 in /usr/local/lib/python3.8/dist-packages (from pyLDAvis) (1.3.5)\n",
            "Requirement already satisfied: joblib>=1.2.0 in /usr/local/lib/python3.8/dist-packages (from pyLDAvis) (1.2.0)\n",
            "Requirement already satisfied: setuptools in /usr/local/lib/python3.8/dist-packages (from pyLDAvis) (57.4.0)\n",
            "Requirement already satisfied: gensim in /usr/local/lib/python3.8/dist-packages (from pyLDAvis) (4.3.0)\n",
            "Requirement already satisfied: python-dateutil>=2.7.3 in /usr/local/lib/python3.8/dist-packages (from pandas>=1.3.4->pyLDAvis) (2.8.2)\n",
            "Requirement already satisfied: pytz>=2017.3 in /usr/local/lib/python3.8/dist-packages (from pandas>=1.3.4->pyLDAvis) (2022.7.1)\n",
            "Requirement already satisfied: threadpoolctl>=2.0.0 in /usr/local/lib/python3.8/dist-packages (from scikit-learn>=1.0.0->pyLDAvis) (3.1.0)\n",
            "Requirement already satisfied: smart-open>=1.8.1 in /usr/local/lib/python3.8/dist-packages (from gensim->pyLDAvis) (6.3.0)\n",
            "Requirement already satisfied: FuzzyTM>=0.4.0 in /usr/local/lib/python3.8/dist-packages (from gensim->pyLDAvis) (2.0.5)\n",
            "Requirement already satisfied: MarkupSafe>=0.23 in /usr/local/lib/python3.8/dist-packages (from jinja2->pyLDAvis) (2.0.1)\n",
            "Requirement already satisfied: pyfume in /usr/local/lib/python3.8/dist-packages (from FuzzyTM>=0.4.0->gensim->pyLDAvis) (0.2.25)\n",
            "Requirement already satisfied: six>=1.5 in /usr/local/lib/python3.8/dist-packages (from python-dateutil>=2.7.3->pandas>=1.3.4->pyLDAvis) (1.15.0)\n",
            "Requirement already satisfied: fst-pso in /usr/local/lib/python3.8/dist-packages (from pyfume->FuzzyTM>=0.4.0->gensim->pyLDAvis) (1.8.1)\n",
            "Requirement already satisfied: simpful in /usr/local/lib/python3.8/dist-packages (from pyfume->FuzzyTM>=0.4.0->gensim->pyLDAvis) (2.9.0)\n",
            "Requirement already satisfied: miniful in /usr/local/lib/python3.8/dist-packages (from fst-pso->pyfume->FuzzyTM>=0.4.0->gensim->pyLDAvis) (0.0.6)\n",
            "Requirement already satisfied: requests in /usr/local/lib/python3.8/dist-packages (from simpful->pyfume->FuzzyTM>=0.4.0->gensim->pyLDAvis) (2.25.1)\n",
            "Requirement already satisfied: chardet<5,>=3.0.2 in /usr/local/lib/python3.8/dist-packages (from requests->simpful->pyfume->FuzzyTM>=0.4.0->gensim->pyLDAvis) (4.0.0)\n",
            "Requirement already satisfied: urllib3<1.27,>=1.21.1 in /usr/local/lib/python3.8/dist-packages (from requests->simpful->pyfume->FuzzyTM>=0.4.0->gensim->pyLDAvis) (1.24.3)\n",
            "Requirement already satisfied: certifi>=2017.4.17 in /usr/local/lib/python3.8/dist-packages (from requests->simpful->pyfume->FuzzyTM>=0.4.0->gensim->pyLDAvis) (2022.12.7)\n",
            "Requirement already satisfied: idna<3,>=2.5 in /usr/local/lib/python3.8/dist-packages (from requests->simpful->pyfume->FuzzyTM>=0.4.0->gensim->pyLDAvis) (2.10)\n"
          ]
        }
      ],
      "source": [
        "!pip install pyLDAvis"
      ]
    },
    {
      "attachments": {},
      "cell_type": "markdown",
      "metadata": {
        "id": "ROOFM2A40Qih"
      },
      "source": [
        "# VISUALISATION OF THE TOPICS"
      ]
    },
    {
      "cell_type": "code",
      "execution_count": null,
      "metadata": {
        "id": "e0v-cTpDC5-r"
      },
      "outputs": [],
      "source": [
        "import pyLDAvis\n",
        "import pyLDAvis.gensim_models"
      ]
    },
    {
      "cell_type": "code",
      "execution_count": null,
      "metadata": {
        "colab": {
          "base_uri": "https://localhost:8080/",
          "height": 918
        },
        "id": "fvOjojnADCeL",
        "outputId": "d75aa3e4-172a-4be6-f5a5-44914073eca3"
      },
      "outputs": [
        {
          "name": "stderr",
          "output_type": "stream",
          "text": [
            "/usr/local/lib/python3.8/dist-packages/pyLDAvis/_prepare.py:243: FutureWarning: In a future version of pandas all arguments of DataFrame.drop except for the argument 'labels' will be keyword-only\n",
            "  default_term_info = default_term_info.sort_values(\n"
          ]
        },
        {
          "data": {
            "text/html": [
              "\n",
              "<link rel=\"stylesheet\" type=\"text/css\" href=\"https://cdn.jsdelivr.net/gh/bmabey/pyLDAvis@3.4.0/pyLDAvis/js/ldavis.v1.0.0.css\">\n",
              "\n",
              "\n",
              "<div id=\"ldavis_el147191399435924311684138572214\" style=\"background-color:white;\"></div>\n",
              "<script type=\"text/javascript\">\n",
              "\n",
              "var ldavis_el147191399435924311684138572214_data = {\"mdsDat\": {\"x\": [-0.24131649337923441, 0.020490249245090852, -0.006243847954800591, 0.18983265453381498, 0.14747906854512058, 0.021966143532980067, 0.02974422476422824, 0.059453655271688936, -0.05802440258465445, -0.03569224544209333, -0.020730298880586372, -0.006588313999169457, -0.018504903313244777, -0.013034038193861536, -0.003180703293623118, -0.005116070023472077, -0.0020689933646912627, -0.005757226080402801, -0.0017067991520629032, -0.007576959554110433, -0.006205402815749861, -0.0062167790647709945, -0.006132785454286399, -0.006214232742067, -0.006218093704894331, -0.0062220584473218505, -0.006215348447825802], \"y\": [0.06050384031594463, 0.285076225310344, -0.28699651839592594, -0.10569100928765379, 0.04943118591889775, 0.08955956049692239, -0.06060480731779265, 0.01774403548455196, -0.0017320335440042074, -0.020693646402091315, -0.03904825964716065, -0.01904108815454373, 0.006580428291820045, 0.011607193225398587, 0.010025572768689615, -0.003960516533546807, -0.001398943398884989, 0.003393146419948303, 0.0025384023585268635, 0.00030777088096815435, 0.00035658694228818904, 0.0003456822365262242, 0.00029879424417427966, 0.000338984359906608, 0.00035608165070419203, 0.0003672755761734468, 0.00033605619981887395], \"topics\": [1, 2, 3, 4, 5, 6, 7, 8, 9, 10, 11, 12, 13, 14, 15, 16, 17, 18, 19, 20, 21, 22, 23, 24, 25, 26, 27], \"cluster\": [1, 1, 1, 1, 1, 1, 1, 1, 1, 1, 1, 1, 1, 1, 1, 1, 1, 1, 1, 1, 1, 1, 1, 1, 1, 1, 1], \"Freq\": [42.46325180862775, 20.41480207471164, 14.855011271541846, 5.115691784509724, 2.7063274131577466, 1.4470051030023927, 1.2459471872946648, 1.2064097080692928, 1.0476654894280202, 0.8174334571402297, 0.8015569328445774, 0.6252106757291528, 0.5871257097070394, 0.5794680219095286, 0.5203401863112214, 0.5071563989874273, 0.5016572862725213, 0.4849256403862339, 0.4835335525870334, 0.47074994013587695, 0.44553290823515074, 0.44553290823515074, 0.44553290823515074, 0.44553290823515074, 0.44553290823515074, 0.44553290823515074, 0.44553290823515074]}, \"tinfo\": {\"Term\": [\"pixel\", \"instal\", \"chatbot\", \"music\", \"neuron\", \"page\", \"prefer\", \"https\", \"region\", \"column\", \"neuron\", \"tabl\", \"interview\", \"agent\", \"reward\", \"devic\", \"star\", \"batch\", \"sequenc\", \"label\", \"supervis\", \"price\", \"chatbot\", \"messag\", \"bot\", \"app\", \"social\", \"job\", \"robot\", \"simul\", \"player\", \"tree\", \"custom\", \"voic\", \"hous\", \"letter\", \"pool\", \"semant\", \"synaps\", \"mario\", \"edg\", \"phrase\", \"augment\", \"car\", \"sentenc\", \"translat\", \"pixel\", \"relationship\", \"trust\", \"bank\", \"enterpris\", \"secur\", \"hello\", \"exponenti\", \"conveni\", \"embrac\", \"leader\", \"polit\", \"money\", \"titl\", \"wave\", \"fear\", \"ture\", \"startup\", \"cuda\", \"gpus\", \"offlin\", \"kaggl\", \"ubuntu\", \"ensembl\", \"cpus\", \"titan\", \"percent\", \"desktop\", \"card\", \"instal\", \"retrain\", \"netflix\", \"scikit\", \"bound\", \"mask\", \"region\", \"box\", \"segment\", \"uncertainti\", \"entropi\", \"increment\", \"propos\", \"sight\", \"outcom\", \"pixel\", \"distribut\", \"visualis\", \"height\", \"steadili\", \"sweet\", \"android\", \"repo\", \"subtl\", \"hadoop\", \"crawl\", \"usag\", \"page\", \"behaviour\", \"column\", \"relationship\", \"mnist\", \"caff\", \"extract\", \"nod\", \"annot\", \"women\", \"float\", \"selfi\", \"attract\", \"facial\", \"norm\", \"shrink\", \"off\", \"anecdot\", \"pretrain\", \"hair\", \"wear\", \"camera\", \"discoveri\", \"citi\", \"trip\", \"wake\", \"labor\", \"treatment\", \"dramat\", \"conceptu\", \"storag\", \"alarm\", \"philosophi\", \"survey\", \"singular\", \"cook\", \"recip\", \"watson\", \"aggreg\", \"eleg\", \"tast\", \"nois\", \"bottleneck\", \"ingredi\", \"boost\", \"pretrain\", \"weak\", \"sheet\", \"cheat\", \"scipi\", \"wiki\", \"wrangl\", \"matlab\", \"panda\", \"wikipedia\", \"numpi\", \"https\", \"scikit\", \"chatbot\", \"handwritten\", \"endless\", \"alex\", \"song\", \"music\", \"tini\", \"unlimit\", \"echo\", \"ucsd\", \"tast\", \"folk\", \"exhaust\", \"quora\", \"ship\", \"meet\", \"revenu\", \"enorm\", \"smartest\", \"schedul\", \"obvious\", \"skill\", \"steve\", \"difficulti\", \"manufactur\", \"children\", \"prime\", \"tini\", \"crazi\", \"depict\", \"child\", \"junk\", \"sake\", \"innov\", \"stem\", \"young\", \"imagenet\", \"passion\", \"talent\", \"dictionari\", \"microsoft\", \"analyt\", \"http\", \"edit\", \"worldwid\", \"adjac\", \"distanc\", \"earth\", \"decemb\", \"gaussian\", \"quantum\", \"philosophi\", \"ship\", \"root\", \"fuel\", \"excerpt\", \"worldwid\", \"distribut\", \"fiction\", \"planet\", \"land\", \"civil\", \"tast\", \"eleg\", \"forest\", \"strict\", \"formul\", \"ensembl\", \"apach\", \"holiday\", \"pars\", \"conserv\", \"octav\", \"tini\", \"favorit\", \"subtl\", \"advic\", \"commerci\", \"practition\", \"divers\", \"sensor\", \"william\", \"snippet\", \"formal\", \"handwritten\", \"earth\", \"difficulti\", \"modif\", \"vote\", \"inher\", \"bound\", \"simul\", \"maxim\", \"favor\", \"prefer\", \"coeffici\", \"octav\", \"whenev\", \"contest\", \"conserv\", \"frustrat\", \"will\", \"contrari\", \"https\", \"afternoon\", \"varianc\", \"coordin\", \"descent\", \"comparison\", \"hire\", \"outlier\", \"irrelev\", \"bit\", \"pseudo\", \"machinelearn\", \"stag\", \"will\", \"suspect\", \"sensit\", \"contrari\", \"hang\", \"berkeley\", \"destin\", \"mini\", \"exhaust\", \"forum\", \"boost\", \"chunk\", \"competitor\", \"kaggl\", \"scikit\", \"messag\", \"competit\", \"water\", \"stag\", \"static\", \"wast\", \"holiday\", \"align\", \"conflict\", \"premium\", \"chief\", \"germani\", \"obscur\", \"land\", \"inspect\", \"bit\", \"atom\", \"monitor\", \"spoiler\", \"terribl\", \"song\", \"threat\", \"lose\", \"reli\", \"simul\", \"brute\", \"root\", \"premium\", \"germani\", \"inclin\", \"enlarg\", \"clearer\", \"strike\", \"delight\", \"opt\", \"presid\", \"formal\", \"markov\", \"chain\", \"statement\", \"transcript\", \"decemb\", \"hinton\", \"relationship\", \"cnns\", \"represent\", \"hierarch\", \"offic\", \"contest\", \"strike\", \"holiday\", \"brute\", \"excerpt\", \"whenev\", \"hang\", \"fresh\", \"premium\", \"frustrat\", \"rent\", \"organis\", \"ensembl\", \"centr\", \"analys\", \"mode\", \"novemb\", \"parti\", \"percept\", \"compris\", \"plus\", \"pars\", \"barrier\", \"fresh\", \"conserv\", \"afternoon\", \"fuel\", \"brute\", \"stark\", \"suspect\", \"enlarg\", \"oliv\", \"offic\", \"unlimit\", \"offlin\", \"aggreg\", \"screenshot\", \"speech\", \"seed\", \"alphago\", \"assist\", \"neuron\", \"html\", \"lstm\", \"netflix\", \"descend\", \"obscur\", \"hang\", \"somewher\", \"fresh\", \"align\", \"king\", \"snap\", \"stark\", \"root\", \"destin\", \"suspect\", \"ship\", \"child\", \"quora\", \"symbol\", \"planet\", \"wake\", \"chines\", \"fiction\", \"netflix\", \"room\", \"dark\", \"race\", \"tag\", \"send\", \"coeffici\", \"hang\", \"ocean\", \"root\", \"snap\", \"strike\", \"machinelearn\", \"delight\", \"contrari\", \"descend\", \"stag\", \"frustrat\", \"disabl\", \"boost\", \"tree\", \"instanc\", \"region\", \"hyperparamet\", \"logist\", \"neighbor\", \"segment\", \"distribut\", \"pixel\", \"fourth\", \"invari\", \"coeffici\", \"lesson\", \"suspect\", \"static\", \"opt\", \"delight\", \"probabilist\", \"horror\", \"water\", \"somewher\", \"decemb\", \"percent\", \"incom\", \"baidu\", \"pool\", \"chines\", \"diagram\", \"educ\", \"batch\", \"speech\"], \"Freq\": [5.0, 3.0, 5.0, 2.0, 9.0, 2.0, 2.0, 3.0, 2.0, 3.0, 9.622679713792374, 6.025005980650736, 6.110339103480824, 5.156275958193111, 4.965537620022395, 4.743892767035203, 4.470296999641372, 4.154094655703955, 4.156394661402889, 3.925874055301651, 3.9652949081070683, 4.066414593405214, 5.521798128503998, 3.4887781887233658, 3.2500416819172506, 3.125192653064442, 3.042440207713184, 2.9722746499993122, 2.5494592855466642, 2.6836314969079598, 2.9305904941867063, 2.4404010003864967, 3.2656176446601197, 2.885704412934124, 4.358829487141138, 3.4438715515248277, 3.159345506640238, 2.6332325506677585, 2.7247232868439766, 2.4477592623774553, 2.436722572335526, 2.7302913277007703, 2.1786940661492156, 2.09037683931966, 3.2821026501140773, 4.723861381239768, 3.7423960177838396, 2.71679899607497, 1.457300765146301, 1.2783980830606496, 1.190030003434498, 1.1115836864450277, 1.0540003566259946, 0.9163420381000867, 0.9044553107332101, 0.8486905998269015, 0.8502698042390617, 1.3105569112415563, 1.0444791703095302, 1.622124979591279, 1.1860648784097405, 0.9520467891542195, 1.0963898459707067, 1.168618158975068, 0.8902160937370643, 1.5598066396848105, 0.6916131107705368, 0.667289491879423, 0.6690246080884373, 0.8458153414095114, 0.8704803145662455, 0.5943651515230651, 0.6137082613165434, 0.9192802180050372, 1.5010686242976254, 1.561441429091858, 0.7679845853462562, 0.7918967235846607, 0.6922838543069, 1.1708183641270928, 0.9891308851022937, 1.2537490902219002, 0.9016930498661692, 0.8957579904602627, 0.26989258950132156, 0.8363887858371357, 0.16938218433036245, 0.7045592131972833, 0.11429162193780776, 0.3992085386219909, 0.5887348624929009, 0.436090913426811, 0.27386727412972844, 0.3861395324807336, 0.1853477308711766, 0.18389707106531025, 0.17355813925670507, 0.17292182139053344, 0.17472533324648595, 0.15175197976985727, 0.14637990046542065, 0.1453910987630983, 0.7494538071296862, 0.3031159504230693, 0.34643098819382045, 0.31123821961156256, 0.2259858091453582, 0.21216902307341232, 0.2127957673772616, 0.20006114733311692, 1.0324446007911077, 0.8071868979025886, 0.5176658168359219, 0.29046328857686465, 0.5856120016289742, 0.4801697571078703, 0.18498917032285986, 0.1767358130217555, 0.14364938084699388, 0.14364811160214908, 0.3020619902371097, 0.23651597596796958, 0.2296669453900022, 0.2234243428854766, 0.2861073392812287, 0.25134644260477046, 0.2534861360177082, 0.21616627649032186, 0.21400382011799896, 0.1822916490736694, 0.1641296807196388, 0.1983448236794337, 0.1381159899185689, 0.13694617443725932, 0.208893226120145, 0.1570078219752369, 0.1724860522793156, 0.20092956420037822, 0.3277968930336907, 0.35831519158173003, 0.09371772163812073, 0.09481707403625181, 0.1133147756125791, 0.36991785317059117, 0.09117856923582392, 0.17095999004369566, 0.13104540714286184, 0.17894040969886812, 0.13477993339711483, 0.674478888429911, 0.674478888429911, 0.2013487706449873, 0.16870429902160652, 0.06933191114405142, 0.08922588708096668, 0.1350827963264623, 0.13738535212053174, 0.17925823957929035, 0.21880335735550802, 0.1204150786311475, 0.09416662480347207, 0.15886078147331523, 0.09581541072462285, 0.06986893765105998, 0.2568389692208032, 0.3725144073299884, 0.056087455271922514, 0.04915734369750171, 0.10027807747539819, 0.050702784660461284, 0.06135298002751734, 0.12609464582148874, 0.05175839535168871, 0.05069759667923134, 0.0456607194346712, 0.1619196391877975, 0.06520262339488148, 0.03550656602364982, 0.054173326608484326, 0.07497660317451003, 0.10705082442608951, 0.09718463296859683, 0.049427869528954435, 0.04165846153914228, 0.044587651613479155, 0.11433259686157915, 0.04537297919993735, 0.03887003194658313, 0.1281521265459155, 0.04237617628140432, 0.11653022493520279, 0.04620669170357094, 0.07829994112405926, 0.10838086502446963, 0.04942832847840595, 0.08664767911182913, 0.08666399164718643, 0.08327005548712607, 0.0841433112684751, 0.0547585608549973, 0.06210385194553556, 0.0785577010989305, 0.06623777563994236, 0.04210245999964828, 0.00704984936207697, 0.007059106664381912, 0.03326324022561395, 0.060935783511030586, 0.04910340438819955, 0.16061100459677735, 0.04972414270048093, 0.06188446735896995, 0.00852846116897213, 0.00719268480277983, 0.007191119310462459, 0.007117339583497476, 0.007059007945872032, 0.03227551155291226, 0.01052705079534376, 0.008186698233913622, 0.007313836971750708, 0.007934080681385144, 0.1005592082061318, 0.04328053566909955, 0.08550630029300392, 0.03918807264119888, 0.03617174708851525, 0.043280544564366, 0.0070992773169286484, 0.006946232033775603, 0.0069539627615961, 0.006947226821074012, 0.0069678527201636, 0.007412726492408588, 0.008864654135502125, 0.007427311023031684, 0.008174057522739286, 0.0079388740904247, 0.007686612487791153, 0.007703740323347811, 0.057435543556253875, 0.04099525840341791, 0.0374512455755394, 0.027524887224672206, 0.03824218067788302, 0.031202908998675873, 0.01800408113200155, 0.015862749731270928, 0.04401079646914373, 0.010942827886971058, 0.030162225130861992, 0.025297512650747755, 0.02132310052042163, 0.09038998297508753, 0.15890603598163477, 0.007047405614702861, 0.0069225546152659675, 0.006812323545613598, 0.006765772980403873, 0.00673149881210343, 0.0067320103881822945, 0.006734613996047352, 0.006719091663207511, 0.055098612804045044, 0.006738370079073314, 0.0070706237379693036, 0.00833586284171049, 0.007688615500646339, 0.007197904009289073, 0.006952706880774556, 0.006960554143447973, 0.0069655484406424715, 0.07457554782007698, 0.04430962358983603, 0.006891181526879462, 0.006878845719801175, 0.006792733661762576, 0.006685532340218872, 0.006675350812745946, 0.006657219249235027, 0.0066550684476400085, 0.006650865619943662, 0.006660668044289395, 0.006895177760761539, 0.006944144668355765, 0.0071720621640271355, 0.007391655389747798, 0.007774542592193508, 0.007218437953917143, 0.007245919800429433, 0.007400855422702429, 0.007446125205303924, 0.00724019221299949, 0.006957431461870928, 0.006371523820588592, 0.006349875619603301, 0.0063600542175242195, 0.006340414612506636, 0.00633848765072444, 0.006331901615306234, 0.006309615482661582, 0.0063175214901922926, 0.006303305950129786, 0.006308392944899526, 0.006938823475955735, 0.00747084794641901, 0.006563655142911662, 0.006443670665395244, 0.006445695719868095, 0.006449820221257046, 0.006598660408331179, 0.006688606797280377, 0.006560684053563166, 0.006625473946570693, 0.006608085206716528, 0.006555949270803496, 0.006327378818092812, 0.0063277948891028385, 0.0063118354058353315, 0.0063118354058353315, 0.0063118354058353315, 0.0063118354058353315, 0.0063118354058353315, 0.0063118354058353315, 0.0063118354058353315, 0.0063118354058353315, 0.007005752974631912, 0.006333679133861727, 0.006758242732542343, 0.006491408888733944, 0.006456924370417168, 0.006397537475478134, 0.006327391326556721, 0.006443528463910805, 0.00639887127273496, 0.0063964057886644705, 0.006394031813882578, 0.006384998069579438, 0.0063789123727175925, 0.006318722961067765, 0.006309928194259308, 0.006310799836691705, 0.006314422682843882, 0.006314304839947055, 0.006314707744152968, 0.006309688558424419, 0.006309451555950353, 0.0062988450368957035, 0.0063096780249811265, 0.007152653033119734, 0.009927032961502808, 0.009465380450651517, 0.008722836557578694, 0.007413584856983689, 0.007687598559075869, 0.0066216799319650235, 0.007455057656584377, 0.007313819323865905, 0.00673990664113212, 0.006849673020315275, 0.006455239677830683, 0.006420490506751199, 0.006424374055624849, 0.006405627159926246, 0.0064199723930092835, 0.00639348473317161, 0.00638162539270544, 0.006340194068537713, 0.006329205712163736, 0.006311684645928217, 0.00631792505273841, 0.006322893546271117, 0.006429709244652152, 0.007233187132147492, 0.006419371328401444, 0.006654280280612977, 0.006898331603261597, 0.006689440914321047, 0.006715353184818905, 0.006711411702007151, 0.006692374478277817, 0.00656095068134649, 0.0066227484181189365, 0.006559414115306297, 0.0064560507529641525, 0.0063815246666539625, 0.0063537920854872375, 0.006399087866662648, 0.006337860910848577, 0.0063219876701480215, 0.0063139486778957515, 0.006313489814772351, 0.0063137867262051395, 0.006317073818852391, 0.006330198489193989, 0.00631689475031643, 0.006451294903317899, 0.00765315617453226, 0.006399328819177949, 0.007244928629716834, 0.006641392612745444, 0.006442163066324104, 0.0065659481418482496, 0.006590543073594426, 0.0065747007748835394, 0.006584154540237941, 0.006562296987067224, 0.006535395889580347, 0.006577218267830282, 0.006572734971029205, 0.008126538991169397, 0.0064017008189392235, 0.006357065352990168, 0.006327118773711545, 0.006317023126656549, 0.0063136181911124705, 0.006317026418357578, 0.006311120448371899, 0.006315043497657893, 0.006310795228310265, 0.006314383182431538, 0.006313538531947576, 0.006500268172882564, 0.007173237356332553, 0.007190194883351959, 0.0071516951481203845, 0.006880038962304953, 0.006855095110249736, 0.0068005042237095055, 0.006559917087223481, 0.006643772512589188, 0.006661432488608118, 0.006636295742872619, 0.006584500168845954, 0.006386075772496231, 0.006406821389059456, 0.006344693165503729, 0.006357237179783866, 0.006340492954991119, 0.006323649320827305, 0.006315233757977352, 0.006314975030276497, 0.0063152324412969404, 0.006358521601525261, 0.006321757251076013, 0.0063729938942680055, 0.006780932427733113, 0.0067984587606902775, 0.006664124441709381, 0.006849045622099206, 0.006532248365056712, 0.006542470413431211, 0.006510843091607338, 0.00651447449618219, 0.006488167221560889], \"Total\": [5.0, 3.0, 5.0, 2.0, 9.0, 2.0, 2.0, 3.0, 2.0, 3.0, 9.998420264527201, 6.314997646676464, 6.416668396483461, 5.446820721841912, 5.269467298869229, 5.037338737933539, 4.7696668661993575, 4.440724876801505, 4.460300966049173, 4.213516681245397, 4.260685160238247, 4.553447170774295, 5.898536792029318, 3.7805143810588704, 3.541208585947612, 3.414625481348334, 3.3606105639460506, 3.294149576109662, 2.8380199113713815, 2.9932573820394377, 3.275448439273055, 2.7355886754450607, 4.087343389954429, 3.563116653691485, 4.650942799291187, 3.7389211542804297, 3.4902339959720434, 2.922478367526302, 3.0245452311357264, 2.736162419555716, 2.7260960439993407, 3.0888006973283963, 2.4826335166705493, 2.383495123780461, 3.9742924259913126, 6.139689915747856, 5.320471190316049, 3.4260702225985256, 1.758692874267104, 1.5735438614874353, 1.4990980646728091, 1.4127915308863117, 1.3482232524065478, 1.2145831199508352, 1.2055896103638548, 1.1427945308505298, 1.1462545576928387, 1.775307219393211, 1.423679415897781, 2.303458773578844, 1.7085730475476066, 1.3296237895734786, 2.182414492327703, 3.0261134495781987, 1.1904570028584558, 2.2161543871466125, 0.9908124130367857, 0.9665001315914095, 0.9705756989761996, 1.2546390026100138, 1.293686731603554, 0.8939075898115271, 0.9542090928385593, 1.4674225971533241, 2.8634136451296106, 3.4250289368148708, 1.4771150985433374, 1.7992445985799321, 2.5311440723921717, 1.4995776050102472, 1.2936830099877454, 2.2597407076913507, 1.7413924066240758, 2.0279365871405775, 0.7094928776739493, 2.227223811438571, 0.4756528743086917, 2.0008105823013964, 0.4179276083004794, 2.143172706020971, 5.320471190316049, 3.019946796728725, 0.5792187800326584, 0.8716910664668515, 0.49023781889839185, 0.4896291280174535, 0.47966916683003047, 0.4797244203415417, 0.5211678871188091, 0.4567938607477125, 0.45124669767919545, 0.45062328291968634, 2.5779363244424047, 1.3102432568261528, 3.297674767920908, 3.4260702225985256, 1.286125795589394, 1.0537760326082164, 1.6964582893024325, 1.5951264904396025, 1.3829282041003164, 1.5666160953812467, 1.043340859122147, 0.5955919700741907, 1.397992341427261, 1.1787928570441766, 0.4908316999423663, 0.4815397022436714, 0.44867248005137184, 0.44881477528653296, 1.1741533580826842, 1.259725453244069, 1.5034169951124716, 2.038341781398499, 0.5943313404025358, 0.5579518909554189, 0.56953862774183, 0.5226350209816557, 0.5202073517612282, 0.4882682152150777, 0.47058306225358976, 0.595749536336792, 0.4445701514383396, 0.4429553243230809, 0.6763697736033659, 0.7351940487512133, 1.4334124415234044, 0.5090864731981416, 1.1122305110183277, 1.3920195922762657, 0.40193089799758064, 0.4399559423213227, 0.5683617248436588, 1.9966696815791265, 0.5047505692080377, 0.9699128015162066, 0.8517745485069752, 1.1741533580826842, 1.0108168973150449, 1.3348499913265897, 1.3461724266343351, 0.5115283114018757, 0.81938223181145, 0.37708633028102573, 0.6783381940865033, 1.274405061427009, 1.4314574439772927, 2.202013331109188, 3.0192676599609403, 2.5311440723921717, 5.898536792029318, 0.5004194353254057, 0.40555503739977633, 0.37952308875617824, 1.5327003669954777, 2.2821358109632635, 0.39774032676930604, 0.35920148195226387, 0.7520154106430227, 0.4312842478777667, 0.5683617248436588, 0.6015883681537714, 0.36206765475878355, 0.3609629749932989, 0.3585874271922996, 1.7146998281432688, 0.8082894124029855, 0.468189163001736, 0.7629132592743116, 1.3621011333968547, 1.986680850724886, 2.83728383145709, 0.3595417349647894, 0.3632127411184781, 0.3925035213424674, 1.035554738355354, 0.4335044423921743, 0.39774032676930604, 1.3541875669285808, 0.4850592197540881, 1.5945328073979448, 0.6519247358936432, 1.1373808119117401, 2.6609943519281556, 1.0572933291998516, 0.9493449009927394, 1.2953561436636987, 1.3430411131638276, 1.6444375118599133, 1.491991600545054, 1.8602829768062243, 2.4199037507311534, 2.237255105958256, 1.7241181786424902, 0.3177271670514788, 0.31821585340463493, 2.1576523089744883, 0.4207205975082781, 0.36106716303116326, 1.2241228493046594, 0.41835882740406033, 0.6763697736033659, 0.3585874271922996, 0.3179833484247664, 0.3182872190001152, 0.3179585160006167, 0.3177271670514788, 3.019946796728725, 1.670711085172629, 1.154419228693185, 0.3784251174350963, 1.1734704668263483, 0.5683617248436588, 0.4399559423213227, 1.2483613272847778, 0.7881079773845476, 0.8901707398543568, 1.2546390026100138, 0.3180241946955912, 0.31772672840537797, 0.3181746981672079, 0.3178811386844983, 0.3189647440168281, 0.39774032676930604, 1.8107653322327284, 0.5211678871188091, 1.1225072317407676, 1.1770650660628195, 1.5435509868135289, 1.7534535152513366, 0.3700336273471181, 0.3521301339358453, 0.34909835280523754, 0.3386174601871779, 0.5004194353254057, 0.4207205975082781, 0.3632127411184781, 0.32737507576515057, 1.0064395852972288, 0.42131604550691815, 1.4995776050102472, 2.9932573820394377, 1.8219510534988161, 0.6830208155497204, 2.6471994305981794, 0.31983332563001987, 0.3189647440168281, 0.31797895087909483, 0.3177014463530066, 0.3178811386844983, 0.31823463573166966, 0.3184802368310316, 0.3178749386617325, 3.0192676599609403, 0.31942485077109317, 0.3893612334881579, 1.7971236066394587, 3.1234181381543467, 1.6129496175674747, 0.8731645455588442, 0.9377204961797835, 1.3385528257018118, 0.43621001870341236, 0.5445626401009287, 0.31790282018374355, 0.3180614929643508, 0.3184802368310316, 0.3184538428394509, 0.31798287720183444, 0.3178749386617325, 0.31786138956345183, 0.31781882408503975, 0.31887669259013934, 0.3470858847174117, 0.36206765475878355, 0.5271546339949807, 0.8517745485069752, 2.034447070593203, 0.847689030045913, 0.9665001315914095, 2.5311440723921717, 3.7805143810588704, 2.1362641860939746, 0.3215333808528275, 0.3180614929643508, 0.31774984931161143, 0.318471707638157, 0.31772672840537797, 0.31785520286484836, 0.3177711992798258, 0.3175417873963325, 0.318016664538749, 0.3175851717593329, 0.3179045905258691, 0.3784251174350963, 1.043141746354279, 0.43621001870341236, 0.39095832704125066, 0.4276305150587164, 0.4348981814029826, 0.791982457072707, 1.5327003669954777, 1.0286461177644806, 2.19186710813552, 1.7188944237729098, 2.9932573820394377, 0.31791122486146733, 0.3179833484247664, 0.3175417873963325, 0.3175851717593329, 0.3175974466422201, 0.3176073843753693, 0.3176136825356039, 0.3176412014209143, 0.31764316556998684, 0.3176445020745148, 1.3350984951340643, 0.3386174601871779, 1.5869626738934335, 1.6950124795464676, 1.1843611106598924, 1.0364337904122236, 0.36106716303116326, 2.262693651469565, 3.4260702225985256, 2.4535724066730924, 3.8414223718794998, 2.515075244087951, 0.3193350374922397, 0.3177014463530066, 0.3176412014209143, 0.31772672840537797, 0.31791122486146733, 0.3179585160006167, 0.31797895087909483, 0.31786138956345183, 0.3179948384401819, 0.3175417873963325, 0.31823463573166966, 0.3842299188690499, 0.8763897826497817, 1.2546390026100138, 1.0883721266164867, 0.6697669558163489, 1.0739143390969261, 0.42810218804896455, 0.963861035978694, 1.5019810193832983, 0.7014342470200002, 1.9476274873694768, 0.3181746981672079, 0.3177629267619984, 0.3179948384401819, 0.3178811386844983, 0.31942485077109317, 0.3182872190001152, 0.31791122486146733, 0.31777720780652935, 0.3184538428394509, 0.3176073843753693, 0.31808063020313476, 0.3193350374922397, 0.35920148195226387, 0.9908124130367857, 0.40193089799758064, 1.0597705400475206, 3.9422623926220655, 1.4718292645505073, 2.3989579245628936, 3.4867771817940514, 9.998420264527201, 1.484043723803361, 4.017151830495702, 1.7992445985799321, 0.31776903704243264, 0.3179045905258691, 0.31786138956345183, 0.3206814933984202, 0.3179948384401819, 0.31785520286484836, 0.317696583205725, 0.3176993742735186, 0.31777720780652935, 0.3179833484247664, 0.31887669259013934, 0.3184538428394509, 0.3585874271922996, 1.5945328073979448, 0.3609629749932989, 2.5046895950136974, 1.154419228693185, 0.5226350209816557, 1.0445878233453405, 1.670711085172629, 1.7992445985799321, 2.156998014493367, 1.7517723400332046, 1.1661136779366685, 2.4574370093790554, 2.234184989273338, 0.31983332563001987, 0.31786138956345183, 0.31783740459818044, 0.3179833484247664, 0.3176993742735186, 0.3176412014209143, 0.31790282018374355, 0.31764316556998684, 0.3178749386617325, 0.31776903704243264, 0.3180614929643508, 0.31823463573166966, 0.39603931817048205, 0.8517745485069752, 2.7355886754450607, 2.7331232727800088, 2.2597407076913507, 2.3080959691211493, 2.0369281123055187, 0.9787488216883602, 2.0279365871405775, 3.019946796728725, 5.320471190316049, 0.31866021540311484, 0.3178140030558389, 0.31983332563001987, 0.3177556218077772, 0.3184538428394509, 0.31774984931161143, 0.3176445020745148, 0.31764316556998684, 0.3176651852044451, 0.31781283735714916, 0.3215333808528275, 0.3206814933984202, 0.36106716303116326, 0.9542090928385593, 2.029392024940192, 1.2187673706034095, 3.4902339959720434, 1.0445878233453405, 2.3725569147592784, 2.149769763634759, 4.440724876801505, 3.9422623926220655], \"Category\": [\"Default\", \"Default\", \"Default\", \"Default\", \"Default\", \"Default\", \"Default\", \"Default\", \"Default\", \"Default\", \"Topic1\", \"Topic1\", \"Topic1\", \"Topic1\", \"Topic1\", \"Topic1\", \"Topic1\", \"Topic1\", \"Topic1\", \"Topic1\", \"Topic1\", \"Topic1\", \"Topic2\", \"Topic2\", \"Topic2\", \"Topic2\", \"Topic2\", \"Topic2\", \"Topic2\", \"Topic2\", \"Topic2\", \"Topic2\", \"Topic2\", \"Topic2\", \"Topic3\", \"Topic3\", \"Topic3\", \"Topic3\", \"Topic3\", \"Topic3\", \"Topic3\", \"Topic3\", \"Topic3\", \"Topic3\", \"Topic3\", \"Topic3\", \"Topic3\", \"Topic3\", \"Topic4\", \"Topic4\", \"Topic4\", \"Topic4\", \"Topic4\", \"Topic4\", \"Topic4\", \"Topic4\", \"Topic4\", \"Topic4\", \"Topic4\", \"Topic4\", \"Topic4\", \"Topic4\", \"Topic4\", \"Topic4\", \"Topic5\", \"Topic5\", \"Topic5\", \"Topic5\", \"Topic5\", \"Topic5\", \"Topic5\", \"Topic5\", \"Topic5\", \"Topic5\", \"Topic5\", \"Topic5\", \"Topic5\", \"Topic5\", \"Topic5\", \"Topic6\", \"Topic6\", \"Topic6\", \"Topic6\", \"Topic6\", \"Topic6\", \"Topic6\", \"Topic6\", \"Topic6\", \"Topic6\", \"Topic6\", \"Topic6\", \"Topic6\", \"Topic7\", \"Topic7\", \"Topic7\", \"Topic7\", \"Topic7\", \"Topic7\", \"Topic7\", \"Topic7\", \"Topic7\", \"Topic7\", \"Topic7\", \"Topic7\", \"Topic7\", \"Topic7\", \"Topic7\", \"Topic7\", \"Topic7\", \"Topic7\", \"Topic8\", \"Topic8\", \"Topic8\", \"Topic8\", \"Topic8\", \"Topic8\", \"Topic8\", \"Topic8\", \"Topic8\", \"Topic8\", \"Topic8\", \"Topic8\", \"Topic8\", \"Topic8\", \"Topic9\", \"Topic9\", \"Topic9\", \"Topic9\", \"Topic9\", \"Topic9\", \"Topic9\", \"Topic9\", \"Topic9\", \"Topic9\", \"Topic9\", \"Topic9\", \"Topic9\", \"Topic10\", \"Topic10\", \"Topic10\", \"Topic10\", \"Topic10\", \"Topic10\", \"Topic10\", \"Topic10\", \"Topic10\", \"Topic10\", \"Topic10\", \"Topic10\", \"Topic11\", \"Topic11\", \"Topic11\", \"Topic11\", \"Topic11\", \"Topic11\", \"Topic11\", \"Topic11\", \"Topic11\", \"Topic11\", \"Topic11\", \"Topic11\", \"Topic12\", \"Topic12\", \"Topic12\", \"Topic12\", \"Topic12\", \"Topic12\", \"Topic12\", \"Topic12\", \"Topic12\", \"Topic12\", \"Topic13\", \"Topic13\", \"Topic13\", \"Topic13\", \"Topic13\", \"Topic13\", \"Topic13\", \"Topic13\", \"Topic13\", \"Topic13\", \"Topic13\", \"Topic14\", \"Topic14\", \"Topic14\", \"Topic14\", \"Topic14\", \"Topic14\", \"Topic14\", \"Topic14\", \"Topic14\", \"Topic14\", \"Topic14\", \"Topic14\", \"Topic14\", \"Topic15\", \"Topic15\", \"Topic15\", \"Topic15\", \"Topic15\", \"Topic15\", \"Topic15\", \"Topic15\", \"Topic15\", \"Topic15\", \"Topic15\", \"Topic15\", \"Topic16\", \"Topic16\", \"Topic16\", \"Topic16\", \"Topic16\", \"Topic16\", \"Topic16\", \"Topic16\", \"Topic16\", \"Topic16\", \"Topic16\", \"Topic16\", \"Topic16\", \"Topic16\", \"Topic16\", \"Topic17\", \"Topic17\", \"Topic17\", \"Topic17\", \"Topic17\", \"Topic17\", \"Topic17\", \"Topic17\", \"Topic17\", \"Topic17\", \"Topic17\", \"Topic17\", \"Topic17\", \"Topic17\", \"Topic17\", \"Topic17\", \"Topic17\", \"Topic17\", \"Topic18\", \"Topic18\", \"Topic18\", \"Topic18\", \"Topic18\", \"Topic18\", \"Topic18\", \"Topic18\", \"Topic18\", \"Topic18\", \"Topic18\", \"Topic18\", \"Topic18\", \"Topic19\", \"Topic19\", \"Topic19\", \"Topic19\", \"Topic19\", \"Topic19\", \"Topic19\", \"Topic19\", \"Topic19\", \"Topic19\", \"Topic19\", \"Topic19\", \"Topic19\", \"Topic19\", \"Topic19\", \"Topic19\", \"Topic19\", \"Topic19\", \"Topic19\", \"Topic20\", \"Topic20\", \"Topic20\", \"Topic20\", \"Topic20\", \"Topic20\", \"Topic20\", \"Topic20\", \"Topic20\", \"Topic20\", \"Topic20\", \"Topic20\", \"Topic20\", \"Topic20\", \"Topic20\", \"Topic20\", \"Topic20\", \"Topic20\", \"Topic20\", \"Topic20\", \"Topic20\", \"Topic21\", \"Topic21\", \"Topic21\", \"Topic21\", \"Topic21\", \"Topic21\", \"Topic21\", \"Topic21\", \"Topic21\", \"Topic21\", \"Topic21\", \"Topic21\", \"Topic21\", \"Topic21\", \"Topic21\", \"Topic21\", \"Topic21\", \"Topic21\", \"Topic21\", \"Topic21\", \"Topic21\", \"Topic21\", \"Topic21\", \"Topic22\", \"Topic22\", \"Topic22\", \"Topic22\", \"Topic22\", \"Topic22\", \"Topic22\", \"Topic22\", \"Topic22\", \"Topic22\", \"Topic22\", \"Topic22\", \"Topic22\", \"Topic22\", \"Topic22\", \"Topic22\", \"Topic22\", \"Topic22\", \"Topic22\", \"Topic22\", \"Topic22\", \"Topic22\", \"Topic23\", \"Topic23\", \"Topic23\", \"Topic23\", \"Topic23\", \"Topic23\", \"Topic23\", \"Topic23\", \"Topic23\", \"Topic23\", \"Topic23\", \"Topic23\", \"Topic23\", \"Topic23\", \"Topic23\", \"Topic23\", \"Topic23\", \"Topic23\", \"Topic23\", \"Topic23\", \"Topic23\", \"Topic23\", \"Topic24\", \"Topic24\", \"Topic24\", \"Topic24\", \"Topic24\", \"Topic24\", \"Topic24\", \"Topic24\", \"Topic24\", \"Topic24\", \"Topic24\", \"Topic24\", \"Topic24\", \"Topic24\", \"Topic24\", \"Topic24\", \"Topic24\", \"Topic24\", \"Topic24\", \"Topic24\", \"Topic24\", \"Topic24\", \"Topic24\", \"Topic24\", \"Topic25\", \"Topic25\", \"Topic25\", \"Topic25\", \"Topic25\", \"Topic25\", \"Topic25\", \"Topic25\", \"Topic25\", \"Topic25\", \"Topic25\", \"Topic25\", \"Topic25\", \"Topic25\", \"Topic25\", \"Topic25\", \"Topic25\", \"Topic25\", \"Topic25\", \"Topic25\", \"Topic25\", \"Topic25\", \"Topic25\", \"Topic25\", \"Topic25\", \"Topic25\", \"Topic26\", \"Topic26\", \"Topic26\", \"Topic26\", \"Topic26\", \"Topic26\", \"Topic26\", \"Topic26\", \"Topic26\", \"Topic26\", \"Topic26\", \"Topic26\", \"Topic26\", \"Topic26\", \"Topic26\", \"Topic26\", \"Topic26\", \"Topic26\", \"Topic26\", \"Topic26\", \"Topic26\", \"Topic26\", \"Topic26\", \"Topic27\", \"Topic27\", \"Topic27\", \"Topic27\", \"Topic27\", \"Topic27\", \"Topic27\", \"Topic27\", \"Topic27\", \"Topic27\", \"Topic27\", \"Topic27\", \"Topic27\", \"Topic27\", \"Topic27\", \"Topic27\", \"Topic27\", \"Topic27\", \"Topic27\", \"Topic27\", \"Topic27\", \"Topic27\"], \"logprob\": [10.0, 9.0, 8.0, 7.0, 6.0, 5.0, 4.0, 3.0, 2.0, 1.0, -4.7187, -5.1869, -5.1728, -5.3426, -5.3803, -5.426, -5.4854, -5.5587, -5.5582, -5.6152, -5.6052, -5.5801, -4.5417, -5.0009, -5.0718, -5.111, -5.1378, -5.1611, -5.3146, -5.2633, -5.1752, -5.3583, -5.067, -5.1907, -4.4603, -4.6959, -4.7822, -4.9643, -4.9302, -5.0374, -5.0419, -4.9281, -5.1538, -5.1952, -4.744, -4.3799, -4.6128, -4.9331, -4.4899, -4.6209, -4.6925, -4.7607, -4.8139, -4.9539, -4.9669, -5.0306, -5.0287, -4.596, -4.823, -4.3828, -4.6959, -4.9156, -4.7745, -4.7107, -4.3461, -3.7852, -4.5985, -4.6343, -4.6317, -4.3972, -4.3685, -4.75, -4.718, -4.3139, -3.8236, -3.7842, -4.4938, -4.4631, -4.5975, -3.446, -3.6146, -3.3775, -3.7072, -3.7138, -4.9134, -3.7823, -5.3793, -3.9539, -5.7727, -4.522, -4.1335, -4.4336, -4.7492, -4.4056, -5.1396, -5.1475, -5.2053, -5.209, -5.1986, -5.3396, -5.3756, -5.3824, -3.7425, -4.6477, -4.5142, -4.6213, -4.9414, -5.0045, -5.0015, -5.0632, -3.3899, -3.636, -4.0803, -4.6581, -3.9569, -4.1555, -5.1093, -5.1549, -5.3622, -5.3622, -4.619, -4.8636, -4.893, -4.9205, -4.5321, -4.6617, -4.6532, -4.8125, -4.8225, -4.9829, -5.0879, -4.8985, -5.2604, -5.2689, -4.8467, -5.1322, -5.0382, -4.6374, -4.148, -4.0589, -5.4001, -5.3884, -5.2102, -4.0271, -5.4275, -4.7989, -5.0648, -4.7533, -5.0367, -3.4068, -3.4068, -4.6157, -4.7926, -5.6818, -5.4296, -5.0149, -4.998, -4.7319, -4.5326, -5.1298, -5.3757, -4.6042, -5.1099, -5.4257, -4.1238, -3.752, -5.6454, -5.7773, -5.0643, -5.7463, -5.5556, -4.7724, -5.6628, -5.6835, -5.7882, -4.5223, -5.4319, -6.0397, -5.6172, -5.2923, -4.9361, -5.0328, -5.6958, -5.8668, -5.7988, -4.8572, -5.7814, -5.9361, -4.7431, -5.8497, -4.8381, -5.7632, -5.2358, -4.9106, -5.6958, -5.0268, -5.0266, -5.0666, -5.0562, -5.4857, -5.3599, -5.1248, -5.2954, -5.7486, -7.5357, -7.5344, -5.9842, -5.3532, -5.5691, -4.384, -5.5565, -5.3377, -7.3196, -7.4899, -7.4902, -7.5005, -7.5087, -5.9887, -7.1091, -7.3605, -7.4732, -7.3918, -4.8414, -5.6844, -5.0035, -5.7837, -5.8638, -5.6844, -7.4921, -7.5139, -7.5128, -7.5138, -7.5108, -7.4489, -7.27, -7.4469, -7.3511, -7.3803, -7.4126, -7.4104, -5.3675, -5.7047, -5.7951, -6.1031, -5.7742, -5.9777, -6.5276, -6.6542, -5.6337, -7.0255, -6.0116, -6.1875, -6.3584, -4.9112, -4.347, -7.4627, -7.4805, -7.4966, -7.5034, -7.5085, -7.5084, -7.508, -7.5104, -5.4062, -7.5075, -7.4594, -7.2947, -7.3756, -7.4415, -7.4762, -7.4751, -7.4743, -5.0767, -5.5973, -7.4583, -7.4601, -7.4727, -7.4886, -7.4901, -7.4928, -7.4931, -7.4938, -7.4923, -7.4577, -7.4506, -7.4183, -7.3882, -7.3377, -7.4119, -7.4081, -7.3869, -7.3808, -7.4089, -7.3936, -7.4816, -7.485, -7.4834, -7.4865, -7.4868, -7.4879, -7.4914, -7.4901, -7.4924, -7.4916, -7.3963, -7.3225, -7.4519, -7.4704, -7.47, -7.4694, -7.4466, -7.4331, -7.4524, -7.4425, -7.4452, -7.4531, -7.4886, -7.4885, -7.491, -7.491, -7.491, -7.491, -7.491, -7.491, -7.491, -7.491, -7.3867, -7.4876, -7.4227, -7.463, -7.4683, -7.4775, -7.4886, -7.4704, -7.4773, -7.4777, -7.4781, -7.4795, -7.4805, -7.4899, -7.4913, -7.4912, -7.4906, -7.4906, -7.4906, -7.4914, -7.4914, -7.4931, -7.4914, -7.366, -7.0382, -7.0858, -7.1675, -7.3301, -7.2939, -7.4431, -7.3246, -7.3437, -7.4254, -7.4093, -7.4686, -7.474, -7.4734, -7.4763, -7.474, -7.4782, -7.48, -7.4866, -7.4883, -7.4911, -7.4901, -7.4893, -7.4725, -7.3548, -7.4741, -7.4382, -7.4022, -7.4329, -7.4291, -7.4297, -7.4325, -7.4523, -7.4429, -7.4526, -7.4684, -7.4801, -7.4844, -7.4773, -7.4869, -7.4894, -7.4907, -7.4908, -7.4907, -7.4902, -7.4881, -7.4902, -7.4692, -7.2983, -7.4773, -7.3532, -7.4401, -7.4706, -7.4516, -7.4478, -7.4502, -7.4488, -7.4521, -7.4562, -7.4498, -7.4505, -7.2383, -7.4769, -7.4839, -7.4886, -7.4902, -7.4908, -7.4902, -7.4911, -7.4905, -7.4912, -7.4906, -7.4908, -7.4616, -7.3631, -7.3607, -7.3661, -7.4048, -7.4085, -7.4165, -7.4525, -7.4398, -7.4371, -7.4409, -7.4487, -7.4793, -7.4761, -7.4858, -7.4839, -7.4865, -7.4892, -7.4905, -7.4905, -7.4905, -7.4837, -7.4895, -7.4814, -7.4193, -7.4168, -7.4367, -7.4094, -7.4567, -7.4551, -7.46, -7.4594, -7.4635], \"loglift\": [10.0, 9.0, 8.0, 7.0, 6.0, 5.0, 4.0, 3.0, 2.0, 1.0, 0.8182, 0.8095, 0.8076, 0.8017, 0.7971, 0.7965, 0.7917, 0.7898, 0.786, 0.7858, 0.7847, 0.7434, 1.5229, 1.5086, 1.5031, 1.5003, 1.4894, 1.4861, 1.4817, 1.4797, 1.4777, 1.4747, 1.3645, 1.378, 1.842, 1.8246, 1.8072, 1.8026, 1.8024, 1.7954, 1.7946, 1.7835, 1.7762, 1.7756, 1.7155, 1.6447, 1.555, 1.6749, 2.7849, 2.7651, 2.742, 2.7331, 2.7267, 2.6911, 2.6855, 2.6753, 2.6742, 2.6693, 2.6631, 2.6222, 2.6078, 2.6388, 2.2844, 2.0214, 3.3189, 3.2584, 3.2501, 3.2391, 3.2375, 3.2153, 3.2134, 3.2015, 3.1682, 3.1419, 2.9637, 2.8241, 2.9555, 2.7889, 2.3131, 3.9882, 3.9673, 3.6466, 3.5775, 3.4186, 3.2691, 3.2563, 3.2031, 3.1919, 2.9391, 2.5551, 2.0343, 2.3005, 3.6362, 3.571, 3.4126, 3.406, 3.3687, 3.3649, 3.2924, 3.2833, 3.2595, 3.2541, 3.1499, 2.9214, 2.132, 1.9867, 2.6464, 2.7825, 2.3093, 2.3092, 4.1252, 3.7544, 3.7167, 3.6994, 3.5474, 3.5194, 3.4417, 3.4152, 3.2786, 3.2783, 3.0599, 2.7449, 2.5387, 2.2067, 3.8275, 3.7612, 3.7491, 3.6758, 3.6704, 3.5733, 3.5053, 3.4588, 3.3896, 3.3847, 3.3837, 3.0148, 2.4411, 3.8771, 3.585, 3.4497, 3.3508, 3.272, 3.1942, 3.1208, 3.0955, 3.071, 2.935, 2.9255, 2.7919, 4.1437, 4.1353, 3.894, 3.246, 3.1328, 2.7979, 2.582, 2.4827, 2.3181, 2.2018, 1.7809, 0.689, 3.9274, 3.632, 3.3825, 3.2885, 3.2622, 3.1159, 3.086, 3.06, 2.9341, 2.8487, 3.5751, 3.1924, 3.1748, 3.0768, 2.7778, 2.6203, 2.5585, 2.4927, 2.2381, 2.2168, 1.7637, 3.1665, 2.9853, 2.9757, 2.9472, 2.8938, 2.8252, 2.7931, 2.7131, 2.5346, 2.504, 2.4749, 1.95, 2.0879, 2.8645, 2.5539, 2.4778, 2.2858, 1.9535, 1.8588, 1.8308, 1.7387, 1.5461, 1.4503, 1.45, 1.0861, 3.352, 3.289, 3.2531, 3.1543, 2.8926, 1.5453, 1.4952, 1.494, 1.4847, 1.4772, 0.7454, 0.217, 0.3353, 1.3379, 0.2876, 3.563, 2.976, 2.614, 2.2937, 2.0919, 1.9281, 1.4929, 1.472, 1.4717, 1.4717, 1.4712, 1.3124, -0.0244, 1.0441, 0.3727, 0.296, -0.0074, -0.1326, 3.466, 3.1784, 3.0966, 2.8191, 2.7574, 2.7275, 2.3245, 2.3018, 2.1992, 1.6782, 1.4226, 0.5555, 0.8811, 3.3094, 2.5189, 1.5167, 1.5015, 1.4886, 1.4826, 1.4769, 1.4759, 1.4755, 1.4751, 1.3282, 1.4731, 1.3232, -0.0416, -0.6751, -0.0802, 0.4988, 0.4286, 0.0734, 3.5923, 2.8498, 1.5271, 1.5248, 1.5109, 1.4951, 1.495, 1.4926, 1.4924, 1.4919, 1.49, 1.4398, 1.4047, 1.0613, 0.6116, -0.2085, 0.5927, 0.4654, -0.4762, -0.8713, -0.3286, 1.5804, 1.5032, 1.5008, 1.5002, 1.4994, 1.4987, 1.4979, 1.4951, 1.4949, 1.494, 1.4938, 1.4148, 0.4747, 1.2171, 1.3082, 1.2188, 1.2026, 0.626, -0.0207, 0.3588, -0.3879, -0.1475, -0.7101, 1.4968, 1.4966, 1.4955, 1.4953, 1.4953, 1.4953, 1.4952, 1.4952, 1.4952, 1.4951, 0.1636, 1.4347, -0.0452, -0.1513, 0.2018, 0.326, 1.3695, -0.4476, -0.8694, -0.5359, -0.9846, -0.5625, 1.5004, 1.4961, 1.4949, 1.4947, 1.4947, 1.4946, 1.4946, 1.4941, 1.4937, 1.4934, 1.493, 1.4299, 0.9331, 0.5267, 0.5872, 0.91, 0.4742, 1.2446, 0.5516, 0.0889, 0.7686, -0.2365, 1.5159, 1.5118, 1.5117, 1.5092, 1.5065, 1.506, 1.5053, 1.4992, 1.4954, 1.4952, 1.4947, 1.4916, 1.3907, 0.4938, 1.2767, 0.3431, -0.9346, 0.0199, -0.4647, -0.8393, -1.8956, -0.0077, -0.9942, -0.2006, 1.5173, 1.5053, 1.5011, 1.4994, 1.4982, 1.4961, 1.4953, 1.4952, 1.495, 1.4949, 1.4942, 1.4934, 1.3958, 0.0744, 1.3811, -0.432, 0.2556, 1.0176, 0.3442, -0.1217, -0.1982, -0.3782, -0.1734, 0.2295, -0.5096, -0.415, 1.741, 1.5086, 1.5017, 1.4965, 1.4958, 1.4954, 1.4952, 1.495, 1.4949, 1.4946, 1.4942, 1.4936, 1.304, 0.6367, -0.5277, -0.5322, -0.3807, -0.4055, -0.2885, 0.4084, -0.3074, -0.703, -1.2731, 1.5342, 1.5063, 1.5032, 1.5, 1.4998, 1.4993, 1.497, 1.4957, 1.4956, 1.4952, 1.4903, 1.4872, 1.3767, 0.4669, -0.2851, 0.2048, -0.82, 0.339, -0.4798, -0.386, -1.1109, -0.9959]}, \"token.table\": {\"Topic\": [3, 1, 3, 1, 8, 2, 2, 4, 8, 3, 1, 4, 1, 4, 2, 6, 6, 2, 2, 3, 1, 5, 3, 1, 2, 11, 3, 3, 4, 1, 3, 3, 3, 1, 3, 2, 2, 4, 2, 5, 1, 5, 2, 2, 1, 5, 1, 1, 3, 1, 2, 1, 3, 1, 3, 4, 5, 4, 1, 6, 4, 3, 1, 4, 3, 8, 2, 4, 2, 5, 4, 4, 1, 3, 4, 3, 2, 1, 1, 1, 3, 2, 1, 1, 5, 1, 1, 2, 2, 5, 1, 4, 3, 1, 2, 1, 3, 1, 6, 1, 2, 2, 1, 5, 4, 1, 3, 1, 5, 1, 3, 3, 1, 2, 5, 4, 2, 1, 1, 7, 1, 4, 1, 5, 3, 3, 2, 3, 6, 3, 2, 1, 4, 3, 1, 1, 2, 1, 3, 6, 4, 3, 6, 3, 2, 1, 3, 5, 1, 2, 2, 2, 2, 1, 5, 4, 4, 3, 1, 6, 3, 2, 3, 1, 11, 2, 3, 2, 2, 2, 1, 4, 1, 1, 4, 1, 3, 1, 1, 3, 1, 1, 2, 1, 1, 2, 5, 4, 4, 1, 3, 2, 4, 1, 4, 5, 2, 4, 1, 4, 2, 2, 3, 8, 4], \"Freq\": [0.890862857470606, 0.917966692009864, 0.8336953222572312, 0.8264791520719438, 0.7231033375666557, 0.878573658044451, 0.8603933786375216, 0.7153115009049791, 0.7153115009049791, 0.8055961488356093, 0.8205011260720755, 0.6355081828190812, 0.9007538433412378, 0.7632170551461828, 0.8471683966611679, 0.6668544506525667, 0.5742531069942098, 0.9489682523191246, 0.9811897191391559, 0.8391038773462228, 0.34923351074368986, 0.6984670214873797, 0.9188033904440235, 0.5899661578111618, 1.0172014198687018, 0.7428468896069828, 0.6271429445417687, 0.9656659980989307, 0.9573153904833526, 0.49153404600908124, 0.49153404600908124, 0.8521731294222519, 0.8151379574372899, 0.9097319205591085, 0.849570706694162, 0.6199821675199765, 0.4681068973161215, 0.8294696565095593, 0.556444752217103, 0.7729846612560347, 0.7384501411928408, 0.8400135390012898, 0.7339730758548886, 0.5708504336705335, 0.9604861940683755, 0.6814669488802445, 0.9925876062984685, 0.8429724014451816, 0.6702450601160759, 0.9269334042752148, 0.6622633227070244, 0.5703031139988116, 0.7336498669598904, 0.5800066447807914, 0.9303321843258539, 0.8750479399439771, 0.7970420160059661, 0.6670677679903873, 0.44898945263794426, 0.44898945263794426, 0.8233277604257161, 0.5894633580476597, 1.1045053516315886, 0.7520924398628454, 0.5985475339661575, 0.9584595400983209, 0.8010501271895607, 1.1233799935545092, 0.8169114730339619, 0.9024642017720977, 0.7938237632849134, 0.7417169212999574, 0.7952048371917658, 0.8839022457596273, 1.1452595104625767, 0.8600406783350697, 0.6738345939277071, 0.8939525915813541, 0.6624122884242312, 0.8665150958872553, 0.9855168323424064, 0.7515987392272369, 0.9586424888994647, 0.5839366723306909, 0.5839366723306909, 0.7317635541428363, 0.9350646829884791, 0.7470754839097916, 0.9107054584761606, 1.0346610076021725, 0.9493257776346841, 0.8724065638724985, 0.8023704903660537, 0.9818706845457981, 0.9124640780349458, 0.9957303504524037, 0.7309507599789159, 0.630134543458803, 0.7729868849475519, 1.097724330277295, 0.5831924536219448, 0.7935428086269417, 1.075105252768396, 0.7775289193556133, 0.7024053230195745, 0.8763720328965974, 1.0217125965730218, 0.5557888020279499, 0.5557888020279499, 1.0001579985068645, 0.6269095309955068, 0.5008339682952063, 0.9082597147550279, 1.0067042219037114, 1.0092727814491695, 1.1410447951326868, 0.4665979541408993, 1.066415850004281, 0.7758143523706275, 0.38790717618531373, 0.784679871625945, 1.0374939567762596, 0.7445788443842057, 1.047988336628844, 0.6657873748701513, 0.9712507519811159, 0.18795327786383476, 0.751813111455339, 0.18795327786383476, 0.8662364374612945, 0.9159051212742682, 1.0268904156314096, 0.5632827879457358, 0.8595412237294676, 0.6478567980863249, 0.7555154239165374, 0.7490084092257063, 0.8784553438268652, 0.49979743652183606, 0.49979743652183606, 0.8575493272400411, 0.4425286479091858, 0.4425286479091858, 0.8756387946201027, 0.5817692966884126, 0.5206404832336768, 0.5206404832336768, 0.6769953140321656, 0.9488625161547063, 1.0570750360064765, 0.927214576259013, 0.8792130037073276, 0.7341598765916636, 0.3950782616079633, 0.3950782616079633, 0.9436004891730237, 0.7078185125958761, 0.6794266319370931, 0.4931120659004509, 0.4931120659004509, 1.0265259901784372, 0.8951810210892582, 0.7548513492314814, 0.8968004693959258, 0.7491478491947909, 1.002252602132052, 0.6976359148503123, 0.7048995161590506, 0.8926949263878349, 0.6524432443115286, 0.7609843539624589, 0.25366145132081963, 0.8386329930809915, 0.6609137540031007, 0.33045687700155035, 0.8443370784463097, 0.9458113206453211, 0.9388161409645978, 0.7985021393395706, 0.9918846539694467, 0.9501191189133308, 0.4069280295622632, 0.8138560591245264, 0.6081106717572788, 1.2626542306204092, 0.972151629924258, 1.1186838677707631, 0.8682595160549084, 0.9648469677954704, 0.16287467506055528, 0.8143733753027763, 0.7311040647127311, 0.5686041119696511, 0.4582081009430191, 0.4582081009430191, 1.0303163380814482, 0.8419595235232951, 0.9936016176317956, 0.7183806934532974, 0.5852837263442414, 0.9892988558622468, 0.6651514538221576, 0.6985887035673993, 0.6383184769697156, 1.0533579513138904], \"Term\": [\"advic\", \"agent\", \"alphago\", \"analyt\", \"annot\", \"app\", \"assist\", \"attract\", \"attract\", \"augment\", \"baidu\", \"bank\", \"batch\", \"behaviour\", \"bot\", \"bound\", \"box\", \"caff\", \"camera\", \"car\", \"card\", \"card\", \"centr\", \"chain\", \"chatbot\", \"cheat\", \"child\", \"children\", \"chines\", \"chunk\", \"chunk\", \"civil\", \"cnns\", \"column\", \"commerci\", \"comparison\", \"competit\", \"conveni\", \"coordin\", \"cpus\", \"crazi\", \"cuda\", \"custom\", \"dark\", \"descent\", \"desktop\", \"devic\", \"diagram\", \"dictionari\", \"distanc\", \"distribut\", \"divers\", \"edg\", \"edit\", \"educ\", \"embrac\", \"ensembl\", \"enterpris\", \"entropi\", \"entropi\", \"exponenti\", \"extract\", \"favorit\", \"fear\", \"fiction\", \"float\", \"forest\", \"formul\", \"gaussian\", \"gpus\", \"hair\", \"hello\", \"hierarch\", \"hinton\", \"hire\", \"hous\", \"html\", \"http\", \"https\", \"hyperparamet\", \"incom\", \"innov\", \"inspect\", \"instal\", \"instal\", \"instanc\", \"interview\", \"irrelev\", \"job\", \"kaggl\", \"label\", \"leader\", \"letter\", \"logist\", \"lose\", \"lstm\", \"mario\", \"markov\", \"mask\", \"maxim\", \"meet\", \"messag\", \"microsoft\", \"mnist\", \"money\", \"music\", \"neighbor\", \"netflix\", \"netflix\", \"neuron\", \"nod\", \"nois\", \"numpi\", \"obvious\", \"offlin\", \"organis\", \"outcom\", \"outlier\", \"page\", \"page\", \"panda\", \"parti\", \"passion\", \"percent\", \"percept\", \"phrase\", \"pixel\", \"pixel\", \"pixel\", \"planet\", \"player\", \"plus\", \"polit\", \"pool\", \"practition\", \"prefer\", \"presid\", \"price\", \"propos\", \"propos\", \"race\", \"region\", \"region\", \"relationship\", \"reli\", \"represent\", \"represent\", \"retrain\", \"reward\", \"robot\", \"room\", \"sake\", \"schedul\", \"scikit\", \"scikit\", \"screenshot\", \"secur\", \"seed\", \"segment\", \"segment\", \"semant\", \"send\", \"sentenc\", \"sequenc\", \"sheet\", \"simul\", \"singular\", \"skill\", \"social\", \"song\", \"speech\", \"speech\", \"star\", \"startup\", \"startup\", \"statement\", \"stem\", \"supervis\", \"symbol\", \"synaps\", \"tabl\", \"tag\", \"tag\", \"talent\", \"terribl\", \"threat\", \"titan\", \"titl\", \"transcript\", \"translat\", \"translat\", \"tree\", \"trust\", \"ture\", \"ture\", \"ubuntu\", \"voic\", \"vote\", \"watson\", \"wave\", \"weak\", \"wear\", \"wikipedia\", \"women\", \"young\"]}, \"R\": 10, \"lambda.step\": 0.01, \"plot.opts\": {\"xlab\": \"PC1\", \"ylab\": \"PC2\"}, \"topic.order\": [24, 19, 3, 9, 7, 8, 12, 23, 14, 1, 11, 16, 17, 25, 22, 2, 13, 10, 20, 18, 4, 26, 6, 5, 21, 15, 27]};\n",
              "\n",
              "function LDAvis_load_lib(url, callback){\n",
              "  var s = document.createElement('script');\n",
              "  s.src = url;\n",
              "  s.async = true;\n",
              "  s.onreadystatechange = s.onload = callback;\n",
              "  s.onerror = function(){console.warn(\"failed to load library \" + url);};\n",
              "  document.getElementsByTagName(\"head\")[0].appendChild(s);\n",
              "}\n",
              "\n",
              "if(typeof(LDAvis) !== \"undefined\"){\n",
              "   // already loaded: just create the visualization\n",
              "   !function(LDAvis){\n",
              "       new LDAvis(\"#\" + \"ldavis_el147191399435924311684138572214\", ldavis_el147191399435924311684138572214_data);\n",
              "   }(LDAvis);\n",
              "}else if(typeof define === \"function\" && define.amd){\n",
              "   // require.js is available: use it to load d3/LDAvis\n",
              "   require.config({paths: {d3: \"https://d3js.org/d3.v5\"}});\n",
              "   require([\"d3\"], function(d3){\n",
              "      window.d3 = d3;\n",
              "      LDAvis_load_lib(\"https://cdn.jsdelivr.net/gh/bmabey/pyLDAvis@3.4.0/pyLDAvis/js/ldavis.v3.0.0.js\", function(){\n",
              "        new LDAvis(\"#\" + \"ldavis_el147191399435924311684138572214\", ldavis_el147191399435924311684138572214_data);\n",
              "      });\n",
              "    });\n",
              "}else{\n",
              "    // require.js not available: dynamically load d3 & LDAvis\n",
              "    LDAvis_load_lib(\"https://d3js.org/d3.v5.js\", function(){\n",
              "         LDAvis_load_lib(\"https://cdn.jsdelivr.net/gh/bmabey/pyLDAvis@3.4.0/pyLDAvis/js/ldavis.v3.0.0.js\", function(){\n",
              "                 new LDAvis(\"#\" + \"ldavis_el147191399435924311684138572214\", ldavis_el147191399435924311684138572214_data);\n",
              "            })\n",
              "         });\n",
              "}\n",
              "</script>"
            ],
            "text/plain": [
              "PreparedData(topic_coordinates=              x         y  topics  cluster       Freq\n",
              "topic                                                \n",
              "23    -0.241316  0.060504       1        1  42.463252\n",
              "18     0.020490  0.285076       2        1  20.414802\n",
              "2     -0.006244 -0.286997       3        1  14.855011\n",
              "8      0.189833 -0.105691       4        1   5.115692\n",
              "6      0.147479  0.049431       5        1   2.706327\n",
              "7      0.021966  0.089560       6        1   1.447005\n",
              "11     0.029744 -0.060605       7        1   1.245947\n",
              "22     0.059454  0.017744       8        1   1.206410\n",
              "13    -0.058024 -0.001732       9        1   1.047665\n",
              "0     -0.035692 -0.020694      10        1   0.817433\n",
              "10    -0.020730 -0.039048      11        1   0.801557\n",
              "15    -0.006588 -0.019041      12        1   0.625211\n",
              "16    -0.018505  0.006580      13        1   0.587126\n",
              "24    -0.013034  0.011607      14        1   0.579468\n",
              "21    -0.003181  0.010026      15        1   0.520340\n",
              "1     -0.005116 -0.003961      16        1   0.507156\n",
              "12    -0.002069 -0.001399      17        1   0.501657\n",
              "9     -0.005757  0.003393      18        1   0.484926\n",
              "19    -0.001707  0.002538      19        1   0.483534\n",
              "17    -0.007577  0.000308      20        1   0.470750\n",
              "3     -0.006205  0.000357      21        1   0.445533\n",
              "25    -0.006217  0.000346      22        1   0.445533\n",
              "5     -0.006133  0.000299      23        1   0.445533\n",
              "4     -0.006214  0.000339      24        1   0.445533\n",
              "20    -0.006218  0.000356      25        1   0.445533\n",
              "14    -0.006222  0.000367      26        1   0.445533\n",
              "26    -0.006215  0.000336      27        1   0.445533, topic_info=         Term      Freq     Total Category  logprob  loglift\n",
              "673     pixel  5.000000  5.000000  Default  10.0000  10.0000\n",
              "656    instal  3.000000  3.000000  Default   9.0000   9.0000\n",
              "26    chatbot  5.000000  5.000000  Default   8.0000   8.0000\n",
              "1336    music  2.000000  2.000000  Default   7.0000   7.0000\n",
              "460    neuron  9.000000  9.000000  Default   6.0000   6.0000\n",
              "...       ...       ...       ...      ...      ...      ...\n",
              "1442   chines  0.006532  1.044588  Topic27  -7.4567   0.3390\n",
              "629   diagram  0.006542  2.372557  Topic27  -7.4551  -0.4798\n",
              "922      educ  0.006511  2.149770  Topic27  -7.4600  -0.3860\n",
              "509     batch  0.006514  4.440725  Topic27  -7.4594  -1.1109\n",
              "203    speech  0.006488  3.942262  Topic27  -7.4635  -0.9959\n",
              "\n",
              "[455 rows x 6 columns], token_table=      Topic      Freq       Term\n",
              "term                            \n",
              "407       3  0.890863      advic\n",
              "500       1  0.917967      agent\n",
              "501       3  0.833695    alphago\n",
              "703       1  0.826479     analyt\n",
              "984       8  0.723103      annot\n",
              "...     ...       ...        ...\n",
              "1738      2  0.989299       weak\n",
              "1753      2  0.665151       wear\n",
              "1121      3  0.698589  wikipedia\n",
              "1566      8  0.638318      women\n",
              "1084      4  1.053358      young\n",
              "\n",
              "[205 rows x 3 columns], R=10, lambda_step=0.01, plot_opts={'xlab': 'PC1', 'ylab': 'PC2'}, topic_order=[24, 19, 3, 9, 7, 8, 12, 23, 14, 1, 11, 16, 17, 25, 22, 2, 13, 10, 20, 18, 4, 26, 6, 5, 21, 15, 27])"
            ]
          },
          "execution_count": 47,
          "metadata": {},
          "output_type": "execute_result"
        }
      ],
      "source": [
        "pyLDAvis.enable_notebook()\n",
        "vis = pyLDAvis.gensim_models.prepare(lda_model_tfidf, corpus_tfidf, dictionary, mds=\"mmds\", R=10)\n",
        "vis"
      ]
    },
    {
      "attachments": {},
      "cell_type": "markdown",
      "metadata": {
        "id": "-xxmTyt1KTIk"
      },
      "source": [
        "Performance evaluation by classifying sample document using LDA Bag of Words model"
      ]
    },
    {
      "attachments": {},
      "cell_type": "markdown",
      "metadata": {
        "id": "P-hzi4ap0toN"
      },
      "source": [
        "# SEEING THE TOPIC ALLOCATED TO DOC NUMBER 300"
      ]
    },
    {
      "cell_type": "code",
      "execution_count": null,
      "metadata": {
        "colab": {
          "base_uri": "https://localhost:8080/"
        },
        "id": "YfNJwSC3J-Ol",
        "outputId": "fe19e575-0a17-4672-d7d0-465c0f78105e"
      },
      "outputs": [
        {
          "name": "stdout",
          "output_type": "stream",
          "text": [
            "\n",
            "Score: 0.5042006969451904\t \n",
            "Topic: 0.009*\"neuron\" + 0.006*\"interview\" + 0.006*\"tabl\" + 0.005*\"agent\" + 0.005*\"reward\" + 0.004*\"devic\" + 0.004*\"star\" + 0.004*\"sequenc\" + 0.004*\"batch\" + 0.004*\"price\"\n",
            "\n",
            "Score: 0.25733682513237\t \n",
            "Topic: 0.011*\"chatbot\" + 0.007*\"messag\" + 0.006*\"custom\" + 0.006*\"bot\" + 0.006*\"app\" + 0.006*\"social\" + 0.006*\"job\" + 0.006*\"player\" + 0.006*\"voic\" + 0.005*\"simul\"\n",
            "\n",
            "Score: 0.13824401795864105\t \n",
            "Topic: 0.024*\"page\" + 0.012*\"height\" + 0.011*\"column\" + 0.010*\"relationship\" + 0.010*\"behaviour\" + 0.009*\"visualis\" + 0.007*\"mnist\" + 0.007*\"extract\" + 0.007*\"caff\" + 0.006*\"nod\"\n",
            "\n",
            "Score: 0.08854670822620392\t \n",
            "Topic: 0.013*\"translat\" + 0.012*\"hous\" + 0.010*\"pixel\" + 0.009*\"letter\" + 0.009*\"sentenc\" + 0.008*\"pool\" + 0.007*\"phrase\" + 0.007*\"synaps\" + 0.007*\"relationship\" + 0.007*\"semant\"\n"
          ]
        }
      ],
      "source": [
        "for index, score in sorted(lda_model_tfidf[corpus[300]], key=lambda tup: -1*tup[1]):\n",
        "    print(\"\\nScore: {}\\t \\nTopic: {}\".format(score, lda_model_tfidf.print_topic(index, 10)))"
      ]
    },
    {
      "attachments": {},
      "cell_type": "markdown",
      "metadata": {
        "id": "olkZOzV203jc"
      },
      "source": [
        "# COHERENCE SCORE"
      ]
    },
    {
      "cell_type": "code",
      "execution_count": null,
      "metadata": {
        "colab": {
          "base_uri": "https://localhost:8080/"
        },
        "id": "2STzO1pUXmAG",
        "outputId": "cd65bf47-0136-4a96-c35d-528b84e45abc"
      },
      "outputs": [
        {
          "name": "stdout",
          "output_type": "stream",
          "text": [
            "Coherence Score:  0.4319890072649489\n"
          ]
        }
      ],
      "source": [
        "# Compute Coherence Score\n",
        "coherence_model_lda = CoherenceModel(model=lda_model_tfidf, texts=docs, dictionary=dictionary, coherence='c_v')\n",
        "coherence_lda = coherence_model_lda.get_coherence()\n",
        "print('Coherence Score: ', coherence_lda)"
      ]
    },
    {
      "attachments": {},
      "cell_type": "markdown",
      "metadata": {
        "id": "zbnnlqm7qzx1"
      },
      "source": [
        "# NMF"
      ]
    },
    {
      "attachments": {},
      "cell_type": "markdown",
      "metadata": {
        "id": "IkD4YjfM8YkE"
      },
      "source": [
        "# FINDING BEST NUMBER OF TOPICS FOR NMF"
      ]
    },
    {
      "cell_type": "code",
      "execution_count": null,
      "metadata": {
        "colab": {
          "base_uri": "https://localhost:8080/",
          "height": 469
        },
        "id": "-45QKEHm1C5H",
        "outputId": "928d550a-2220-4cf8-bca7-bb65f121a965"
      },
      "outputs": [
        {
          "data": {
            "image/png": "[encoded data removed]",
            "text/plain": [
              "<Figure size 1080x504 with 1 Axes>"
            ]
          },
          "metadata": {
            "needs_background": "light"
          },
          "output_type": "display_data"
        }
      ],
      "source": [
        "topic_nums = list(np.arange(5, 75 + 1, 5))\n",
        "\n",
        "# Run the nmf model and calculate the coherence score\n",
        "# for each number of topics\n",
        "coherence_scores = []\n",
        "\n",
        "for num in topic_nums:\n",
        "    nmf = Nmf(\n",
        "        corpus=corpus,\n",
        "        num_topics=num,\n",
        "        id2word=dictionary,\n",
        "        chunksize=100,\n",
        "        passes=20,\n",
        "        kappa=.1,\n",
        "        minimum_probability=0.01,\n",
        "        w_max_iter=300,\n",
        "        w_stop_condition=0.0001,\n",
        "        h_max_iter=100,\n",
        "        h_stop_condition=0.001,\n",
        "        eval_every=10,\n",
        "        normalize=True,\n",
        "        random_state=42\n",
        "    )\n",
        "    \n",
        "    # Run the coherence model to get the score\n",
        "    cm = CoherenceModel(\n",
        "        model=nmf,\n",
        "        texts=docs,\n",
        "        dictionary=dictionary,\n",
        "        coherence='c_v'\n",
        "    )\n",
        "    \n",
        "    coherence_scores.append(round(cm.get_coherence(), 5))\n",
        "\n",
        "# Get the number of topics with the highest coherence score\n",
        "scores = list(zip(topic_nums, coherence_scores))\n",
        "best_num_topics = sorted(scores, key=itemgetter(1), reverse=True)[0][0]\n",
        "\n",
        "# Plot the results\n",
        "fig = plt.figure(figsize=(15, 7))\n",
        "\n",
        "plt.plot(\n",
        "    topic_nums,\n",
        "    coherence_scores,\n",
        "    linewidth=3,\n",
        "    color='#4287f5'\n",
        ")\n",
        "\n",
        "plt.xlabel(\"Topic Num\", fontsize=14)\n",
        "plt.ylabel(\"Coherence Score\", fontsize=14)\n",
        "plt.title('Coherence Score by Topic Number - Best Number of Topics: {}'.format(best_num_topics), fontsize=18)\n",
        "plt.xticks(np.arange(5, max(topic_nums) + 1, 5), fontsize=12)\n",
        "plt.yticks(fontsize=12)\n",
        "\n",
        "\n",
        "plt.show()"
      ]
    },
    {
      "cell_type": "code",
      "execution_count": null,
      "metadata": {
        "id": "6ZX6cf7j6Vqp"
      },
      "outputs": [],
      "source": [
        "# Create the tfidf weights\n",
        "tfidf_vectorizer = TfidfVectorizer(\n",
        "    min_df=3,\n",
        "    max_df=0.85,\n",
        "    max_features=5000,\n",
        "    ngram_range=(1, 2),\n",
        "    preprocessor=' '.join\n",
        ")\n",
        "\n",
        "tfidf2 = tfidf_vectorizer.fit_transform(docs)\n",
        "\n",
        "# Save the feature names for later to create topic summaries\n",
        "tfidf_fn = tfidf_vectorizer.get_feature_names_out()\n",
        "\n",
        "# Run the nmf model\n",
        "nmf = NMF(\n",
        "    # n_components=best_num_topics,\n",
        "    n_components=5,\n",
        "    init='nndsvd',\n",
        "    max_iter=500,\n",
        "    l1_ratio=0.0,\n",
        "    solver='cd',\n",
        "    # alpha=0.0,\n",
        "    tol=1e-4,\n",
        "    random_state=42\n",
        ").fit(tfidf2)"
      ]
    },
    {
      "cell_type": "code",
      "execution_count": null,
      "metadata": {
        "id": "eKqXeZ3GQIsJ"
      },
      "outputs": [],
      "source": [
        "filename = '/content/drive/MyDrive/Colab Notebooks/saved_model/finalized_tfidf_vectorizer.sav'\n",
        "pickle.dump(tfidf_vectorizer, open(filename, 'wb'))"
      ]
    },
    {
      "attachments": {},
      "cell_type": "markdown",
      "metadata": {
        "id": "0MVX8qpB9KA5"
      },
      "source": [
        "# TOPICS WITH THEIR WORDS"
      ]
    },
    {
      "cell_type": "code",
      "execution_count": null,
      "metadata": {
        "colab": {
          "base_uri": "https://localhost:8080/",
          "height": 206
        },
        "id": "v56lL9-z660L",
        "outputId": "4e1fc7a1-3fe5-4e25-cf5e-dfbaa5676b27"
      },
      "outputs": [
        {
          "data": {
            "text/html": [
              "\n",
              "  <div id=\"df-46dec360-3245-4b35-97b4-32175cf496d2\">\n",
              "    <div class=\"colab-df-container\">\n",
              "      <div>\n",
              "<style scoped>\n",
              "    .dataframe tbody tr th:only-of-type {\n",
              "        vertical-align: middle;\n",
              "    }\n",
              "\n",
              "    .dataframe tbody tr th {\n",
              "        vertical-align: top;\n",
              "    }\n",
              "\n",
              "    .dataframe thead th {\n",
              "        text-align: right;\n",
              "    }\n",
              "</style>\n",
              "<table border=\"1\" class=\"dataframe\">\n",
              "  <thead>\n",
              "    <tr style=\"text-align: right;\">\n",
              "      <th></th>\n",
              "      <th>0</th>\n",
              "      <th>1</th>\n",
              "      <th>2</th>\n",
              "      <th>3</th>\n",
              "      <th>4</th>\n",
              "      <th>5</th>\n",
              "      <th>6</th>\n",
              "      <th>7</th>\n",
              "      <th>topics</th>\n",
              "    </tr>\n",
              "  </thead>\n",
              "  <tbody>\n",
              "    <tr>\n",
              "      <th>0</th>\n",
              "      <td>network</td>\n",
              "      <td>neural</td>\n",
              "      <td>layer</td>\n",
              "      <td>neural network</td>\n",
              "      <td>neuron</td>\n",
              "      <td>train</td>\n",
              "      <td>weight</td>\n",
              "      <td>output</td>\n",
              "      <td>network neural layer neuron train weight output</td>\n",
              "    </tr>\n",
              "    <tr>\n",
              "      <th>1</th>\n",
              "      <td>machin</td>\n",
              "      <td>human</td>\n",
              "      <td>intellig</td>\n",
              "      <td>data</td>\n",
              "      <td>machin learn</td>\n",
              "      <td>system</td>\n",
              "      <td>peopl</td>\n",
              "      <td>technolog</td>\n",
              "      <td>machin human intellig data learn system peopl ...</td>\n",
              "    </tr>\n",
              "    <tr>\n",
              "      <th>2</th>\n",
              "      <td>action</td>\n",
              "      <td>tabl</td>\n",
              "      <td>reward</td>\n",
              "      <td>polici</td>\n",
              "      <td>state</td>\n",
              "      <td>network</td>\n",
              "      <td>valu</td>\n",
              "      <td>agent</td>\n",
              "      <td>action tabl reward polici state network valu a...</td>\n",
              "    </tr>\n",
              "    <tr>\n",
              "      <th>3</th>\n",
              "      <td>imag</td>\n",
              "      <td>object</td>\n",
              "      <td>model</td>\n",
              "      <td>region</td>\n",
              "      <td>pixel</td>\n",
              "      <td>train</td>\n",
              "      <td>bound</td>\n",
              "      <td>featur</td>\n",
              "      <td>imag object model region pixel train bound featur</td>\n",
              "    </tr>\n",
              "    <tr>\n",
              "      <th>4</th>\n",
              "      <td>instal</td>\n",
              "      <td>gpus</td>\n",
              "      <td>card</td>\n",
              "      <td>lane</td>\n",
              "      <td>model</td>\n",
              "      <td>cuda</td>\n",
              "      <td>motherboard</td>\n",
              "      <td>cpus</td>\n",
              "      <td>instal gpus card lane model cuda motherboard cpus</td>\n",
              "    </tr>\n",
              "  </tbody>\n",
              "</table>\n",
              "</div>\n",
              "      <button class=\"colab-df-convert\" onclick=\"convertToInteractive('df-46dec360-3245-4b35-97b4-32175cf496d2')\"\n",
              "              title=\"Convert this dataframe to an interactive table.\"\n",
              "              style=\"display:none;\">\n",
              "        \n",
              "  <svg xmlns=\"http://www.w3.org/2000/svg\" height=\"24px\"viewBox=\"0 0 24 24\"\n",
              "       width=\"24px\">\n",
              "    <path d=\"M0 0h24v24H0V0z\" fill=\"none\"/>\n",
              "    <path d=\"M18.56 5.44l.94 2.06.94-2.06 2.06-.94-2.06-.94-.94-2.06-.94 2.06-2.06.94zm-11 1L8.5 8.5l.94-2.06 2.06-.94-2.06-.94L8.5 2.5l-.94 2.06-2.06.94zm10 10l.94 2.06.94-2.06 2.06-.94-2.06-.94-.94-2.06-.94 2.06-2.06.94z\"/><path d=\"M17.41 7.96l-1.37-1.37c-.4-.4-.92-.59-1.43-.59-.52 0-1.04.2-1.43.59L10.3 9.45l-7.72 7.72c-.78.78-.78 2.05 0 2.83L4 21.41c.39.39.9.59 1.41.59.51 0 1.02-.2 1.41-.59l7.78-7.78 2.81-2.81c.8-.78.8-2.07 0-2.86zM5.41 20L4 18.59l7.72-7.72 1.47 1.35L5.41 20z\"/>\n",
              "  </svg>\n",
              "      </button>\n",
              "      \n",
              "  <style>\n",
              "    .colab-df-container {\n",
              "      display:flex;\n",
              "      flex-wrap:wrap;\n",
              "      gap: 12px;\n",
              "    }\n",
              "\n",
              "    .colab-df-convert {\n",
              "      background-color: #E8F0FE;\n",
              "      border: none;\n",
              "      border-radius: 50%;\n",
              "      cursor: pointer;\n",
              "      display: none;\n",
              "      fill: #1967D2;\n",
              "      height: 32px;\n",
              "      padding: 0 0 0 0;\n",
              "      width: 32px;\n",
              "    }\n",
              "\n",
              "    .colab-df-convert:hover {\n",
              "      background-color: #E2EBFA;\n",
              "      box-shadow: 0px 1px 2px rgba(60, 64, 67, 0.3), 0px 1px 3px 1px rgba(60, 64, 67, 0.15);\n",
              "      fill: #174EA6;\n",
              "    }\n",
              "\n",
              "    [theme=dark] .colab-df-convert {\n",
              "      background-color: #3B4455;\n",
              "      fill: #D2E3FC;\n",
              "    }\n",
              "\n",
              "    [theme=dark] .colab-df-convert:hover {\n",
              "      background-color: #434B5C;\n",
              "      box-shadow: 0px 1px 3px 1px rgba(0, 0, 0, 0.15);\n",
              "      filter: drop-shadow(0px 1px 2px rgba(0, 0, 0, 0.3));\n",
              "      fill: #FFFFFF;\n",
              "    }\n",
              "  </style>\n",
              "\n",
              "      <script>\n",
              "        const buttonEl =\n",
              "          document.querySelector('#df-46dec360-3245-4b35-97b4-32175cf496d2 button.colab-df-convert');\n",
              "        buttonEl.style.display =\n",
              "          google.colab.kernel.accessAllowed ? 'block' : 'none';\n",
              "\n",
              "        async function convertToInteractive(key) {\n",
              "          const element = document.querySelector('#df-46dec360-3245-4b35-97b4-32175cf496d2');\n",
              "          const dataTable =\n",
              "            await google.colab.kernel.invokeFunction('convertToInteractive',\n",
              "                                                     [key], {});\n",
              "          if (!dataTable) return;\n",
              "\n",
              "          const docLinkHtml = 'Like what you see? Visit the ' +\n",
              "            '<a target=\"_blank\" href=https://colab.research.google.com/notebooks/data_table.ipynb>data table notebook</a>'\n",
              "            + ' to learn more about interactive tables.';\n",
              "          element.innerHTML = '';\n",
              "          dataTable['output_type'] = 'display_data';\n",
              "          await google.colab.output.renderOutput(dataTable, element);\n",
              "          const docLink = document.createElement('div');\n",
              "          docLink.innerHTML = docLinkHtml;\n",
              "          element.appendChild(docLink);\n",
              "        }\n",
              "      </script>\n",
              "    </div>\n",
              "  </div>\n",
              "  "
            ],
            "text/plain": [
              "         0       1         2               3             4        5  \\\n",
              "0  network  neural     layer  neural network        neuron    train   \n",
              "1   machin   human  intellig            data  machin learn   system   \n",
              "2   action    tabl    reward          polici         state  network   \n",
              "3     imag  object     model          region         pixel    train   \n",
              "4   instal    gpus      card            lane         model     cuda   \n",
              "\n",
              "             6          7                                             topics  \n",
              "0       weight     output    network neural layer neuron train weight output  \n",
              "1        peopl  technolog  machin human intellig data learn system peopl ...  \n",
              "2         valu      agent  action tabl reward polici state network valu a...  \n",
              "3        bound     featur  imag object model region pixel train bound featur  \n",
              "4  motherboard       cpus  instal gpus card lane model cuda motherboard cpus  "
            ]
          },
          "execution_count": 65,
          "metadata": {},
          "output_type": "execute_result"
        }
      ],
      "source": [
        "# Use the top words for each cluster by tfidf weight\n",
        "# to create 'topics'\n",
        "\n",
        "# Getting a df with each topic by document\n",
        "docweights = nmf.transform(tfidf_vectorizer.transform(docs))\n",
        "\n",
        "n_top_words = 8\n",
        "\n",
        "topic_df = topic_table(\n",
        "    nmf,\n",
        "    tfidf_fn,\n",
        "    n_top_words\n",
        ").T\n",
        "\n",
        "# Cleaning up the top words to create topic summaries\n",
        "topic_df['topics'] = topic_df.apply(lambda x: [' '.join(x)], axis=1) # Joining each word into a list\n",
        "topic_df['topics'] = topic_df['topics'].str[0]  # Removing the list brackets\n",
        "topic_df['topics'] = topic_df['topics'].apply(lambda x: whitespace_tokenizer(x)) # tokenize\n",
        "topic_df['topics'] = topic_df['topics'].apply(lambda x: unique_words(x))  # Removing duplicate words\n",
        "topic_df['topics'] = topic_df['topics'].apply(lambda x: [' '.join(x)])  # Joining each word into a list\n",
        "topic_df['topics'] = topic_df['topics'].str[0]  # Removing the list brackets\n",
        "\n",
        "topic_df.head()"
      ]
    },
    {
      "cell_type": "code",
      "execution_count": null,
      "metadata": {
        "colab": {
          "base_uri": "https://localhost:8080/",
          "height": 206
        },
        "id": "up7ziQXK8oly",
        "outputId": "6f6edf81-9c41-4109-b799-2cc56bd59ed4"
      },
      "outputs": [
        {
          "data": {
            "text/html": [
              "\n",
              "  <div id=\"df-8c806f5d-1d7c-4e38-a8a8-ab0a32fd79d5\">\n",
              "    <div class=\"colab-df-container\">\n",
              "      <div>\n",
              "<style scoped>\n",
              "    .dataframe tbody tr th:only-of-type {\n",
              "        vertical-align: middle;\n",
              "    }\n",
              "\n",
              "    .dataframe tbody tr th {\n",
              "        vertical-align: top;\n",
              "    }\n",
              "\n",
              "    .dataframe thead th {\n",
              "        text-align: right;\n",
              "    }\n",
              "</style>\n",
              "<table border=\"1\" class=\"dataframe\">\n",
              "  <thead>\n",
              "    <tr style=\"text-align: right;\">\n",
              "      <th></th>\n",
              "      <th>topic_num</th>\n",
              "      <th>topics</th>\n",
              "    </tr>\n",
              "  </thead>\n",
              "  <tbody>\n",
              "    <tr>\n",
              "      <th>0</th>\n",
              "      <td>0</td>\n",
              "      <td>network neural layer neuron train weight output</td>\n",
              "    </tr>\n",
              "    <tr>\n",
              "      <th>1</th>\n",
              "      <td>1</td>\n",
              "      <td>machin human intellig data learn system peopl ...</td>\n",
              "    </tr>\n",
              "    <tr>\n",
              "      <th>2</th>\n",
              "      <td>2</td>\n",
              "      <td>action tabl reward polici state network valu a...</td>\n",
              "    </tr>\n",
              "    <tr>\n",
              "      <th>3</th>\n",
              "      <td>3</td>\n",
              "      <td>imag object model region pixel train bound featur</td>\n",
              "    </tr>\n",
              "    <tr>\n",
              "      <th>4</th>\n",
              "      <td>4</td>\n",
              "      <td>instal gpus card lane model cuda motherboard cpus</td>\n",
              "    </tr>\n",
              "  </tbody>\n",
              "</table>\n",
              "</div>\n",
              "      <button class=\"colab-df-convert\" onclick=\"convertToInteractive('df-8c806f5d-1d7c-4e38-a8a8-ab0a32fd79d5')\"\n",
              "              title=\"Convert this dataframe to an interactive table.\"\n",
              "              style=\"display:none;\">\n",
              "        \n",
              "  <svg xmlns=\"http://www.w3.org/2000/svg\" height=\"24px\"viewBox=\"0 0 24 24\"\n",
              "       width=\"24px\">\n",
              "    <path d=\"M0 0h24v24H0V0z\" fill=\"none\"/>\n",
              "    <path d=\"M18.56 5.44l.94 2.06.94-2.06 2.06-.94-2.06-.94-.94-2.06-.94 2.06-2.06.94zm-11 1L8.5 8.5l.94-2.06 2.06-.94-2.06-.94L8.5 2.5l-.94 2.06-2.06.94zm10 10l.94 2.06.94-2.06 2.06-.94-2.06-.94-.94-2.06-.94 2.06-2.06.94z\"/><path d=\"M17.41 7.96l-1.37-1.37c-.4-.4-.92-.59-1.43-.59-.52 0-1.04.2-1.43.59L10.3 9.45l-7.72 7.72c-.78.78-.78 2.05 0 2.83L4 21.41c.39.39.9.59 1.41.59.51 0 1.02-.2 1.41-.59l7.78-7.78 2.81-2.81c.8-.78.8-2.07 0-2.86zM5.41 20L4 18.59l7.72-7.72 1.47 1.35L5.41 20z\"/>\n",
              "  </svg>\n",
              "      </button>\n",
              "      \n",
              "  <style>\n",
              "    .colab-df-container {\n",
              "      display:flex;\n",
              "      flex-wrap:wrap;\n",
              "      gap: 12px;\n",
              "    }\n",
              "\n",
              "    .colab-df-convert {\n",
              "      background-color: #E8F0FE;\n",
              "      border: none;\n",
              "      border-radius: 50%;\n",
              "      cursor: pointer;\n",
              "      display: none;\n",
              "      fill: #1967D2;\n",
              "      height: 32px;\n",
              "      padding: 0 0 0 0;\n",
              "      width: 32px;\n",
              "    }\n",
              "\n",
              "    .colab-df-convert:hover {\n",
              "      background-color: #E2EBFA;\n",
              "      box-shadow: 0px 1px 2px rgba(60, 64, 67, 0.3), 0px 1px 3px 1px rgba(60, 64, 67, 0.15);\n",
              "      fill: #174EA6;\n",
              "    }\n",
              "\n",
              "    [theme=dark] .colab-df-convert {\n",
              "      background-color: #3B4455;\n",
              "      fill: #D2E3FC;\n",
              "    }\n",
              "\n",
              "    [theme=dark] .colab-df-convert:hover {\n",
              "      background-color: #434B5C;\n",
              "      box-shadow: 0px 1px 3px 1px rgba(0, 0, 0, 0.15);\n",
              "      filter: drop-shadow(0px 1px 2px rgba(0, 0, 0, 0.3));\n",
              "      fill: #FFFFFF;\n",
              "    }\n",
              "  </style>\n",
              "\n",
              "      <script>\n",
              "        const buttonEl =\n",
              "          document.querySelector('#df-8c806f5d-1d7c-4e38-a8a8-ab0a32fd79d5 button.colab-df-convert');\n",
              "        buttonEl.style.display =\n",
              "          google.colab.kernel.accessAllowed ? 'block' : 'none';\n",
              "\n",
              "        async function convertToInteractive(key) {\n",
              "          const element = document.querySelector('#df-8c806f5d-1d7c-4e38-a8a8-ab0a32fd79d5');\n",
              "          const dataTable =\n",
              "            await google.colab.kernel.invokeFunction('convertToInteractive',\n",
              "                                                     [key], {});\n",
              "          if (!dataTable) return;\n",
              "\n",
              "          const docLinkHtml = 'Like what you see? Visit the ' +\n",
              "            '<a target=\"_blank\" href=https://colab.research.google.com/notebooks/data_table.ipynb>data table notebook</a>'\n",
              "            + ' to learn more about interactive tables.';\n",
              "          element.innerHTML = '';\n",
              "          dataTable['output_type'] = 'display_data';\n",
              "          await google.colab.output.renderOutput(dataTable, element);\n",
              "          const docLink = document.createElement('div');\n",
              "          docLink.innerHTML = docLinkHtml;\n",
              "          element.appendChild(docLink);\n",
              "        }\n",
              "      </script>\n",
              "    </div>\n",
              "  </div>\n",
              "  "
            ],
            "text/plain": [
              "   topic_num                                             topics\n",
              "0          0    network neural layer neuron train weight output\n",
              "1          1  machin human intellig data learn system peopl ...\n",
              "2          2  action tabl reward polici state network valu a...\n",
              "3          3  imag object model region pixel train bound featur\n",
              "4          4  instal gpus card lane model cuda motherboard cpus"
            ]
          },
          "execution_count": 66,
          "metadata": {},
          "output_type": "execute_result"
        }
      ],
      "source": [
        "# Create a df with only the created topics and topic num\n",
        "topic_df = topic_df['topics'].reset_index()\n",
        "topic_df.columns = ['topic_num', 'topics']\n",
        "\n",
        "topic_df.head()"
      ]
    },
    {
      "cell_type": "code",
      "execution_count": null,
      "metadata": {
        "id": "LJbuhhOJUuSK"
      },
      "outputs": [],
      "source": [
        "topic_df.to_csv(\"/content/drive/MyDrive/Colab Notebooks/saved_model/topics_data.csv\")"
      ]
    },
    {
      "attachments": {},
      "cell_type": "markdown",
      "metadata": {
        "id": "IIDwkHLt8wRy"
      },
      "source": [
        "# COHERENCE OF NMF"
      ]
    },
    {
      "cell_type": "code",
      "execution_count": null,
      "metadata": {
        "colab": {
          "base_uri": "https://localhost:8080/"
        },
        "id": "G4esdcbw88xF",
        "outputId": "b2be91b7-6dae-4358-c146-797c973e9457"
      },
      "outputs": [
        {
          "name": "stdout",
          "output_type": "stream",
          "text": [
            "Coherence Score 0.5272026853563941\n"
          ]
        }
      ],
      "source": [
        "nmf2 = Nmf(\n",
        "        corpus=corpus,\n",
        "        num_topics=5,\n",
        "        id2word=dictionary,\n",
        "        chunksize=100,\n",
        "        passes=20,\n",
        "        kappa=.1,\n",
        "        minimum_probability=0.01,\n",
        "        w_max_iter=300,\n",
        "        w_stop_condition=0.0001,\n",
        "        h_max_iter=100,\n",
        "        h_stop_condition=0.001,\n",
        "        eval_every=10,\n",
        "        normalize=True,\n",
        "        random_state=42\n",
        "    )\n",
        "\n",
        "cm = CoherenceModel(\n",
        "        model=nmf2,\n",
        "        texts=docs,\n",
        "        dictionary=dictionary,\n",
        "        coherence='c_v'\n",
        "    )\n",
        "\n",
        "print(\"Coherence Score\", cm.get_coherence())"
      ]
    },
    {
      "attachments": {},
      "cell_type": "markdown",
      "metadata": {
        "id": "RWMHCuVf8zSY"
      },
      "source": [
        "# ALLOCATING TOPICS TO ARTICLES"
      ]
    },
    {
      "cell_type": "code",
      "execution_count": null,
      "metadata": {
        "colab": {
          "base_uri": "https://localhost:8080/",
          "height": 423
        },
        "id": "Myqs5Q8UAOsv",
        "outputId": "25722d7e-420c-42f9-ed58-8b6080dc3352"
      },
      "outputs": [
        {
          "data": {
            "text/html": [
              "\n",
              "  <div id=\"df-8514cd99-76a9-483e-ba67-c1961ca980a6\">\n",
              "    <div class=\"colab-df-container\">\n",
              "      <div>\n",
              "<style scoped>\n",
              "    .dataframe tbody tr th:only-of-type {\n",
              "        vertical-align: middle;\n",
              "    }\n",
              "\n",
              "    .dataframe tbody tr th {\n",
              "        vertical-align: top;\n",
              "    }\n",
              "\n",
              "    .dataframe thead th {\n",
              "        text-align: right;\n",
              "    }\n",
              "</style>\n",
              "<table border=\"1\" class=\"dataframe\">\n",
              "  <thead>\n",
              "    <tr style=\"text-align: right;\">\n",
              "      <th></th>\n",
              "      <th>docid</th>\n",
              "      <th>doc</th>\n",
              "      <th>topic_num</th>\n",
              "      <th>topics</th>\n",
              "    </tr>\n",
              "  </thead>\n",
              "  <tbody>\n",
              "    <tr>\n",
              "      <th>0</th>\n",
              "      <td>0</td>\n",
              "      <td>['headlin', 'blare', 'chatbot', 'next', 'thing...</td>\n",
              "      <td>1</td>\n",
              "      <td>machin human intellig data learn system peopl ...</td>\n",
              "    </tr>\n",
              "    <tr>\n",
              "      <th>1</th>\n",
              "      <td>1</td>\n",
              "      <td>['ever', 'find', 'look', 'question', 'concept'...</td>\n",
              "      <td>1</td>\n",
              "      <td>machin human intellig data learn system peopl ...</td>\n",
              "    </tr>\n",
              "    <tr>\n",
              "      <th>2</th>\n",
              "      <td>2</td>\n",
              "      <td>['machin', 'learn', 'increas', 'move', 'hand',...</td>\n",
              "      <td>2</td>\n",
              "      <td>action tabl reward polici state network valu a...</td>\n",
              "    </tr>\n",
              "    <tr>\n",
              "      <th>3</th>\n",
              "      <td>3</td>\n",
              "      <td>['understand', 'machin', 'learn', 'question', ...</td>\n",
              "      <td>1</td>\n",
              "      <td>machin human intellig data learn system peopl ...</td>\n",
              "    </tr>\n",
              "    <tr>\n",
              "      <th>4</th>\n",
              "      <td>4</td>\n",
              "      <td>['want', 'learn', 'appli', 'artifici', 'intell...</td>\n",
              "      <td>2</td>\n",
              "      <td>action tabl reward polici state network valu a...</td>\n",
              "    </tr>\n",
              "    <tr>\n",
              "      <th>...</th>\n",
              "      <td>...</td>\n",
              "      <td>...</td>\n",
              "      <td>...</td>\n",
              "      <td>...</td>\n",
              "    </tr>\n",
              "    <tr>\n",
              "      <th>332</th>\n",
              "      <td>332</td>\n",
              "      <td>['click', 'share', 'articl', 'linkedin', 'skip...</td>\n",
              "      <td>0</td>\n",
              "      <td>network neural layer neuron train weight output</td>\n",
              "    </tr>\n",
              "    <tr>\n",
              "      <th>333</th>\n",
              "      <td>333</td>\n",
              "      <td>['opinion', 'deep', 'neural', 'network', 'mach...</td>\n",
              "      <td>0</td>\n",
              "      <td>network neural layer neuron train weight output</td>\n",
              "    </tr>\n",
              "    <tr>\n",
              "      <th>334</th>\n",
              "      <td>334</td>\n",
              "      <td>['everyon', 'remot', 'tune', 'recent', 'progre...</td>\n",
              "      <td>0</td>\n",
              "      <td>network neural layer neuron train weight output</td>\n",
              "    </tr>\n",
              "    <tr>\n",
              "      <th>335</th>\n",
              "      <td>335</td>\n",
              "      <td>['biggest', 'misconcept', 'around', 'idea', 'd...</td>\n",
              "      <td>0</td>\n",
              "      <td>network neural layer neuron train weight output</td>\n",
              "    </tr>\n",
              "    <tr>\n",
              "      <th>336</th>\n",
              "      <td>336</td>\n",
              "      <td>['believ', 'psychologist', 'philosoph', 'brain...</td>\n",
              "      <td>0</td>\n",
              "      <td>network neural layer neuron train weight output</td>\n",
              "    </tr>\n",
              "  </tbody>\n",
              "</table>\n",
              "<p>337 rows × 4 columns</p>\n",
              "</div>\n",
              "      <button class=\"colab-df-convert\" onclick=\"convertToInteractive('df-8514cd99-76a9-483e-ba67-c1961ca980a6')\"\n",
              "              title=\"Convert this dataframe to an interactive table.\"\n",
              "              style=\"display:none;\">\n",
              "        \n",
              "  <svg xmlns=\"http://www.w3.org/2000/svg\" height=\"24px\"viewBox=\"0 0 24 24\"\n",
              "       width=\"24px\">\n",
              "    <path d=\"M0 0h24v24H0V0z\" fill=\"none\"/>\n",
              "    <path d=\"M18.56 5.44l.94 2.06.94-2.06 2.06-.94-2.06-.94-.94-2.06-.94 2.06-2.06.94zm-11 1L8.5 8.5l.94-2.06 2.06-.94-2.06-.94L8.5 2.5l-.94 2.06-2.06.94zm10 10l.94 2.06.94-2.06 2.06-.94-2.06-.94-.94-2.06-.94 2.06-2.06.94z\"/><path d=\"M17.41 7.96l-1.37-1.37c-.4-.4-.92-.59-1.43-.59-.52 0-1.04.2-1.43.59L10.3 9.45l-7.72 7.72c-.78.78-.78 2.05 0 2.83L4 21.41c.39.39.9.59 1.41.59.51 0 1.02-.2 1.41-.59l7.78-7.78 2.81-2.81c.8-.78.8-2.07 0-2.86zM5.41 20L4 18.59l7.72-7.72 1.47 1.35L5.41 20z\"/>\n",
              "  </svg>\n",
              "      </button>\n",
              "      \n",
              "  <style>\n",
              "    .colab-df-container {\n",
              "      display:flex;\n",
              "      flex-wrap:wrap;\n",
              "      gap: 12px;\n",
              "    }\n",
              "\n",
              "    .colab-df-convert {\n",
              "      background-color: #E8F0FE;\n",
              "      border: none;\n",
              "      border-radius: 50%;\n",
              "      cursor: pointer;\n",
              "      display: none;\n",
              "      fill: #1967D2;\n",
              "      height: 32px;\n",
              "      padding: 0 0 0 0;\n",
              "      width: 32px;\n",
              "    }\n",
              "\n",
              "    .colab-df-convert:hover {\n",
              "      background-color: #E2EBFA;\n",
              "      box-shadow: 0px 1px 2px rgba(60, 64, 67, 0.3), 0px 1px 3px 1px rgba(60, 64, 67, 0.15);\n",
              "      fill: #174EA6;\n",
              "    }\n",
              "\n",
              "    [theme=dark] .colab-df-convert {\n",
              "      background-color: #3B4455;\n",
              "      fill: #D2E3FC;\n",
              "    }\n",
              "\n",
              "    [theme=dark] .colab-df-convert:hover {\n",
              "      background-color: #434B5C;\n",
              "      box-shadow: 0px 1px 3px 1px rgba(0, 0, 0, 0.15);\n",
              "      filter: drop-shadow(0px 1px 2px rgba(0, 0, 0, 0.3));\n",
              "      fill: #FFFFFF;\n",
              "    }\n",
              "  </style>\n",
              "\n",
              "      <script>\n",
              "        const buttonEl =\n",
              "          document.querySelector('#df-8514cd99-76a9-483e-ba67-c1961ca980a6 button.colab-df-convert');\n",
              "        buttonEl.style.display =\n",
              "          google.colab.kernel.accessAllowed ? 'block' : 'none';\n",
              "\n",
              "        async function convertToInteractive(key) {\n",
              "          const element = document.querySelector('#df-8514cd99-76a9-483e-ba67-c1961ca980a6');\n",
              "          const dataTable =\n",
              "            await google.colab.kernel.invokeFunction('convertToInteractive',\n",
              "                                                     [key], {});\n",
              "          if (!dataTable) return;\n",
              "\n",
              "          const docLinkHtml = 'Like what you see? Visit the ' +\n",
              "            '<a target=\"_blank\" href=https://colab.research.google.com/notebooks/data_table.ipynb>data table notebook</a>'\n",
              "            + ' to learn more about interactive tables.';\n",
              "          element.innerHTML = '';\n",
              "          dataTable['output_type'] = 'display_data';\n",
              "          await google.colab.output.renderOutput(dataTable, element);\n",
              "          const docLink = document.createElement('div');\n",
              "          docLink.innerHTML = docLinkHtml;\n",
              "          element.appendChild(docLink);\n",
              "        }\n",
              "      </script>\n",
              "    </div>\n",
              "  </div>\n",
              "  "
            ],
            "text/plain": [
              "     docid                                                doc  topic_num  \\\n",
              "0        0  ['headlin', 'blare', 'chatbot', 'next', 'thing...          1   \n",
              "1        1  ['ever', 'find', 'look', 'question', 'concept'...          1   \n",
              "2        2  ['machin', 'learn', 'increas', 'move', 'hand',...          2   \n",
              "3        3  ['understand', 'machin', 'learn', 'question', ...          1   \n",
              "4        4  ['want', 'learn', 'appli', 'artifici', 'intell...          2   \n",
              "..     ...                                                ...        ...   \n",
              "332    332  ['click', 'share', 'articl', 'linkedin', 'skip...          0   \n",
              "333    333  ['opinion', 'deep', 'neural', 'network', 'mach...          0   \n",
              "334    334  ['everyon', 'remot', 'tune', 'recent', 'progre...          0   \n",
              "335    335  ['biggest', 'misconcept', 'around', 'idea', 'd...          0   \n",
              "336    336  ['believ', 'psychologist', 'philosoph', 'brain...          0   \n",
              "\n",
              "                                                topics  \n",
              "0    machin human intellig data learn system peopl ...  \n",
              "1    machin human intellig data learn system peopl ...  \n",
              "2    action tabl reward polici state network valu a...  \n",
              "3    machin human intellig data learn system peopl ...  \n",
              "4    action tabl reward polici state network valu a...  \n",
              "..                                                 ...  \n",
              "332    network neural layer neuron train weight output  \n",
              "333    network neural layer neuron train weight output  \n",
              "334    network neural layer neuron train weight output  \n",
              "335    network neural layer neuron train weight output  \n",
              "336    network neural layer neuron train weight output  \n",
              "\n",
              "[337 rows x 4 columns]"
            ]
          },
          "execution_count": 46,
          "metadata": {},
          "output_type": "execute_result"
        }
      ],
      "source": [
        "# Creating a temp df with the url and topic num to join on\n",
        "docid = df['docid'].tolist()\n",
        "\n",
        "df_temp = pd.DataFrame({\n",
        "    'docid': docid,\n",
        "    'topic_num': docweights.argmax(axis=1)\n",
        "})\n",
        "\n",
        "# Merging to get the topic num with url\n",
        "merged_topic = df_temp.merge(\n",
        "    topic_df,\n",
        "    on='topic_num',\n",
        "    how='left'\n",
        ")\n",
        "\n",
        "# Merging with the original df\n",
        "df_topics = pd.merge(\n",
        "    df,\n",
        "    merged_topic,\n",
        "    on='docid',\n",
        "    how='left'\n",
        ")\n",
        "\n",
        "# df_topics = df_topics.drop(\n",
        "#     'processed_text',\n",
        "#     axis=1\n",
        "# )\n",
        "\n",
        "df_topics"
      ]
    },
    {
      "attachments": {},
      "cell_type": "markdown",
      "metadata": {
        "id": "E2bU8w0n82-k"
      },
      "source": [
        "# ORIGINAL MATRIX A\n",
        "# W has the topics\n",
        "# H has the weights of the topics"
      ]
    },
    {
      "cell_type": "code",
      "execution_count": null,
      "metadata": {
        "colab": {
          "base_uri": "https://localhost:8080/"
        },
        "id": "ufsE-8hMDgZ7",
        "outputId": "c426fec5-fc21-4ef5-9a00-87a7cdd007b5"
      },
      "outputs": [
        {
          "name": "stdout",
          "output_type": "stream",
          "text": [
            "A = 337 x 5000\n",
            "W = 5 x 5000\n",
            "H = 337 x 5\n"
          ]
        }
      ],
      "source": [
        "# Showing the 3 matrices we get witn nmf\n",
        "A = tfidf_vectorizer.transform(docs)\n",
        "W = nmf.components_\n",
        "H = nmf.transform(A)\n",
        "\n",
        "print('A = {} x {}'.format(A.shape[0], A.shape[1]))\n",
        "print('W = {} x {}'.format(W.shape[0], W.shape[1]))\n",
        "print('H = {} x {}'.format(H.shape[0], H.shape[1]))"
      ]
    },
    {
      "cell_type": "code",
      "execution_count": null,
      "metadata": {
        "colab": {
          "base_uri": "https://localhost:8080/",
          "height": 36
        },
        "id": "tox-0ffeDkK4",
        "outputId": "1b91c89c-1d48-4fc3-9853-19605e900459"
      },
      "outputs": [
        {
          "data": {
            "application/vnd.google.colaboratory.intrinsic+json": {
              "type": "string"
            },
            "text/plain": [
              "'Sum of the squared residuals is 317.748'"
            ]
          },
          "execution_count": 48,
          "metadata": {},
          "output_type": "execute_result"
        }
      ],
      "source": [
        "# Get the residuals for each document\n",
        "r = np.zeros(A.shape[0])\n",
        "\n",
        "for row in range(A.shape[0]):\n",
        "    r[row] = np.linalg.norm(A[row, :] - H[row, :].dot(W), 'fro')\n",
        "\n",
        "sum_sqrt_res = round(sum(np.sqrt(r)), 3)\n",
        "'Sum of the squared residuals is {}'.format(sum_sqrt_res)"
      ]
    },
    {
      "attachments": {},
      "cell_type": "markdown",
      "metadata": {
        "id": "Sha4xs9X9C5h"
      },
      "source": [
        "# TOPIC WISE RESIDUALS\n",
        "# CLOSER TO 0 BETTER"
      ]
    },
    {
      "cell_type": "code",
      "execution_count": null,
      "metadata": {
        "colab": {
          "base_uri": "https://localhost:8080/",
          "height": 470
        },
        "id": "EmxvCfq4Dxpm",
        "outputId": "77ba3d7e-f38b-4492-d411-af83842d5ace"
      },
      "outputs": [
        {
          "data": {
            "image/png": "[encoded data removed]",
            "text/plain": [
              "<Figure size 1440x504 with 1 Axes>"
            ]
          },
          "metadata": {
            "needs_background": "light"
          },
          "output_type": "display_data"
        }
      ],
      "source": [
        "# Add the residuals to the df\n",
        "df_topics['resid'] = r\n",
        "\n",
        "# Get the avg residual by topic\n",
        "resid_data = df_topics[[\n",
        "    'topic_num',\n",
        "    'resid'\n",
        "]].groupby('topic_num').mean().sort_values(by='resid')\n",
        "\n",
        "# Plot a bar chart for the avg. residuls by topic\n",
        "fig = plt.figure(figsize=(20,7))\n",
        "\n",
        "x = resid_data.index\n",
        "y = resid_data['resid']\n",
        "    \n",
        "g = sns.barplot(\n",
        "    x=x,\n",
        "    y=y,\n",
        "    order=x,\n",
        "    palette='rocket'\n",
        ")\n",
        "\n",
        "g.set_xticklabels(\n",
        "    g.get_xticklabels(),\n",
        "    fontsize=14\n",
        ")\n",
        "\n",
        "plt.yticks(fontsize=14)\n",
        "plt.xlabel('Topic Number', fontsize=14)\n",
        "plt.ylabel('Residual', fontsize=14)\n",
        "plt.title('Avg. Residuals by Topic Number', fontsize=17)\n",
        "\n",
        "\n",
        "\n",
        "plt.show()"
      ]
    },
    {
      "cell_type": "code",
      "execution_count": null,
      "metadata": {
        "id": "zkqdN2svAA-e"
      },
      "outputs": [],
      "source": [
        "testdocs=[\"Machine learning is a very important domain of study and can help solve real life problems\",\n",
        "          \"The state government is imposing restrictions from tomorrow\", \n",
        "          \"The natural language process consists of the training and testing phases\", \n",
        "          ]"
      ]
    },
    {
      "cell_type": "code",
      "execution_count": null,
      "metadata": {
        "colab": {
          "base_uri": "https://localhost:8080/"
        },
        "id": "TFS7gpLN1G07",
        "outputId": "d4ce3de1-9183-4c54-f44b-c3f7a2345756"
      },
      "outputs": [
        {
          "name": "stdout",
          "output_type": "stream",
          "text": [
            "1    machin human intellig data learn system peopl ...\n",
            "Name: topics, dtype: object\n",
            "2    action tabl reward polici state network valu a...\n",
            "Name: topics, dtype: object\n",
            "1    machin human intellig data learn system peopl ...\n",
            "Name: topics, dtype: object\n"
          ]
        }
      ],
      "source": [
        "for i in testdocs:\n",
        "  i=[preprocess(i)]\n",
        "  testweight = nmf.transform(tfidf_vectorizer.transform(i))\n",
        "  # topic_df[\"topics\"][testweight.argmax(axis=1)[0]]\n",
        "  print(topic_df[\"topics\"][[testweight.argmax(axis=1)][0]])"
      ]
    },
    {
      "cell_type": "code",
      "execution_count": null,
      "metadata": {
        "id": "pnCCNOUd9j0O"
      },
      "outputs": [],
      "source": [
        "filename = '/content/drive/MyDrive/Colab Notebooks/saved_model/finalized_model.sav'\n",
        "pickle.dump(nmf, open(filename, 'wb'))"
      ]
    },
    {
      "cell_type": "code",
      "execution_count": null,
      "metadata": {
        "id": "i1gOuFYYD3nu"
      },
      "outputs": [],
      "source": [
        "loaded_model = pickle.load(open('/content/drive/MyDrive/Colab Notebooks/saved_model/finalized_model.sav', 'rb'))\n",
        "loaded_vectorizer=pickle.load(open('/content/drive/MyDrive/Colab Notebooks/saved_model/finalized_tfidf_vectorizer.sav', 'rb'))\n",
        "i=[preprocess(\"Machine learning is a very important domain of study and can help solve real life problems\")]\n",
        "testweight = loaded_model.transform(loaded_vectorizer.transform(i))"
      ]
    },
    {
      "cell_type": "code",
      "execution_count": null,
      "metadata": {
        "colab": {
          "base_uri": "https://localhost:8080/",
          "height": 36
        },
        "id": "6i7ZqvKJNGp-",
        "outputId": "8a8097f7-64f8-4863-d824-026f22516667"
      },
      "outputs": [
        {
          "data": {
            "application/vnd.google.colaboratory.intrinsic+json": {
              "type": "string"
            },
            "text/plain": [
              "'machin human intellig data learn system peopl technolog'"
            ]
          },
          "execution_count": 68,
          "metadata": {},
          "output_type": "execute_result"
        }
      ],
      "source": [
        "topic_df[\"topics\"][testweight.argmax(axis=1)[0]]"
      ]
    },
    {
      "attachments": {},
      "cell_type": "markdown",
      "metadata": {
        "id": "yN9lPEZjVF4s"
      },
      "source": [
        "# **creating real time topic modeller**"
      ]
    },
    {
      "cell_type": "code",
      "execution_count": null,
      "metadata": {
        "colab": {
          "base_uri": "https://localhost:8080/",
          "height": 831
        },
        "id": "pxRmVF6Xbh_x",
        "outputId": "ad3a2e5a-31c6-4817-e538-c9dedb17828c"
      },
      "outputs": [
        {
          "name": "stdout",
          "output_type": "stream",
          "text": [
            "Enter doc: Machine learning is a very important domain of study and can help solve real life problems\n",
            "Topic:  machin human intellig data learn system peopl technolog \n",
            "\n",
            "Enter doc: The state government is imposing restrictions from tomorrow\n",
            "Topic:  action tabl reward polici state network valu agent \n",
            "\n",
            "Enter doc: nueral network is nice\n",
            "Topic:  network neural layer neuron train weight output \n",
            "\n",
            "Enter doc: train your model\n",
            "Topic:  instal gpus card lane model cuda motherboard cpus \n",
            "\n",
            "Enter doc: computer is important\n",
            "Topic:  machin human intellig data learn system peopl technolog \n",
            "\n",
            "Enter doc: computer is slow because of its age\n",
            "Topic:  machin human intellig data learn system peopl technolog \n",
            "\n",
            "Enter doc: computer is slow\n",
            "Topic:  machin human intellig data learn system peopl technolog \n",
            "\n",
            "Enter doc: processor is slow \n",
            "Topic:  instal gpus card lane model cuda motherboard cpus \n",
            "\n"
          ]
        },
        {
          "ename": "KeyboardInterrupt",
          "evalue": "ignored",
          "output_type": "error",
          "traceback": [
            "\u001b[0;31m---------------------------------------------------------------------------\u001b[0m",
            "\u001b[0;31mKeyboardInterrupt\u001b[0m                         Traceback (most recent call last)",
            "\u001b[0;32m<ipython-input-73-6cf8c0aec3a9>\u001b[0m in \u001b[0;36m<module>\u001b[0;34m\u001b[0m\n\u001b[1;32m      3\u001b[0m \u001b[0mtopic_df\u001b[0m\u001b[0;34m=\u001b[0m\u001b[0mpd\u001b[0m\u001b[0;34m.\u001b[0m\u001b[0mread_csv\u001b[0m\u001b[0;34m(\u001b[0m\u001b[0;34m\"/content/drive/MyDrive/Colab Notebooks/saved_model/topics_data.csv\"\u001b[0m\u001b[0;34m)\u001b[0m\u001b[0;34m\u001b[0m\u001b[0;34m\u001b[0m\u001b[0m\n\u001b[1;32m      4\u001b[0m \u001b[0;32mwhile\u001b[0m\u001b[0;34m(\u001b[0m\u001b[0;36m1\u001b[0m\u001b[0;34m)\u001b[0m\u001b[0;34m:\u001b[0m\u001b[0;34m\u001b[0m\u001b[0;34m\u001b[0m\u001b[0m\n\u001b[0;32m----> 5\u001b[0;31m     \u001b[0mdoc\u001b[0m\u001b[0;34m=\u001b[0m\u001b[0minput\u001b[0m\u001b[0;34m(\u001b[0m\u001b[0;34m\"Enter doc: \"\u001b[0m\u001b[0;34m)\u001b[0m\u001b[0;34m\u001b[0m\u001b[0;34m\u001b[0m\u001b[0m\n\u001b[0m\u001b[1;32m      6\u001b[0m     \u001b[0mdoc\u001b[0m\u001b[0;34m=\u001b[0m\u001b[0;34m[\u001b[0m\u001b[0mpreprocess\u001b[0m\u001b[0;34m(\u001b[0m\u001b[0mdoc\u001b[0m\u001b[0;34m)\u001b[0m\u001b[0;34m]\u001b[0m\u001b[0;34m\u001b[0m\u001b[0;34m\u001b[0m\u001b[0m\n\u001b[1;32m      7\u001b[0m     \u001b[0mtestweight\u001b[0m \u001b[0;34m=\u001b[0m \u001b[0mloaded_model\u001b[0m\u001b[0;34m.\u001b[0m\u001b[0mtransform\u001b[0m\u001b[0;34m(\u001b[0m\u001b[0mloaded_vectorizer\u001b[0m\u001b[0;34m.\u001b[0m\u001b[0mtransform\u001b[0m\u001b[0;34m(\u001b[0m\u001b[0mdoc\u001b[0m\u001b[0;34m)\u001b[0m\u001b[0;34m)\u001b[0m\u001b[0;34m\u001b[0m\u001b[0;34m\u001b[0m\u001b[0m\n",
            "\u001b[0;32m/usr/local/lib/python3.9/dist-packages/ipykernel/kernelbase.py\u001b[0m in \u001b[0;36mraw_input\u001b[0;34m(self, prompt)\u001b[0m\n\u001b[1;32m    858\u001b[0m                 \u001b[0;34m\"raw_input was called, but this frontend does not support input requests.\"\u001b[0m\u001b[0;34m\u001b[0m\u001b[0;34m\u001b[0m\u001b[0m\n\u001b[1;32m    859\u001b[0m             )\n\u001b[0;32m--> 860\u001b[0;31m         return self._input_request(str(prompt),\n\u001b[0m\u001b[1;32m    861\u001b[0m             \u001b[0mself\u001b[0m\u001b[0;34m.\u001b[0m\u001b[0m_parent_ident\u001b[0m\u001b[0;34m,\u001b[0m\u001b[0;34m\u001b[0m\u001b[0;34m\u001b[0m\u001b[0m\n\u001b[1;32m    862\u001b[0m             \u001b[0mself\u001b[0m\u001b[0;34m.\u001b[0m\u001b[0m_parent_header\u001b[0m\u001b[0;34m,\u001b[0m\u001b[0;34m\u001b[0m\u001b[0;34m\u001b[0m\u001b[0m\n",
            "\u001b[0;32m/usr/local/lib/python3.9/dist-packages/ipykernel/kernelbase.py\u001b[0m in \u001b[0;36m_input_request\u001b[0;34m(self, prompt, ident, parent, password)\u001b[0m\n\u001b[1;32m    902\u001b[0m             \u001b[0;32mexcept\u001b[0m \u001b[0mKeyboardInterrupt\u001b[0m\u001b[0;34m:\u001b[0m\u001b[0;34m\u001b[0m\u001b[0;34m\u001b[0m\u001b[0m\n\u001b[1;32m    903\u001b[0m                 \u001b[0;31m# re-raise KeyboardInterrupt, to truncate traceback\u001b[0m\u001b[0;34m\u001b[0m\u001b[0;34m\u001b[0m\u001b[0m\n\u001b[0;32m--> 904\u001b[0;31m                 \u001b[0;32mraise\u001b[0m \u001b[0mKeyboardInterrupt\u001b[0m\u001b[0;34m(\u001b[0m\u001b[0;34m\"Interrupted by user\"\u001b[0m\u001b[0;34m)\u001b[0m \u001b[0;32mfrom\u001b[0m \u001b[0;32mNone\u001b[0m\u001b[0;34m\u001b[0m\u001b[0;34m\u001b[0m\u001b[0m\n\u001b[0m\u001b[1;32m    905\u001b[0m             \u001b[0;32mexcept\u001b[0m \u001b[0mException\u001b[0m \u001b[0;32mas\u001b[0m \u001b[0me\u001b[0m\u001b[0;34m:\u001b[0m\u001b[0;34m\u001b[0m\u001b[0;34m\u001b[0m\u001b[0m\n\u001b[1;32m    906\u001b[0m                 \u001b[0mself\u001b[0m\u001b[0;34m.\u001b[0m\u001b[0mlog\u001b[0m\u001b[0;34m.\u001b[0m\u001b[0mwarning\u001b[0m\u001b[0;34m(\u001b[0m\u001b[0;34m\"Invalid Message:\"\u001b[0m\u001b[0;34m,\u001b[0m \u001b[0mexc_info\u001b[0m\u001b[0;34m=\u001b[0m\u001b[0;32mTrue\u001b[0m\u001b[0;34m)\u001b[0m\u001b[0;34m\u001b[0m\u001b[0;34m\u001b[0m\u001b[0m\n",
            "\u001b[0;31mKeyboardInterrupt\u001b[0m: Interrupted by user"
          ]
        }
      ],
      "source": [
        "loaded_model = pickle.load(open('/content/drive/MyDrive/Colab Notebooks/saved_model/finalized_model.sav', 'rb'))\n",
        "loaded_vectorizer=pickle.load(open('/content/drive/MyDrive/Colab Notebooks/saved_model/finalized_tfidf_vectorizer.sav', 'rb'))\n",
        "topic_df=pd.read_csv(\"/content/drive/MyDrive/Colab Notebooks/saved_model/topics_data.csv\")\n",
        "while(1):\n",
        "    doc=input(\"Enter doc: \")\n",
        "    doc=[preprocess(doc)]\n",
        "    testweight = loaded_model.transform(loaded_vectorizer.transform(doc))\n",
        "    print(\"Topic: \",topic_df[\"topics\"][testweight.argmax(axis=1)[0]], \"\\n\")\n"
      ]
    },
    {
      "attachments": {},
      "cell_type": "markdown",
      "metadata": {
        "id": "LzsjpGRowO-q"
      },
      "source": [
        "# **Article Recommendation**"
      ]
    },
    {
      "cell_type": "code",
      "execution_count": null,
      "metadata": {
        "id": "C7XVnB6cwOsd"
      },
      "outputs": [],
      "source": [
        "words_list=list(chain.from_iterable(docs))"
      ]
    },
    {
      "cell_type": "code",
      "execution_count": null,
      "metadata": {
        "id": "Ky4hwuEEnMCG"
      },
      "outputs": [],
      "source": [
        "# Cosine similarity\n",
        "def cosine_sim(text1, text2):\n",
        "    tfidf_score = TfidfVectorizer().fit_transform([text1, text2])\n",
        "    return ((tfidf_score * tfidf_score.T).A)[0, 1]\n",
        "\n",
        "# Most similar article\n",
        "def closest_doc_name(sentence, docs):\n",
        "    cos = []\n",
        "    for i in range(len(docs)):\n",
        "        cos.append(cosine_sim(', '.join(sentence.split(' ')),', '.join(docs[i])))\n",
        "    return [titles[x] for x in np.argsort(cos)[-10:][::-1]]"
      ]
    },
    {
      "cell_type": "code",
      "execution_count": null,
      "metadata": {
        "colab": {
          "base_uri": "https://localhost:8080/"
        },
        "id": "wO27hoGyn-No",
        "outputId": "c78675cb-cea9-4f10-c06b-c7cd7338f903"
      },
      "outputs": [
        {
          "data": {
            "text/plain": [
              "['“WTH does a neural network even learn??” — a newcomer’s dilemma',\n",
              " 'I scheduled 1,019 meetings in 2012 — and that doesn’t count reschedules — x.ai',\n",
              " 'Formalizing indirect normativity – AI Alignment',\n",
              " 'Emotional Computing – Robbie Tilton – Medium',\n",
              " 'Becoming a Cyborg should be taken gently: Of Modern Bio-Paleo-Machines — Cyborgology',\n",
              " 'why you just can’t black box an a.i. – [ weird things ]',\n",
              " 'why do we want to build a fully fledged a.g.i.? – [ weird things ]',\n",
              " 'New to Machine Learning? Avoid these three mistakes',\n",
              " 'Classifying Websites with Neural Networks – Knowledge from Data: The Datafiniti Blog',\n",
              " 'Is there a future for innovation ? – Becoming Human: Artificial Intelligence Magazine']"
            ]
          },
          "execution_count": 24,
          "metadata": {},
          "output_type": "execute_result"
        }
      ],
      "source": [
        "closest_doc_name('sports', docs)"
      ]
    }
  ],
  "metadata": {
    "colab": {
      "provenance": []
    },
    "kernelspec": {
      "display_name": "Python 3",
      "name": "python3"
    },
    "language_info": {
      "codemirror_mode": {
        "name": "ipython",
        "version": 3
      },
      "file_extension": ".py",
      "mimetype": "text/x-python",
      "name": "python",
      "nbconvert_exporter": "python",
      "pygments_lexer": "ipython3",
      "version": "3.10.5"
    }
  },
  "nbformat": 4,
  "nbformat_minor": 0
}
